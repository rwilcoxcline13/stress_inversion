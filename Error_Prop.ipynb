{
 "cells": [
  {
   "cell_type": "code",
   "execution_count": 1,
   "metadata": {
    "collapsed": false
   },
   "outputs": [],
   "source": [
    "import numpy as np\n",
    "import sympy as sym\n",
    "from sympy import init_printing\n",
    "\n"
   ]
  },
  {
   "cell_type": "code",
   "execution_count": 2,
   "metadata": {
    "collapsed": true
   },
   "outputs": [],
   "source": [
    "def rotation_matrix(axis, rotation_angle):\n",
    "    \n",
    "    a = sym.cos(rotation_angle/2)\n",
    "    b = -axis[0]*sym.sin(rotation_angle/2)\n",
    "    c = -axis[1]*sym.sin(rotation_angle/2)\n",
    "    d = -axis[2]*sym.sin(rotation_angle/2)\n",
    "    \n",
    "    R = sym.Matrix([[a**2+b**2-c**2-d**2, 2*(b*c-a*d), 2*(b*d+a*c)],[2*(b*c+a*d), a**2+c**2-b**2-d**2, 2*(c*d-a*b)],[2*(b*d-a*c), 2*(c*d+a*b), (a**2+d**2-b**2-c**2)]])\n",
    "\n",
    "    \n",
    "    return R\n",
    "\n"
   ]
  },
  {
   "cell_type": "code",
   "execution_count": 3,
   "metadata": {
    "collapsed": false
   },
   "outputs": [],
   "source": [
    "axis_1 = sym.Matrix([[0], [0], [1]])\n",
    "y =  sym.Matrix([[0], [-1], [0]])\n",
    "x =  sym.Matrix([[1], [0], [0]])\n",
    "\n"
   ]
  },
  {
   "cell_type": "code",
   "execution_count": 4,
   "metadata": {
    "collapsed": false
   },
   "outputs": [],
   "source": [
    "Rphi = rotation_matrix(axis_1, sym.symbols('phi') )\n",
    "yp = Rphi*y\n",
    "Rtheta = rotation_matrix(yp, sym.symbols('theta'))\n",
    "Ri = sym.trigsimp(Rtheta*Rphi)\n",
    "xpp = sym.trigsimp(Ri*x)\n",
    "Rrho = rotation_matrix(xpp, sym.symbols('rho'))\n",
    "Rstress = Rrho*Ri\n",
    "Rstress = sym.trigsimp(Rstress)\n",
    "\n"
   ]
  },
  {
   "cell_type": "code",
   "execution_count": 5,
   "metadata": {
    "collapsed": false
   },
   "outputs": [],
   "source": [
    "sigma1, sigma2, sigma3 = sym.symbols(['sigma_1','sigma_2','sigma_3'])\n",
    "pstress = sym.Matrix([[sigma1, 0 , 0], [0, sigma2, 0], [0, 0, sigma3]])\n",
    "RstressT = sym.Transpose(Rstress)\n",
    "RstressT = sym.trigsimp(RstressT)\n"
   ]
  },
  {
   "cell_type": "code",
   "execution_count": 6,
   "metadata": {
    "collapsed": false
   },
   "outputs": [],
   "source": [
    "stressgeo = Rstress*pstress*Rstress.T"
   ]
  },
  {
   "cell_type": "code",
   "execution_count": 7,
   "metadata": {
    "collapsed": true
   },
   "outputs": [],
   "source": [
    "stressgeo = sym.trigsimp(stressgeo)"
   ]
  },
  {
   "cell_type": "code",
   "execution_count": 8,
   "metadata": {
    "collapsed": false
   },
   "outputs": [],
   "source": [
    "strike, dip = sym.symbols(['xi', 'delta'])\n",
    "ynew = sym.Matrix([[0], [1], [0]])\n",
    "Rstrike = rotation_matrix(axis_1, strike)\n",
    "ypp = sym.trigsimp(Rstrike*ynew)\n",
    "Rdip = rotation_matrix(ypp, dip)\n",
    "Rfault = Rdip*Rstrike\n",
    "Rfault = sym.trigsimp(Rfault)\n",
    "sigmafault = Rfault*stressgeo*Rfault.T\n"
   ]
  },
  {
   "cell_type": "code",
   "execution_count": 9,
   "metadata": {
    "collapsed": false
   },
   "outputs": [],
   "source": [
    "taunormal = sigmafault[2, 2]\n",
    "taudip = sigmafault[1, 2]\n",
    "taustrike = sigmafault[0, 2]\n"
   ]
  },
  {
   "cell_type": "code",
   "execution_count": 20,
   "metadata": {
    "collapsed": false
   },
   "outputs": [],
   "source": [
    "taudip = -sym.trigsimp(taudip)"
   ]
  },
  {
   "cell_type": "code",
   "execution_count": 21,
   "metadata": {
    "collapsed": false
   },
   "outputs": [],
   "source": [
    "taustrike = sym.trigsimp(taustrike)"
   ]
  },
  {
   "cell_type": "code",
   "execution_count": 22,
   "metadata": {
    "collapsed": true
   },
   "outputs": [],
   "source": [
    "slip = sym.trigsimp(taudip/taustrike)"
   ]
  },
  {
   "cell_type": "code",
   "execution_count": 23,
   "metadata": {
    "collapsed": true
   },
   "outputs": [],
   "source": [
    "rake = sym.atan(slip)"
   ]
  },
  {
   "cell_type": "code",
   "execution_count": 24,
   "metadata": {
    "collapsed": true
   },
   "outputs": [],
   "source": [
    "drakeddip = sym.diff(rake, dip)"
   ]
  },
  {
   "cell_type": "code",
   "execution_count": 19,
   "metadata": {
    "collapsed": false
   },
   "outputs": [
    {
     "name": "stdout",
     "output_type": "stream",
     "text": [
      "((-sigma_1*(-sin(phi - 2*theta) + sin(phi + 2*theta))/4 - sigma_2*(-2*sin(phi)*sin(rho/2)**2 + sin(phi) - sin(rho)*sin(theta)*cos(phi))*sin(rho)*cos(theta) + sigma_3*(sin(phi)*sin(rho) + sin(theta)*cos(phi)*cos(rho))*cos(rho)*cos(theta))*sin(delta)*sin(xi) - (sigma_1*cos(phi)**2*cos(theta)**2 + sigma_2*(-2*sin(phi)*cos(rho/2)**2 + sin(phi) + sin(rho)*sin(theta)*cos(phi))**2 + sigma_3*(sin(phi)*sin(rho) + sin(theta)*cos(phi)*cos(rho))**2)*sin(xi)*cos(delta) + (-sigma_1*sin(phi)*cos(phi)*cos(theta)**2 + sigma_2*(-2*sin(phi)*sin(rho/2)**2 + sin(phi) - sin(rho)*sin(theta)*cos(phi))*(sin(phi)*sin(rho)*sin(theta) - 2*sin(rho/2)**2*cos(phi) + cos(phi)) + sigma_3*(sin(phi)*sin(rho) + sin(theta)*cos(phi)*cos(rho))*(-sin(phi)*sin(theta)*cos(rho) + sin(rho)*cos(phi)))*cos(xi))*sin(delta) + (-(-sigma_1*(-sin(phi - 2*theta) + sin(phi + 2*theta))/4 - sigma_2*(-2*sin(phi)*sin(rho/2)**2 + sin(phi) - sin(rho)*sin(theta)*cos(phi))*sin(rho)*cos(theta) + sigma_3*(sin(phi)*sin(rho) + sin(theta)*cos(phi)*cos(rho))*cos(rho)*cos(theta))*sin(xi)*cos(delta) + (sigma_1*(cos(phi - 2*theta) - cos(phi + 2*theta))/4 - sigma_2*(sin(phi)*sin(rho)*sin(theta) - 2*sin(rho/2)**2*cos(phi) + cos(phi))*sin(rho)*cos(theta) + sigma_3*(-sin(phi)*sin(theta)*cos(rho) + sin(rho)*cos(phi))*cos(rho)*cos(theta))*cos(xi) + (sigma_1*sin(theta)**2 + sigma_2*sin(rho)**2*cos(theta)**2 + sigma_3*cos(rho)**2*cos(theta)**2)*sin(delta)*sin(xi))*cos(delta)\n"
     ]
    }
   ],
   "source": [
    "print(taudip)"
   ]
  },
  {
   "cell_type": "code",
   "execution_count": 26,
   "metadata": {
    "collapsed": false
   },
   "outputs": [
    {
     "name": "stdout",
     "output_type": "stream",
     "text": [
      "-(-(-((-sigma_1*(-sin(phi - 2*theta) + sin(phi + 2*theta))/4 - sigma_2*(-2*sin(phi)*sin(rho/2)**2 + sin(phi) - sin(rho)*sin(theta)*cos(phi))*sin(rho)*cos(theta) + sigma_3*(sin(phi)*sin(rho) + sin(theta)*cos(phi)*cos(rho))*cos(rho)*cos(theta))*sin(delta)*sin(xi) - (sigma_1*cos(phi)**2*cos(theta)**2 + sigma_2*(-2*sin(phi)*cos(rho/2)**2 + sin(phi) + sin(rho)*sin(theta)*cos(phi))**2 + sigma_3*(sin(phi)*sin(rho) + sin(theta)*cos(phi)*cos(rho))**2)*sin(xi)*cos(delta) + (-sigma_1*sin(phi)*cos(phi)*cos(theta)**2 + sigma_2*(-2*sin(phi)*sin(rho/2)**2 + sin(phi) - sin(rho)*sin(theta)*cos(phi))*(sin(phi)*sin(rho)*sin(theta) - 2*sin(rho/2)**2*cos(phi) + cos(phi)) + sigma_3*(sin(phi)*sin(rho) + sin(theta)*cos(phi)*cos(rho))*(-sin(phi)*sin(theta)*cos(rho) + sin(rho)*cos(phi)))*cos(xi))*sin(delta) - (-(-sigma_1*(-sin(phi - 2*theta) + sin(phi + 2*theta))/4 - sigma_2*(-2*sin(phi)*sin(rho/2)**2 + sin(phi) - sin(rho)*sin(theta)*cos(phi))*sin(rho)*cos(theta) + sigma_3*(sin(phi)*sin(rho) + sin(theta)*cos(phi)*cos(rho))*cos(rho)*cos(theta))*sin(xi)*cos(delta) + (sigma_1*(cos(phi - 2*theta) - cos(phi + 2*theta))/4 - sigma_2*(sin(phi)*sin(rho)*sin(theta) - 2*sin(rho/2)**2*cos(phi) + cos(phi))*sin(rho)*cos(theta) + sigma_3*(-sin(phi)*sin(theta)*cos(rho) + sin(rho)*cos(phi))*cos(rho)*cos(theta))*cos(xi) + (sigma_1*sin(theta)**2 + sigma_2*sin(rho)**2*cos(theta)**2 + sigma_3*cos(rho)**2*cos(theta)**2)*sin(delta)*sin(xi))*cos(delta))*(-(-(-sigma_1*(-sin(phi - 2*theta) + sin(phi + 2*theta))/4 - sigma_2*(-2*sin(phi)*sin(rho/2)**2 + sin(phi) - sin(rho)*sin(theta)*cos(phi))*sin(rho)*cos(theta) + sigma_3*(sin(phi)*sin(rho) + sin(theta)*cos(phi)*cos(rho))*cos(rho)*cos(theta))*sin(delta)*cos(xi) - (sigma_1*sin(theta)**2 + sigma_2*sin(rho)**2*cos(theta)**2 + sigma_3*cos(rho)**2*cos(theta)**2)*cos(delta)*cos(xi))*cos(delta) - (-(-sigma_1*(-sin(phi - 2*theta) + sin(phi + 2*theta))/4 - sigma_2*(-2*sin(phi)*sin(rho/2)**2 + sin(phi) - sin(rho)*sin(theta)*cos(phi))*sin(rho)*cos(theta) + sigma_3*(sin(phi)*sin(rho) + sin(theta)*cos(phi)*cos(rho))*cos(rho)*cos(theta))*cos(delta)*cos(xi) - (sigma_1*cos(phi)**2*cos(theta)**2 + sigma_2*(-2*sin(phi)*cos(rho/2)**2 + sin(phi) + sin(rho)*sin(theta)*cos(phi))**2 + sigma_3*(sin(phi)*sin(rho) + sin(theta)*cos(phi)*cos(rho))**2)*sin(delta)*cos(xi))*sin(delta) - (-(-sigma_1*(-sin(phi - 2*theta) + sin(phi + 2*theta))/4 - sigma_2*(-2*sin(phi)*sin(rho/2)**2 + sin(phi) - sin(rho)*sin(theta)*cos(phi))*sin(rho)*cos(theta) + sigma_3*(sin(phi)*sin(rho) + sin(theta)*cos(phi)*cos(rho))*cos(rho)*cos(theta))*sin(delta)*cos(xi) + (sigma_1*cos(phi)**2*cos(theta)**2 + sigma_2*(-2*sin(phi)*cos(rho/2)**2 + sin(phi) + sin(rho)*sin(theta)*cos(phi))**2 + sigma_3*(sin(phi)*sin(rho) + sin(theta)*cos(phi)*cos(rho))**2)*cos(delta)*cos(xi) + (-sigma_1*sin(phi)*cos(phi)*cos(theta)**2 + sigma_2*(-2*sin(phi)*sin(rho/2)**2 + sin(phi) - sin(rho)*sin(theta)*cos(phi))*(sin(phi)*sin(rho)*sin(theta) - 2*sin(rho/2)**2*cos(phi) + cos(phi)) + sigma_3*(sin(phi)*sin(rho) + sin(theta)*cos(phi)*cos(rho))*(-sin(phi)*sin(theta)*cos(rho) + sin(rho)*cos(phi)))*sin(xi))*cos(delta) + ((-sigma_1*(-sin(phi - 2*theta) + sin(phi + 2*theta))/4 - sigma_2*(-2*sin(phi)*sin(rho/2)**2 + sin(phi) - sin(rho)*sin(theta)*cos(phi))*sin(rho)*cos(theta) + sigma_3*(sin(phi)*sin(rho) + sin(theta)*cos(phi)*cos(rho))*cos(rho)*cos(theta))*cos(delta)*cos(xi) + (sigma_1*(cos(phi - 2*theta) - cos(phi + 2*theta))/4 - sigma_2*(sin(phi)*sin(rho)*sin(theta) - 2*sin(rho/2)**2*cos(phi) + cos(phi))*sin(rho)*cos(theta) + sigma_3*(-sin(phi)*sin(theta)*cos(rho) + sin(rho)*cos(phi))*cos(rho)*cos(theta))*sin(xi) - (sigma_1*sin(theta)**2 + sigma_2*sin(rho)**2*cos(theta)**2 + sigma_3*cos(rho)**2*cos(theta)**2)*sin(delta)*cos(xi))*sin(delta))/((-(-sigma_1*(-sin(phi - 2*theta) + sin(phi + 2*theta))/4 - sigma_2*(-2*sin(phi)*sin(rho/2)**2 + sin(phi) - sin(rho)*sin(theta)*cos(phi))*sin(rho)*cos(theta) + sigma_3*(sin(phi)*sin(rho) + sin(theta)*cos(phi)*cos(rho))*cos(rho)*cos(theta))*sin(delta)*cos(xi) + (sigma_1*cos(phi)**2*cos(theta)**2 + sigma_2*(-2*sin(phi)*cos(rho/2)**2 + sin(phi) + sin(rho)*sin(theta)*cos(phi))**2 + sigma_3*(sin(phi)*sin(rho) + sin(theta)*cos(phi)*cos(rho))**2)*cos(delta)*cos(xi) + (-sigma_1*sin(phi)*cos(phi)*cos(theta)**2 + sigma_2*(-2*sin(phi)*sin(rho/2)**2 + sin(phi) - sin(rho)*sin(theta)*cos(phi))*(sin(phi)*sin(rho)*sin(theta) - 2*sin(rho/2)**2*cos(phi) + cos(phi)) + sigma_3*(sin(phi)*sin(rho) + sin(theta)*cos(phi)*cos(rho))*(-sin(phi)*sin(theta)*cos(rho) + sin(rho)*cos(phi)))*sin(xi))*sin(delta) + ((-sigma_1*(-sin(phi - 2*theta) + sin(phi + 2*theta))/4 - sigma_2*(-2*sin(phi)*sin(rho/2)**2 + sin(phi) - sin(rho)*sin(theta)*cos(phi))*sin(rho)*cos(theta) + sigma_3*(sin(phi)*sin(rho) + sin(theta)*cos(phi)*cos(rho))*cos(rho)*cos(theta))*cos(delta)*cos(xi) + (sigma_1*(cos(phi - 2*theta) - cos(phi + 2*theta))/4 - sigma_2*(sin(phi)*sin(rho)*sin(theta) - 2*sin(rho/2)**2*cos(phi) + cos(phi))*sin(rho)*cos(theta) + sigma_3*(-sin(phi)*sin(theta)*cos(rho) + sin(rho)*cos(phi))*cos(rho)*cos(theta))*sin(xi) - (sigma_1*sin(theta)**2 + sigma_2*sin(rho)**2*cos(theta)**2 + sigma_3*cos(rho)**2*cos(theta)**2)*sin(delta)*cos(xi))*cos(delta))**2 - (-((-sigma_1*(-sin(phi - 2*theta) + sin(phi + 2*theta))/4 - sigma_2*(-2*sin(phi)*sin(rho/2)**2 + sin(phi) - sin(rho)*sin(theta)*cos(phi))*sin(rho)*cos(theta) + sigma_3*(sin(phi)*sin(rho) + sin(theta)*cos(phi)*cos(rho))*cos(rho)*cos(theta))*sin(delta)*sin(xi) + (sigma_1*sin(theta)**2 + sigma_2*sin(rho)**2*cos(theta)**2 + sigma_3*cos(rho)**2*cos(theta)**2)*sin(xi)*cos(delta))*cos(delta) - ((-sigma_1*(-sin(phi - 2*theta) + sin(phi + 2*theta))/4 - sigma_2*(-2*sin(phi)*sin(rho/2)**2 + sin(phi) - sin(rho)*sin(theta)*cos(phi))*sin(rho)*cos(theta) + sigma_3*(sin(phi)*sin(rho) + sin(theta)*cos(phi)*cos(rho))*cos(rho)*cos(theta))*sin(xi)*cos(delta) + (sigma_1*cos(phi)**2*cos(theta)**2 + sigma_2*(-2*sin(phi)*cos(rho/2)**2 + sin(phi) + sin(rho)*sin(theta)*cos(phi))**2 + sigma_3*(sin(phi)*sin(rho) + sin(theta)*cos(phi)*cos(rho))**2)*sin(delta)*sin(xi))*sin(delta) - ((-sigma_1*(-sin(phi - 2*theta) + sin(phi + 2*theta))/4 - sigma_2*(-2*sin(phi)*sin(rho/2)**2 + sin(phi) - sin(rho)*sin(theta)*cos(phi))*sin(rho)*cos(theta) + sigma_3*(sin(phi)*sin(rho) + sin(theta)*cos(phi)*cos(rho))*cos(rho)*cos(theta))*sin(delta)*sin(xi) - (sigma_1*cos(phi)**2*cos(theta)**2 + sigma_2*(-2*sin(phi)*cos(rho/2)**2 + sin(phi) + sin(rho)*sin(theta)*cos(phi))**2 + sigma_3*(sin(phi)*sin(rho) + sin(theta)*cos(phi)*cos(rho))**2)*sin(xi)*cos(delta) + (-sigma_1*sin(phi)*cos(phi)*cos(theta)**2 + sigma_2*(-2*sin(phi)*sin(rho/2)**2 + sin(phi) - sin(rho)*sin(theta)*cos(phi))*(sin(phi)*sin(rho)*sin(theta) - 2*sin(rho/2)**2*cos(phi) + cos(phi)) + sigma_3*(sin(phi)*sin(rho) + sin(theta)*cos(phi)*cos(rho))*(-sin(phi)*sin(theta)*cos(rho) + sin(rho)*cos(phi)))*cos(xi))*cos(delta) + (-(-sigma_1*(-sin(phi - 2*theta) + sin(phi + 2*theta))/4 - sigma_2*(-2*sin(phi)*sin(rho/2)**2 + sin(phi) - sin(rho)*sin(theta)*cos(phi))*sin(rho)*cos(theta) + sigma_3*(sin(phi)*sin(rho) + sin(theta)*cos(phi)*cos(rho))*cos(rho)*cos(theta))*sin(xi)*cos(delta) + (sigma_1*(cos(phi - 2*theta) - cos(phi + 2*theta))/4 - sigma_2*(sin(phi)*sin(rho)*sin(theta) - 2*sin(rho/2)**2*cos(phi) + cos(phi))*sin(rho)*cos(theta) + sigma_3*(-sin(phi)*sin(theta)*cos(rho) + sin(rho)*cos(phi))*cos(rho)*cos(theta))*cos(xi) + (sigma_1*sin(theta)**2 + sigma_2*sin(rho)**2*cos(theta)**2 + sigma_3*cos(rho)**2*cos(theta)**2)*sin(delta)*sin(xi))*sin(delta))/((-(-sigma_1*(-sin(phi - 2*theta) + sin(phi + 2*theta))/4 - sigma_2*(-2*sin(phi)*sin(rho/2)**2 + sin(phi) - sin(rho)*sin(theta)*cos(phi))*sin(rho)*cos(theta) + sigma_3*(sin(phi)*sin(rho) + sin(theta)*cos(phi)*cos(rho))*cos(rho)*cos(theta))*sin(delta)*cos(xi) + (sigma_1*cos(phi)**2*cos(theta)**2 + sigma_2*(-2*sin(phi)*cos(rho/2)**2 + sin(phi) + sin(rho)*sin(theta)*cos(phi))**2 + sigma_3*(sin(phi)*sin(rho) + sin(theta)*cos(phi)*cos(rho))**2)*cos(delta)*cos(xi) + (-sigma_1*sin(phi)*cos(phi)*cos(theta)**2 + sigma_2*(-2*sin(phi)*sin(rho/2)**2 + sin(phi) - sin(rho)*sin(theta)*cos(phi))*(sin(phi)*sin(rho)*sin(theta) - 2*sin(rho/2)**2*cos(phi) + cos(phi)) + sigma_3*(sin(phi)*sin(rho) + sin(theta)*cos(phi)*cos(rho))*(-sin(phi)*sin(theta)*cos(rho) + sin(rho)*cos(phi)))*sin(xi))*sin(delta) + ((-sigma_1*(-sin(phi - 2*theta) + sin(phi + 2*theta))/4 - sigma_2*(-2*sin(phi)*sin(rho/2)**2 + sin(phi) - sin(rho)*sin(theta)*cos(phi))*sin(rho)*cos(theta) + sigma_3*(sin(phi)*sin(rho) + sin(theta)*cos(phi)*cos(rho))*cos(rho)*cos(theta))*cos(delta)*cos(xi) + (sigma_1*(cos(phi - 2*theta) - cos(phi + 2*theta))/4 - sigma_2*(sin(phi)*sin(rho)*sin(theta) - 2*sin(rho/2)**2*cos(phi) + cos(phi))*sin(rho)*cos(theta) + sigma_3*(-sin(phi)*sin(theta)*cos(rho) + sin(rho)*cos(phi))*cos(rho)*cos(theta))*sin(xi) - (sigma_1*sin(theta)**2 + sigma_2*sin(rho)**2*cos(theta)**2 + sigma_3*cos(rho)**2*cos(theta)**2)*sin(delta)*cos(xi))*cos(delta)))/((-((-sigma_1*(-sin(phi - 2*theta) + sin(phi + 2*theta))/4 - sigma_2*(-2*sin(phi)*sin(rho/2)**2 + sin(phi) - sin(rho)*sin(theta)*cos(phi))*sin(rho)*cos(theta) + sigma_3*(sin(phi)*sin(rho) + sin(theta)*cos(phi)*cos(rho))*cos(rho)*cos(theta))*sin(delta)*sin(xi) - (sigma_1*cos(phi)**2*cos(theta)**2 + sigma_2*(-2*sin(phi)*cos(rho/2)**2 + sin(phi) + sin(rho)*sin(theta)*cos(phi))**2 + sigma_3*(sin(phi)*sin(rho) + sin(theta)*cos(phi)*cos(rho))**2)*sin(xi)*cos(delta) + (-sigma_1*sin(phi)*cos(phi)*cos(theta)**2 + sigma_2*(-2*sin(phi)*sin(rho/2)**2 + sin(phi) - sin(rho)*sin(theta)*cos(phi))*(sin(phi)*sin(rho)*sin(theta) - 2*sin(rho/2)**2*cos(phi) + cos(phi)) + sigma_3*(sin(phi)*sin(rho) + sin(theta)*cos(phi)*cos(rho))*(-sin(phi)*sin(theta)*cos(rho) + sin(rho)*cos(phi)))*cos(xi))*sin(delta) - (-(-sigma_1*(-sin(phi - 2*theta) + sin(phi + 2*theta))/4 - sigma_2*(-2*sin(phi)*sin(rho/2)**2 + sin(phi) - sin(rho)*sin(theta)*cos(phi))*sin(rho)*cos(theta) + sigma_3*(sin(phi)*sin(rho) + sin(theta)*cos(phi)*cos(rho))*cos(rho)*cos(theta))*sin(xi)*cos(delta) + (sigma_1*(cos(phi - 2*theta) - cos(phi + 2*theta))/4 - sigma_2*(sin(phi)*sin(rho)*sin(theta) - 2*sin(rho/2)**2*cos(phi) + cos(phi))*sin(rho)*cos(theta) + sigma_3*(-sin(phi)*sin(theta)*cos(rho) + sin(rho)*cos(phi))*cos(rho)*cos(theta))*cos(xi) + (sigma_1*sin(theta)**2 + sigma_2*sin(rho)**2*cos(theta)**2 + sigma_3*cos(rho)**2*cos(theta)**2)*sin(delta)*sin(xi))*cos(delta))**2/((-(-sigma_1*(-sin(phi - 2*theta) + sin(phi + 2*theta))/4 - sigma_2*(-2*sin(phi)*sin(rho/2)**2 + sin(phi) - sin(rho)*sin(theta)*cos(phi))*sin(rho)*cos(theta) + sigma_3*(sin(phi)*sin(rho) + sin(theta)*cos(phi)*cos(rho))*cos(rho)*cos(theta))*sin(delta)*cos(xi) + (sigma_1*cos(phi)**2*cos(theta)**2 + sigma_2*(-2*sin(phi)*cos(rho/2)**2 + sin(phi) + sin(rho)*sin(theta)*cos(phi))**2 + sigma_3*(sin(phi)*sin(rho) + sin(theta)*cos(phi)*cos(rho))**2)*cos(delta)*cos(xi) + (-sigma_1*sin(phi)*cos(phi)*cos(theta)**2 + sigma_2*(-2*sin(phi)*sin(rho/2)**2 + sin(phi) - sin(rho)*sin(theta)*cos(phi))*(sin(phi)*sin(rho)*sin(theta) - 2*sin(rho/2)**2*cos(phi) + cos(phi)) + sigma_3*(sin(phi)*sin(rho) + sin(theta)*cos(phi)*cos(rho))*(-sin(phi)*sin(theta)*cos(rho) + sin(rho)*cos(phi)))*sin(xi))*sin(delta) + ((-sigma_1*(-sin(phi - 2*theta) + sin(phi + 2*theta))/4 - sigma_2*(-2*sin(phi)*sin(rho/2)**2 + sin(phi) - sin(rho)*sin(theta)*cos(phi))*sin(rho)*cos(theta) + sigma_3*(sin(phi)*sin(rho) + sin(theta)*cos(phi)*cos(rho))*cos(rho)*cos(theta))*cos(delta)*cos(xi) + (sigma_1*(cos(phi - 2*theta) - cos(phi + 2*theta))/4 - sigma_2*(sin(phi)*sin(rho)*sin(theta) - 2*sin(rho/2)**2*cos(phi) + cos(phi))*sin(rho)*cos(theta) + sigma_3*(-sin(phi)*sin(theta)*cos(rho) + sin(rho)*cos(phi))*cos(rho)*cos(theta))*sin(xi) - (sigma_1*sin(theta)**2 + sigma_2*sin(rho)**2*cos(theta)**2 + sigma_3*cos(rho)**2*cos(theta)**2)*sin(delta)*cos(xi))*cos(delta))**2 + 1)\n"
     ]
    }
   ],
   "source": [
    "print(drakeddip)"
   ]
  },
  {
   "cell_type": "code",
   "execution_count": null,
   "metadata": {
    "collapsed": false
   },
   "outputs": [],
   "source": [
    "taustrikedstrike = sym.trigsimp(sym.diff(taustrike, strike))\n",
    "taustrikeddipp= sym.trigsimp(sym.diff(taustrike, dip))\n",
    "\n",
    "taudipdstrike = sym.trigsimp(sym.diff(taudip, strike))\n",
    "taudipddipp = sym.trigsimp(sym.diff(taudip, dip))"
   ]
  },
  {
   "cell_type": "code",
   "execution_count": null,
   "metadata": {
    "collapsed": false
   },
   "outputs": [],
   "source": [
    "J = sym.Matrix([[taustrikedstrike, taustrikeddipp], [taudipdstrike, taudipddipp]])"
   ]
  },
  {
   "cell_type": "code",
   "execution_count": null,
   "metadata": {
    "collapsed": true
   },
   "outputs": [],
   "source": []
  },
  {
   "cell_type": "code",
   "execution_count": null,
   "metadata": {
    "collapsed": true
   },
   "outputs": [],
   "source": []
  },
  {
   "cell_type": "code",
   "execution_count": null,
   "metadata": {
    "collapsed": false
   },
   "outputs": [],
   "source": []
  },
  {
   "cell_type": "code",
   "execution_count": null,
   "metadata": {
    "collapsed": true
   },
   "outputs": [],
   "source": []
  },
  {
   "cell_type": "code",
   "execution_count": null,
   "metadata": {
    "collapsed": true
   },
   "outputs": [],
   "source": []
  }
 ],
 "metadata": {
  "anaconda-cloud": {},
  "kernelspec": {
   "display_name": "Python [conda root]",
   "language": "python",
   "name": "conda-root-py"
  },
  "language_info": {
   "codemirror_mode": {
    "name": "ipython",
    "version": 3
   },
   "file_extension": ".py",
   "mimetype": "text/x-python",
   "name": "python",
   "nbconvert_exporter": "python",
   "pygments_lexer": "ipython3",
   "version": "3.5.2"
  }
 },
 "nbformat": 4,
 "nbformat_minor": 1
}
