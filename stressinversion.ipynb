{
 "cells": [
  {
   "cell_type": "code",
   "execution_count": 15,
   "metadata": {
    "collapsed": true
   },
   "outputs": [],
   "source": [
    "import numpy as np\n",
    "import scipy.stats as stats\n",
    "import scipy.linalg as linalg\n",
    "import matplotlib.pyplot as plt\n",
    "from mpmath import *\n",
    "from matplotlib.pyplot import figure, show, rc\n",
    "from mpl_toolkits.basemap import Basemap\n",
    "% matplotlib inline"
   ]
  },
  {
   "cell_type": "code",
   "execution_count": 16,
   "metadata": {
    "collapsed": true
   },
   "outputs": [],
   "source": [
    "def rotation(phi, theta, psi):\n",
    "    \n",
    "    def B2(angle):\n",
    "        \n",
    "        B2 = np.zeros((3,3))\n",
    "        \n",
    "        B2[0, 0] = np.cos(angle)\n",
    "        B2[0, 2] = np.sin(angle)\n",
    "        B2[1, 1] = 1\n",
    "        B2[2, 0] = -np.sin(angle)\n",
    "        B2[2, 2] = np.cos(angle)\n",
    "        \n",
    "        B2 = np.asmatrix(B2)\n",
    "        \n",
    "        return B2\n",
    "    \n",
    "    def B3(angle):\n",
    "        \n",
    "        B3 = np.zeros((3,3))\n",
    "        \n",
    "        B3[0, 0] = np.cos(angle)\n",
    "        B3[0, 1] = -np.sin(angle)\n",
    "        B3[1, 0] = np.sin(angle)\n",
    "        B3[1, 1] = np.cos(angle)\n",
    "        B3[2, 2] = 1\n",
    "        \n",
    "        return B3\n",
    "    \n",
    "    R = B3(psi)*B2(theta)*B3(phi)\n",
    "    \n",
    "    return R\n",
    "        \n",
    "        "
   ]
  },
  {
   "cell_type": "code",
   "execution_count": 17,
   "metadata": {
    "collapsed": true
   },
   "outputs": [],
   "source": [
    "def rodriguez(vector, rotationangle):\n",
    "    \n",
    "    W = np.zeros((3,3))\n",
    "    \n",
    "    W[0, 1] = -vector[2]\n",
    "    W[0, 2] = vector[1]\n",
    "    W[1, 0] = vector[2]\n",
    "    W[1, 2] = -vector[0]\n",
    "    W[2, 0] = -vector[1]\n",
    "    W[2, 1] = vector[0]\n",
    "    W = np.asmatrix(W)\n",
    "    \n",
    "    R = np.eye(3)+np.sin(rotationangle)*W+(2*(np.sin(rotationangle/2)**2)*W*W)\n",
    "    \n",
    "    return R"
   ]
  },
  {
   "cell_type": "code",
   "execution_count": 18,
   "metadata": {
    "collapsed": false
   },
   "outputs": [],
   "source": [
    "def fault_orientation_matrix(phiF, thetaF, lamda):\n",
    "\n",
    "    Rstrike_fault = np.zeros((3,3))\n",
    "    Rstrike_fault[0, 0] = np.cos(phiF)\n",
    "    Rstrike_fault[0, 1] = -np.sin(phiF)\n",
    "    Rstrike_fault[1, 0] = np.sin(phiF)\n",
    "    Rstrike_fault[1, 1] = np.cos(phiF)\n",
    "    Rstrike_fault[2, 2] = 1\n",
    "    Rstrike_fault = np.asmatrix(Rstrike_fault)\n",
    "\n",
    "    Rdip_fault = np.zeros((3, 3))\n",
    "\n",
    "    Rdip_fault[0 , 0] = 1\n",
    "    Rdip_fault[1, 1] = np.cos(thetaF)\n",
    "    Rdip_fault[1, 2] = np.sin(thetaF)\n",
    "    Rdip_fault[2, 1] = -(np.sin(thetaF))\n",
    "    Rdip_fault[2, 2] = np.cos(thetaF)\n",
    "    Rdip_fault = np.asmatrix(Rdip_fault)\n",
    "\n",
    "    rakeaxis = (Rstrike_fault)*(Rdip_fault)*np.matrix('0; 0 ; 1')\n",
    "\n",
    "    rakeaxis = np.array(rakeaxis).flatten()\n",
    "\n",
    "    Rrake_fault = rotationmat3D(lamda, rakeaxis)\n",
    "\n",
    "    Faultorientation = (Rrake_fault)*(Rstrike_fault)*(Rdip_fault)\n",
    "\n",
    "\n",
    "    return Faultorientation\n"
   ]
  },
  {
   "cell_type": "code",
   "execution_count": null,
   "metadata": {
    "collapsed": false
   },
   "outputs": [],
   "source": []
  },
  {
   "cell_type": "code",
   "execution_count": 19,
   "metadata": {
    "collapsed": false
   },
   "outputs": [],
   "source": [
    "def stressorientation_matrix(phi_MCS, theta_MCS, rho_MCS=0):\n",
    "\n",
    "    \n",
    "    B = rotation(phi_MCS, theta_MCS, 0)\n",
    "    rho_axis = B*np.matrix([1, 0, 0]).T\n",
    "    R_rho = rodriguez(rho_axis, rho_MCS)\n",
    "    \n",
    "    StressOrienation = R_rho*B\n",
    "    \n",
    "\n",
    "    return StressOrientation\n",
    "    "
   ]
  },
  {
   "cell_type": "code",
   "execution_count": null,
   "metadata": {
    "collapsed": true
   },
   "outputs": [],
   "source": []
  },
  {
   "cell_type": "code",
   "execution_count": 20,
   "metadata": {
    "collapsed": false
   },
   "outputs": [],
   "source": [
    "def Resolve_StressTensorOnFault(pstress, sangle, fangle):\n",
    "\n",
    "\n",
    "    S1 = pstress[0]\n",
    "    S2 = pstress[1]\n",
    "    S3 = pstress[2]\n",
    "\n",
    "\n",
    "    # fangle = [Fault_Strike, Fault_dip, Fault_rake]\n",
    "    # phiF = Fault_Strike, thetaF = Fault_dip, rakeF = Fault_rake\n",
    "    # if dealing with principal stresses\n",
    "\n",
    "    phiF = fangle[0]\n",
    "    thetaF = fangle[1]\n",
    "    rakeF = fangle[2]\n",
    "\n",
    "\n",
    "    if pstress.shape == (3,3):\n",
    "\n",
    "        stressDirection = pstress\n",
    "\n",
    "    else:\n",
    "\n",
    "        phi_MCS = sangle[0]\n",
    "        theta_MCS = sangle[1]\n",
    "        theta_ICS = sangle[2]\n",
    "\n",
    "        #define the principal stress tensor\n",
    "        Sprincipal = np.array(([S1, 0, 0,], [0, S2, 0], [0, 0, S3]))\n",
    "\n",
    "        #------Stress Geographic\n",
    "        stressRotation = stressorientation_matrix(phi_MCS, theta_MCS, theta_ICS)\n",
    "\n",
    "        stressDirection = stressRotation*Sprincipal*stressRotation.T\n",
    "\n",
    "        A = (stressDirection.T + stressDirection) / 2\n",
    "\n",
    "        #diagonlized tensor is too differnt from origianl\n",
    "\n",
    "    if np.amax(np.abs(A[:]-stressDirection[:]))> (1e3*np.spacing(1)):\n",
    "        SigmaN = 0\n",
    "        Tau_rake_parallel = 0\n",
    "        Tau_rake_perpendicular = 0\n",
    "        D = np.identity(3)\n",
    "        V = np.identity(3)\n",
    "        #diagnolized tensor is negligibly different from the original\n",
    "\n",
    "    else:\n",
    "        stressDirection = A\n",
    "        stressDirection = np.transpose(stressDirection)\n",
    "        #compute the principal directions\n",
    "        D, V = np.linalg.eig(stressDirection)\n",
    "\n",
    "    #-----Stress on a fault\n",
    "\n",
    "    # rotation matrix for a fault plane\n",
    "        faultRotation = fault_orientation_matrix(phiF, thetaF, rakeF)\n",
    "\n",
    "        #Rotate stress onto fault plane\n",
    "        stressOnFault = np.transpose(faultRotation)*stressDirection*faultRotation\n",
    "        SigmaN = stressOnFault[2, 2]\n",
    "        Tau_rake_parallel = stressOnFault[0,2]\n",
    "        Tau_rake_perpendicular = stressOnFault[1, 2]\n",
    "\n",
    "        return SigmaN, Tau_rake_parallel, Tau_rake_perpendicular, D, V\n"
   ]
  },
  {
   "cell_type": "code",
   "execution_count": 21,
   "metadata": {
    "collapsed": false
   },
   "outputs": [],
   "source": [
    "def Resolve_ShearStressDir(pstress, sangle, fangle):\n",
    "    #Notes:\n",
    "    #Calculate value of FaultRake = arctan(Tau_S/Tau_D)\n",
    "    #Calculate Tau_rake_parallel (shear slip in direction of fault rake)\n",
    "    # In this function Tau_D and Tau_S seem like the equivalent of TRParallel\n",
    "    # and TRPerpendicular in Resolve_StressTensorOnFault\n",
    "    #End Notes\n",
    "\n",
    "    #Ensures input fault rake = 0\n",
    "\n",
    "    if len(fangle) == 3:\n",
    "    \n",
    "        if fangle[2] != 0:\n",
    "        \n",
    "            print('Changing Non-Zero Rake to Zero')\n",
    "            fangle[2] = 0\n",
    "    \n",
    "    elif len(fangle) == 2: #If there are only two elements, add a third element that is 0\n",
    "        \n",
    "        np.append(fangle, 0)\n",
    "\n",
    "    #Using function \"Stress_onFault\" to determine Tau_{d} and Tau_{s}\n",
    "    SigmaN, TauDip, TauStrike, D, V = Resolve_StressTensorOnFault(pstress, sangle, fangle)\n",
    "\n",
    "    #Calculate the fault rake\n",
    "\n",
    "    RakeCalc = np.arctan2(TauStrike, TauDip) * (180/np.pi)\n",
    "\n",
    "    #Calculate Chear Slip in the Rake Direction\n",
    "\n",
    "    Tau_rake_parallel = TauDip/np.cos(np.deg2rad(RakeCalc))\n",
    "\n",
    "    return RakeCalc\n"
   ]
  },
  {
   "cell_type": "code",
   "execution_count": 22,
   "metadata": {
    "collapsed": false
   },
   "outputs": [],
   "source": [
    "def sample_vMF(mu, kappa, nsteps):\n",
    "\n",
    "    #This function generates a random m-vector on an n-sphere\n",
    "    #Output is in cartesian coordinates\n",
    "    dimension = len(mu)\n",
    "    rand_vec = np.zeros((nsteps, dimension))\n",
    "    for i in range(nsteps):\n",
    "\n",
    "        # generate a sample off of the mean direction given a concetration kappa\n",
    "\n",
    "        w = _sample_weight(kappa, dimension)\n",
    "\n",
    "        # sample a point v on the unit sphere that's orthogonal to mu\n",
    "        v = _sample_orthonormal_to(mu)\n",
    "\n",
    "        # compute new point\n",
    "        rand_vec[i, :] = v * np.sqrt(1. - w**2) + w * mu\n",
    "\n",
    "    return rand_vec\n",
    "\n",
    "def _sample_weight(kappa, dimension):\n",
    "\n",
    "    S = dimension - 1\n",
    "    b = (-2*kappa+(4*kappa**2+(S)**2)**(1/2))/(S)\n",
    "    x = (1. - b) / (1. + b)\n",
    "    c = kappa * x + S * np.log(1 - x**2)\n",
    "\n",
    "    while True:\n",
    "        z = np.random.beta(S / 2, S / 2)\n",
    "        w = (1 - (1 + b) * z) / (1 - (1 - b) * z)\n",
    "        u = np.random.uniform(0, 1)\n",
    "        if kappa * w + S * np.log(1. - x * w) - c >= np.log(u):\n",
    "            return w\n",
    "\n",
    "def _sample_orthonormal_to(mu):\n",
    "\n",
    "    v = np.random.randn(mu.shape[0])\n",
    "    proj_mu_v = mu * np.dot(mu, v) / np.linalg.norm(mu)\n",
    "    orthto = v - proj_mu_v\n",
    "    return orthto / np.linalg.norm(orthto)"
   ]
  },
  {
   "cell_type": "code",
   "execution_count": 23,
   "metadata": {
    "collapsed": true
   },
   "outputs": [],
   "source": [
    "def cartesian2spherical(cartesian_coords):\n",
    "\n",
    "    spherical_coords = np.zeros(cartesian_coords.shape)\n",
    "   \n",
    "    for i in range(len(cartesian_coords)):\n",
    "        \n",
    "        #radius\n",
    "\n",
    "        spherical_coords[i,0] = np.sqrt(np.sum(cartesian_coords[i, :]**2)) \n",
    "        \n",
    "        #angle 1\n",
    "        \n",
    "        spherical_coords[i, 1] = np.arccos(cartesian_coords[i, 0]/spherical_coords[i, 0])\n",
    "        \n",
    "        #angle 2\n",
    "        \n",
    "        spherical_coords[i, 2] = np.arccos(cartesian_coords[i, 1]/(np.sqrt(cartesian_coords[i, 3]**2+cartesian_coords[i, 2]**2+cartesian_coords[i, 1]**2)))\n",
    "        \n",
    "        #angle 3\n",
    "        \n",
    "        if cartesian_coords[i, 3] >= 0:\n",
    "            \n",
    "            spherical_coords[i, 3] = np.arccos(cartesian_coords[i, 2]/(np.sqrt(cartesian_coords[i,3]**2+cartesian_coords[i, 2]**2)))\n",
    "            \n",
    "        else:\n",
    "            \n",
    "            spherical_coords[i, 3] = 2*np.pi-np.arccos(cartesian_coords[i, 2]/(np.sqrt(cartesian_coords[i,3]**2+cartesian_coords[i, 2]**2)))\n",
    "            \n",
    "            \n",
    "        return spherical_coords\n"
   ]
  },
  {
   "cell_type": "code",
   "execution_count": 24,
   "metadata": {
    "collapsed": true
   },
   "outputs": [],
   "source": [
    "def spherical2cartesian(spherical_coords):\n",
    "\n",
    "    if spherical_coords.shape == (3,):\n",
    "    \n",
    "        spherical_coords = spherical_coords.reshape((3,1))\n",
    "        \n",
    "    cartesian_coords = np.zeros(spherical_coords.shape)\n",
    "\n",
    "    for i in range(len(cartesian_coords)):\n",
    "\n",
    "        r = spherical_coords[i, 0]\n",
    "        angle1 = spherical_coords[i, 1]\n",
    "        angle2 = spherical_coords[i, 2]\n",
    "        angle3 = spherical_coords[i, 3]\n",
    "\n",
    "        cartesian_coords[i, 0] = r*np.cos(angle1)\n",
    "        cartesian_coords[i, 1] = r*np.sin(angle1)*np.cos(angle2)\n",
    "        cartesian_coords[i, 2] = r*np.sin(angle1)*np.sin(angle2)*np.cos(angle3)\n",
    "        cartesian_coords[i, 3] = r*np.sin(angle1)*np.sin(angle2)*np.sin(angle3)\n",
    "\n",
    "    return cartesian_coords\n"
   ]
  },
  {
   "cell_type": "code",
   "execution_count": null,
   "metadata": {
    "collapsed": false
   },
   "outputs": [],
   "source": [
    "sangle = np.array([np.pi/4, ])\n"
   ]
  },
  {
   "cell_type": "code",
   "execution_count": 9,
   "metadata": {
    "collapsed": false
   },
   "outputs": [
    {
     "ename": "NameError",
     "evalue": "name 'np' is not defined",
     "output_type": "error",
     "traceback": [
      "\u001b[0;31m---------------------------------------------------------------------------\u001b[0m",
      "\u001b[0;31mNameError\u001b[0m                                 Traceback (most recent call last)",
      "\u001b[0;32m<ipython-input-9-cfe2a4a8c8a8>\u001b[0m in \u001b[0;36m<module>\u001b[0;34m()\u001b[0m\n\u001b[1;32m      1\u001b[0m \u001b[0;31m#Define fault parameters and number of faults\u001b[0m\u001b[0;34m\u001b[0m\u001b[0;34m\u001b[0m\u001b[0m\n\u001b[1;32m      2\u001b[0m \u001b[0;34m\u001b[0m\u001b[0m\n\u001b[0;32m----> 3\u001b[0;31m \u001b[0mpstress\u001b[0m \u001b[0;34m=\u001b[0m \u001b[0mnp\u001b[0m\u001b[0;34m.\u001b[0m\u001b[0marray\u001b[0m\u001b[0;34m(\u001b[0m\u001b[0;34m[\u001b[0m\u001b[0;34m-\u001b[0m\u001b[0;36m1\u001b[0m\u001b[0;34m,\u001b[0m \u001b[0;34m-\u001b[0m\u001b[0;36m1\u001b[0m\u001b[0;34m/\u001b[0m\u001b[0;36m2\u001b[0m\u001b[0;34m,\u001b[0m \u001b[0;34m-\u001b[0m\u001b[0;36m1\u001b[0m\u001b[0;34m/\u001b[0m\u001b[0;36m4\u001b[0m\u001b[0;34m]\u001b[0m\u001b[0;34m)\u001b[0m\u001b[0;34m\u001b[0m\u001b[0m\n\u001b[0m\u001b[1;32m      4\u001b[0m \u001b[0mnumber_of_faults\u001b[0m \u001b[0;34m=\u001b[0m \u001b[0;36m1\u001b[0m\u001b[0;34m\u001b[0m\u001b[0m\n\u001b[1;32m      5\u001b[0m \u001b[0;34m\u001b[0m\u001b[0m\n",
      "\u001b[0;31mNameError\u001b[0m: name 'np' is not defined"
     ]
    }
   ],
   "source": [
    "#Define fault parameters and number of faults\n",
    "\n",
    "pstress = np.array([-1, -1/2, -1/4])\n",
    "number_of_faults = 1\n",
    "\n",
    "fangle = np.zeros((number_of_faults, 3))\n",
    "observed_rake = np.zeros((1, number_of_faults))\n",
    "\n",
    "\n",
    "#Define Fault Orientation; do not include rake; make sure angles are in rads\n",
    "fault1 = np.array([np.pi/4, np.pi/6, 0 ])\n",
    "fangle[0, :] = fault1\n",
    "\n",
    "\n",
    "\n",
    "\n",
    "#Define observed rake for each fault; make sure rake is in degrees\n",
    "observed_rake[0, 0] = 32.7\n",
    "print(observed_rake)\n",
    "\n",
    "\n",
    "\n",
    "\n",
    "\n",
    "#Define random walk parameters\n",
    "\n",
    "n_steps = 10**6\n",
    "kappa = 0\n",
    "mu_initial = np.array([0, 0, 0, 1])\n",
    "calculated_rakes = np.zeros((n_steps, number_of_faults))\n",
    "residual = np.zeros((n_steps, number_of_faults))\n",
    "likelihood = np.zeros((n_steps, 1))\n",
    "\n",
    "#Steps are in cartesian coordinates, model parameters are in spherical\n",
    "steps = np.zeros((n_steps, len(mu_initial)))\n",
    "model_parameters = np.zeros((n_steps,3))\n"
   ]
  },
  {
   "cell_type": "code",
   "execution_count": 10,
   "metadata": {
    "collapsed": false
   },
   "outputs": [
    {
     "ename": "NameError",
     "evalue": "name 'n_steps' is not defined",
     "output_type": "error",
     "traceback": [
      "\u001b[0;31m---------------------------------------------------------------------------\u001b[0m",
      "\u001b[0;31mNameError\u001b[0m                                 Traceback (most recent call last)",
      "\u001b[0;32m<ipython-input-10-10512540c357>\u001b[0m in \u001b[0;36m<module>\u001b[0;34m()\u001b[0m\n\u001b[0;32m----> 1\u001b[0;31m \u001b[0;32mfor\u001b[0m \u001b[0mi\u001b[0m \u001b[0;32min\u001b[0m \u001b[0mrange\u001b[0m\u001b[0;34m(\u001b[0m\u001b[0mn_steps\u001b[0m\u001b[0;34m)\u001b[0m\u001b[0;34m:\u001b[0m\u001b[0;34m\u001b[0m\u001b[0m\n\u001b[0m\u001b[1;32m      2\u001b[0m \u001b[0;34m\u001b[0m\u001b[0m\n\u001b[1;32m      3\u001b[0m \u001b[0;34m\u001b[0m\u001b[0m\n\u001b[1;32m      4\u001b[0m     \u001b[0;32mif\u001b[0m \u001b[0mi\u001b[0m \u001b[0;34m==\u001b[0m \u001b[0;36m0\u001b[0m\u001b[0;34m:\u001b[0m\u001b[0;34m\u001b[0m\u001b[0m\n\u001b[1;32m      5\u001b[0m \u001b[0;34m\u001b[0m\u001b[0m\n",
      "\u001b[0;31mNameError\u001b[0m: name 'n_steps' is not defined"
     ]
    }
   ],
   "source": [
    "for i in range(n_steps):\n",
    "    \n",
    "    \n",
    "    if i == 0:\n",
    "        \n",
    "        initial_step = sample_vMF(mu_initial, kappa, 1)\n",
    "        \n",
    "        steps[i] = initial_step\n",
    "        \n",
    "        model_params = cartesian2spherical(initial_step).flatten()\n",
    "        \n",
    "        model_parameters[i] = model_params[1:]\n",
    "        \n",
    "        \n",
    "        for j in range(number_of_faults):\n",
    "            \n",
    "            fault_orientation = fangle[j, :]\n",
    "        \n",
    "        \n",
    "            rake_estimated = Resolve_ShearStressDir(pstress, model_parameters[i], fault_orientation)\n",
    "            \n",
    "\n",
    "            \n",
    "            calculated_rakes[i, j] = rake_estimated\n",
    "\n",
    "            \n",
    "            \n",
    "            angle_difference = (observed_rake[0, j] - rake_estimated)\n",
    "            \n",
    "            \n",
    "            residual[i, j] = np.cos(angle_difference*np.pi/180)\n",
    "       \n",
    "            \n",
    "        \n",
    "\n",
    "        \n",
    "        likelihood[i] = np.exp(np.sum(residual))\n",
    "        \n",
    "    else:\n",
    "        \n",
    "        \n",
    "        mu = steps[i-1]\n",
    "        \n",
    "        \n",
    "\n",
    "        step = sample_vMF(mu, kappa, 1)\n",
    "\n",
    "        \n",
    "\n",
    "        model_params = cartesian2spherical(step).flatten()\n",
    "        \n",
    "        possible_model_params_step = model_params[1:][::-1]\n",
    "        \n",
    "\n",
    "        \n",
    " \n",
    "        \n",
    "        for j in range(number_of_faults):\n",
    "                \n",
    "            \n",
    "            fault_orientation = fangle[j, :]\n",
    "        \n",
    "        \n",
    "            rake_estimated = Resolve_ShearStressDir(pstress, possible_model_params_step, fault_orientation)\n",
    "            \n",
    "            \n",
    "\n",
    "            \n",
    "            calculated_rakes[i, j] = rake_estimated\n",
    "\n",
    "            \n",
    "            \n",
    "            angle_difference = (observed_rake[0, j] - rake_estimated)\n",
    "            \n",
    "            \n",
    "            \n",
    "            residual[i, j] = np.cos(angle_difference*np.pi/180)\n",
    "       \n",
    "        \n",
    "        likelihood_current_step = np.exp(np.sum(residual[i, :]))   \n",
    "        LR = likelihood_current_step/likelihood[i-1]\n",
    "        random_number = np.random.random()\n",
    "        \n",
    "        \n",
    "        \n",
    "        if LR >= random_number:\n",
    "                \n",
    "\n",
    "                \n",
    "                likelihood[i] = likelihood_current_step\n",
    "                \n",
    "                model_parameters[i] = possible_model_params_step\n",
    "                \n",
    "                steps[i] = step\n",
    "\n",
    "        else:        \n",
    "                \n",
    "                \n",
    "                likelihood[i] = likelihood[i-1]\n",
    "                \n",
    "                calculated_rakes[i, :] = calculated_rakes[i-1, :]\n",
    "                \n",
    "                model_parameters[i] = model_parameters[i-1]\n",
    "                \n",
    "                steps[i] = steps[i-1]\n",
    "        \n",
    "\n",
    "\n",
    "        \n",
    "  \n",
    "        \n",
    "\n",
    "        \n",
    "        \n",
    "        \n",
    "\n",
    "        \n"
   ]
  },
  {
   "cell_type": "code",
   "execution_count": 11,
   "metadata": {
    "collapsed": false
   },
   "outputs": [
    {
     "ename": "NameError",
     "evalue": "name 'model_parameters' is not defined",
     "output_type": "error",
     "traceback": [
      "\u001b[0;31m---------------------------------------------------------------------------\u001b[0m",
      "\u001b[0;31mNameError\u001b[0m                                 Traceback (most recent call last)",
      "\u001b[0;32m<ipython-input-11-d825c95a3c7e>\u001b[0m in \u001b[0;36m<module>\u001b[0;34m()\u001b[0m\n\u001b[0;32m----> 1\u001b[0;31m \u001b[0mx\u001b[0m \u001b[0;34m=\u001b[0m \u001b[0mmodel_parameters\u001b[0m\u001b[0;34m[\u001b[0m\u001b[0;34m:\u001b[0m\u001b[0;34m,\u001b[0m \u001b[0;36m0\u001b[0m\u001b[0;34m]\u001b[0m\u001b[0;34m*\u001b[0m\u001b[0;36m180\u001b[0m\u001b[0;34m/\u001b[0m\u001b[0mnp\u001b[0m\u001b[0;34m.\u001b[0m\u001b[0mpi\u001b[0m\u001b[0;34m\u001b[0m\u001b[0m\n\u001b[0m\u001b[1;32m      2\u001b[0m \u001b[0;34m\u001b[0m\u001b[0m\n\u001b[1;32m      3\u001b[0m \u001b[0my\u001b[0m \u001b[0;34m=\u001b[0m \u001b[0mmodel_parameters\u001b[0m\u001b[0;34m[\u001b[0m\u001b[0;34m:\u001b[0m\u001b[0;34m,\u001b[0m \u001b[0;36m1\u001b[0m\u001b[0;34m]\u001b[0m\u001b[0;34m*\u001b[0m\u001b[0;36m180\u001b[0m\u001b[0;34m/\u001b[0m\u001b[0mnp\u001b[0m\u001b[0;34m.\u001b[0m\u001b[0mpi\u001b[0m\u001b[0;34m\u001b[0m\u001b[0m\n\u001b[1;32m      4\u001b[0m \u001b[0mz\u001b[0m \u001b[0;34m=\u001b[0m \u001b[0mmodel_parameters\u001b[0m\u001b[0;34m[\u001b[0m\u001b[0;34m:\u001b[0m\u001b[0;34m,\u001b[0m \u001b[0;36m2\u001b[0m\u001b[0;34m]\u001b[0m\u001b[0;34m*\u001b[0m\u001b[0;36m180\u001b[0m\u001b[0;34m/\u001b[0m\u001b[0mnp\u001b[0m\u001b[0;34m.\u001b[0m\u001b[0mpi\u001b[0m\u001b[0;34m\u001b[0m\u001b[0m\n",
      "\u001b[0;31mNameError\u001b[0m: name 'model_parameters' is not defined"
     ]
    }
   ],
   "source": [
    "x = model_parameters[:, 0]*180/np.pi\n",
    "\n",
    "y = model_parameters[:, 1]*180/np.pi\n",
    "z = model_parameters[:, 2]*180/np.pi"
   ]
  },
  {
   "cell_type": "code",
   "execution_count": 12,
   "metadata": {
    "collapsed": false
   },
   "outputs": [
    {
     "ename": "NameError",
     "evalue": "name 'plt' is not defined",
     "output_type": "error",
     "traceback": [
      "\u001b[0;31m---------------------------------------------------------------------------\u001b[0m",
      "\u001b[0;31mNameError\u001b[0m                                 Traceback (most recent call last)",
      "\u001b[0;32m<ipython-input-12-585b10e035d9>\u001b[0m in \u001b[0;36m<module>\u001b[0;34m()\u001b[0m\n\u001b[0;32m----> 1\u001b[0;31m \u001b[0mplt\u001b[0m\u001b[0;34m.\u001b[0m\u001b[0mhexbin\u001b[0m\u001b[0;34m(\u001b[0m\u001b[0mx\u001b[0m\u001b[0;34m,\u001b[0m\u001b[0my\u001b[0m\u001b[0;34m)\u001b[0m\u001b[0;34m\u001b[0m\u001b[0m\n\u001b[0m\u001b[1;32m      2\u001b[0m \u001b[0mplt\u001b[0m\u001b[0;34m.\u001b[0m\u001b[0mxlabel\u001b[0m\u001b[0;34m(\u001b[0m\u001b[0;34m'phi_MCS'\u001b[0m\u001b[0;34m)\u001b[0m\u001b[0;34m\u001b[0m\u001b[0m\n\u001b[1;32m      3\u001b[0m \u001b[0mplt\u001b[0m\u001b[0;34m.\u001b[0m\u001b[0mylabel\u001b[0m\u001b[0;34m(\u001b[0m\u001b[0;34m'theta_MCS'\u001b[0m\u001b[0;34m)\u001b[0m\u001b[0;34m\u001b[0m\u001b[0m\n\u001b[1;32m      4\u001b[0m \u001b[0;34m\u001b[0m\u001b[0m\n\u001b[1;32m      5\u001b[0m \u001b[0mcb\u001b[0m \u001b[0;34m=\u001b[0m \u001b[0mplt\u001b[0m\u001b[0;34m.\u001b[0m\u001b[0mcolorbar\u001b[0m\u001b[0;34m(\u001b[0m\u001b[0;34m)\u001b[0m\u001b[0;34m\u001b[0m\u001b[0m\n",
      "\u001b[0;31mNameError\u001b[0m: name 'plt' is not defined"
     ]
    }
   ],
   "source": [
    "plt.hexbin(x,y)\n",
    "plt.xlabel('phi_MCS')\n",
    "plt.ylabel('theta_MCS')\n",
    "\n",
    "cb = plt.colorbar()\n",
    "plt.savefig('w1.png')\n",
    "\n",
    "plt.show()\n"
   ]
  },
  {
   "cell_type": "code",
   "execution_count": 13,
   "metadata": {
    "collapsed": false
   },
   "outputs": [
    {
     "ename": "NameError",
     "evalue": "name 'plt' is not defined",
     "output_type": "error",
     "traceback": [
      "\u001b[0;31m---------------------------------------------------------------------------\u001b[0m",
      "\u001b[0;31mNameError\u001b[0m                                 Traceback (most recent call last)",
      "\u001b[0;32m<ipython-input-13-82189bc4a87a>\u001b[0m in \u001b[0;36m<module>\u001b[0;34m()\u001b[0m\n\u001b[0;32m----> 1\u001b[0;31m \u001b[0mplt\u001b[0m\u001b[0;34m.\u001b[0m\u001b[0mhexbin\u001b[0m\u001b[0;34m(\u001b[0m\u001b[0mx\u001b[0m\u001b[0;34m,\u001b[0m\u001b[0mz\u001b[0m\u001b[0;34m)\u001b[0m\u001b[0;34m\u001b[0m\u001b[0m\n\u001b[0m\u001b[1;32m      2\u001b[0m \u001b[0mplt\u001b[0m\u001b[0;34m.\u001b[0m\u001b[0mxlabel\u001b[0m\u001b[0;34m(\u001b[0m\u001b[0;34m'phi_MCS'\u001b[0m\u001b[0;34m)\u001b[0m\u001b[0;34m\u001b[0m\u001b[0m\n\u001b[1;32m      3\u001b[0m \u001b[0;34m\u001b[0m\u001b[0m\n\u001b[1;32m      4\u001b[0m \u001b[0mplt\u001b[0m\u001b[0;34m.\u001b[0m\u001b[0mylabel\u001b[0m\u001b[0;34m(\u001b[0m\u001b[0;34m'theta_ICS'\u001b[0m\u001b[0;34m)\u001b[0m\u001b[0;34m\u001b[0m\u001b[0m\n\u001b[1;32m      5\u001b[0m \u001b[0;34m\u001b[0m\u001b[0m\n",
      "\u001b[0;31mNameError\u001b[0m: name 'plt' is not defined"
     ]
    }
   ],
   "source": [
    "plt.hexbin(x,z)\n",
    "plt.xlabel('phi_MCS')\n",
    "\n",
    "plt.ylabel('theta_ICS')\n",
    "\n",
    "cb = plt.colorbar()\n",
    "plt.savefig('w2.png')\n",
    "\n",
    "plt.show()"
   ]
  },
  {
   "cell_type": "code",
   "execution_count": 14,
   "metadata": {
    "collapsed": false
   },
   "outputs": [
    {
     "ename": "NameError",
     "evalue": "name 'plt' is not defined",
     "output_type": "error",
     "traceback": [
      "\u001b[0;31m---------------------------------------------------------------------------\u001b[0m",
      "\u001b[0;31mNameError\u001b[0m                                 Traceback (most recent call last)",
      "\u001b[0;32m<ipython-input-14-666e14a2b261>\u001b[0m in \u001b[0;36m<module>\u001b[0;34m()\u001b[0m\n\u001b[0;32m----> 1\u001b[0;31m \u001b[0mplt\u001b[0m\u001b[0;34m.\u001b[0m\u001b[0mhexbin\u001b[0m\u001b[0;34m(\u001b[0m\u001b[0my\u001b[0m\u001b[0;34m,\u001b[0m\u001b[0mz\u001b[0m\u001b[0;34m)\u001b[0m\u001b[0;34m\u001b[0m\u001b[0m\n\u001b[0m\u001b[1;32m      2\u001b[0m \u001b[0mplt\u001b[0m\u001b[0;34m.\u001b[0m\u001b[0mxlabel\u001b[0m\u001b[0;34m(\u001b[0m\u001b[0;34m'theta_MCS'\u001b[0m\u001b[0;34m)\u001b[0m\u001b[0;34m\u001b[0m\u001b[0m\n\u001b[1;32m      3\u001b[0m \u001b[0mplt\u001b[0m\u001b[0;34m.\u001b[0m\u001b[0mylabel\u001b[0m\u001b[0;34m(\u001b[0m\u001b[0;34m'theta_ICS'\u001b[0m\u001b[0;34m)\u001b[0m\u001b[0;34m\u001b[0m\u001b[0m\n\u001b[1;32m      4\u001b[0m \u001b[0;34m\u001b[0m\u001b[0m\n\u001b[1;32m      5\u001b[0m \u001b[0;34m\u001b[0m\u001b[0m\n",
      "\u001b[0;31mNameError\u001b[0m: name 'plt' is not defined"
     ]
    }
   ],
   "source": [
    "plt.hexbin(y,z)\n",
    "plt.xlabel('theta_MCS')\n",
    "plt.ylabel('theta_ICS')\n",
    "\n",
    "\n",
    "cb = plt.colorbar()\n",
    "plt.savefig('w3.png')\n",
    "\n",
    "plt.show()"
   ]
  },
  {
   "cell_type": "code",
   "execution_count": 34,
   "metadata": {
    "collapsed": false
   },
   "outputs": [
    {
     "data": {
      "image/png": "[encoded data removed]",
      "text/plain": [
       "<matplotlib.figure.Figure at 0x7f80a0579160>"
      ]
     },
     "metadata": {},
     "output_type": "display_data"
    },
    {
     "data": {
      "image/png": "[encoded data removed]",
      "text/plain": [
       "<matplotlib.figure.Figure at 0x7f80a0406780>"
      ]
     },
     "metadata": {},
     "output_type": "display_data"
    },
    {
     "data": {
      "image/png": "[encoded data removed]",
      "text/plain": [
       "<matplotlib.figure.Figure at 0x7f80a099a128>"
      ]
     },
     "metadata": {},
     "output_type": "display_data"
    }
   ],
   "source": [
    "plt.hist(x, bins=100)\n",
    "plt.xlabel('Phi MCS')\n",
    "plt.ylabel('Count')\n",
    "plt.savefig('w4.png')\n",
    "\n",
    "\n",
    "plt.show()\n",
    "\n",
    "plt.hist(y, bins=100)\n",
    "plt.xlabel('Theta MCS')\n",
    "plt.ylabel('Count')\n",
    "plt.savefig('w5.png')\n",
    "\n",
    "\n",
    "plt.show()\n",
    "\n",
    "plt.hist(z, bins=100)\n",
    "plt.xlabel('Theta ICS')\n",
    "plt.ylabel('Count')\n",
    "plt.savefig('w6.png')\n",
    "\n",
    "\n",
    "plt.show()\n"
   ]
  },
  {
   "cell_type": "code",
   "execution_count": 35,
   "metadata": {
    "collapsed": false
   },
   "outputs": [
    {
     "data": {
      "image/png": "[encoded data removed]",
      "text/plain": [
       "<matplotlib.figure.Figure at 0x7f80a058c6a0>"
      ]
     },
     "metadata": {},
     "output_type": "display_data"
    }
   ],
   "source": [
    "plt.hist(calculated_rakes, bins=100)\n",
    "plt.xlabel('Calculated Rake')\n",
    "plt.ylabel('Count')\n",
    "plt.savefig('w7.png')\n",
    "\n",
    "plt.show()"
   ]
  },
  {
   "cell_type": "code",
   "execution_count": 36,
   "metadata": {
    "collapsed": false
   },
   "outputs": [
    {
     "data": {
      "text/plain": [
       "62.17630574496345"
      ]
     },
     "execution_count": 36,
     "metadata": {},
     "output_type": "execute_result"
    }
   ],
   "source": [
    "np.mean(calculated_rakes)\n"
   ]
  },
  {
   "cell_type": "code",
   "execution_count": 37,
   "metadata": {
    "collapsed": false
   },
   "outputs": [
    {
     "data": {
      "text/plain": [
       "178.09896771238562"
      ]
     },
     "execution_count": 37,
     "metadata": {},
     "output_type": "execute_result"
    }
   ],
   "source": [
    "np.mean(x)\n"
   ]
  },
  {
   "cell_type": "code",
   "execution_count": 38,
   "metadata": {
    "collapsed": false
   },
   "outputs": [
    {
     "data": {
      "text/plain": [
       "62.17630574496345"
      ]
     },
     "execution_count": 38,
     "metadata": {},
     "output_type": "execute_result"
    }
   ],
   "source": [
    "np.mean(calculated_rakes)"
   ]
  },
  {
   "cell_type": "code",
   "execution_count": null,
   "metadata": {
    "collapsed": false
   },
   "outputs": [],
   "source": []
  },
  {
   "cell_type": "code",
   "execution_count": null,
   "metadata": {
    "collapsed": false
   },
   "outputs": [],
   "source": []
  },
  {
   "cell_type": "code",
   "execution_count": null,
   "metadata": {
    "collapsed": true
   },
   "outputs": [],
   "source": []
  }
 ],
 "metadata": {
  "anaconda-cloud": {},
  "kernelspec": {
   "display_name": "Python [conda root]",
   "language": "python",
   "name": "conda-root-py"
  },
  "language_info": {
   "codemirror_mode": {
    "name": "ipython",
    "version": 3
   },
   "file_extension": ".py",
   "mimetype": "text/x-python",
   "name": "python",
   "nbconvert_exporter": "python",
   "pygments_lexer": "ipython3",
   "version": "3.5.2"
  }
 },
 "nbformat": 4,
 "nbformat_minor": 1
}
