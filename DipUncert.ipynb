{
 "cells": [
  {
   "cell_type": "code",
   "execution_count": 44,
   "metadata": {
    "collapsed": true
   },
   "outputs": [],
   "source": [
    "import numpy as np"
   ]
  },
  {
   "cell_type": "code",
   "execution_count": 69,
   "metadata": {
    "collapsed": true
   },
   "outputs": [],
   "source": [
    "def dlambdadphi(sigma_1, sigma_2, sigma_3, phi, theta, rho, xi, delta):\n",
    "    \n",
    "    DlDphi = -(-(-((-sigma_1*(-np.sin(phi - 2*theta) + np.sin(phi + 2*theta))/4 - sigma_2*(-2*np.sin(phi)*np.sin(rho/2)**2 + np.sin(phi) - np.sin(rho)*np.sin(theta)*np.cos(phi))*np.sin(rho)*np.cos(theta) + sigma_3*(np.sin(phi)*np.sin(rho) + np.sin(theta)*np.cos(phi)*np.cos(rho))*np.cos(rho)*np.cos(theta))*np.sin(delta)*np.sin(xi) - (sigma_1*np.cos(phi)**2*np.cos(theta)**2 + sigma_2*(-2*np.sin(phi)*np.cos(rho/2)**2 + np.sin(phi) + np.sin(rho)*np.sin(theta)*np.cos(phi))**2 + sigma_3*(np.sin(phi)*np.sin(rho) + np.sin(theta)*np.cos(phi)*np.cos(rho))**2)*np.sin(xi)*np.cos(delta) + (-sigma_1*np.sin(phi)*np.cos(phi)*np.cos(theta)**2 + sigma_2*(-2*np.sin(phi)*np.sin(rho/2)**2 + np.sin(phi) - np.sin(rho)*np.sin(theta)*np.cos(phi))*(np.sin(phi)*np.sin(rho)*np.sin(theta) - 2*np.sin(rho/2)**2*np.cos(phi) + np.cos(phi)) + sigma_3*(np.sin(phi)*np.sin(rho) + np.sin(theta)*np.cos(phi)*np.cos(rho))*(-np.sin(phi)*np.sin(theta)*np.cos(rho) + np.sin(rho)*np.cos(phi)))*np.cos(xi))*np.sin(delta) - (-(-sigma_1*(-np.sin(phi - 2*theta) + np.sin(phi + 2*theta))/4 - sigma_2*(-2*np.sin(phi)*np.sin(rho/2)**2 + np.sin(phi) - np.sin(rho)*np.sin(theta)*np.cos(phi))*np.sin(rho)*np.cos(theta) + sigma_3*(np.sin(phi)*np.sin(rho) + np.sin(theta)*np.cos(phi)*np.cos(rho))*np.cos(rho)*np.cos(theta))*np.sin(xi)*np.cos(delta) + (sigma_1*(np.cos(phi - 2*theta) - np.cos(phi + 2*theta))/4 - sigma_2*(np.sin(phi)*np.sin(rho)*np.sin(theta) - 2*np.sin(rho/2)**2*np.cos(phi) + np.cos(phi))*np.sin(rho)*np.cos(theta) + sigma_3*(-np.sin(phi)*np.sin(theta)*np.cos(rho) + np.sin(rho)*np.cos(phi))*np.cos(rho)*np.cos(theta))*np.cos(xi) + (sigma_1*np.sin(theta)**2 + sigma_2*np.sin(rho)**2*np.cos(theta)**2 + sigma_3*np.cos(rho)**2*np.cos(theta)**2)*np.sin(delta)*np.sin(xi))*np.cos(delta))*(-(-(-sigma_1*(-np.sin(phi - 2*theta) + np.sin(phi + 2*theta))/4 - sigma_2*(-2*np.sin(phi)*np.sin(rho/2)**2 + np.sin(phi) - np.sin(rho)*np.sin(theta)*np.cos(phi))*np.sin(rho)*np.cos(theta) + sigma_3*(np.sin(phi)*np.sin(rho) + np.sin(theta)*np.cos(phi)*np.cos(rho))*np.cos(rho)*np.cos(theta))*np.sin(delta)*np.cos(xi) - (sigma_1*np.sin(theta)**2 + sigma_2*np.sin(rho)**2*np.cos(theta)**2 + sigma_3*np.cos(rho)**2*np.cos(theta)**2)*np.cos(delta)*np.cos(xi))*np.cos(delta) - (-(-sigma_1*(-np.sin(phi - 2*theta) + np.sin(phi + 2*theta))/4 - sigma_2*(-2*np.sin(phi)*np.sin(rho/2)**2 + np.sin(phi) - np.sin(rho)*np.sin(theta)*np.cos(phi))*np.sin(rho)*np.cos(theta) + sigma_3*(np.sin(phi)*np.sin(rho) + np.sin(theta)*np.cos(phi)*np.cos(rho))*np.cos(rho)*np.cos(theta))*np.cos(delta)*np.cos(xi) - (sigma_1*np.cos(phi)**2*np.cos(theta)**2 + sigma_2*(-2*np.sin(phi)*np.cos(rho/2)**2 + np.sin(phi) + np.sin(rho)*np.sin(theta)*np.cos(phi))**2 + sigma_3*(np.sin(phi)*np.sin(rho) + np.sin(theta)*np.cos(phi)*np.cos(rho))**2)*np.sin(delta)*np.cos(xi))*np.sin(delta) - (-(-sigma_1*(-np.sin(phi - 2*theta) + np.sin(phi + 2*theta))/4 - sigma_2*(-2*np.sin(phi)*np.sin(rho/2)**2 + np.sin(phi) - np.sin(rho)*np.sin(theta)*np.cos(phi))*np.sin(rho)*np.cos(theta) + sigma_3*(np.sin(phi)*np.sin(rho) + np.sin(theta)*np.cos(phi)*np.cos(rho))*np.cos(rho)*np.cos(theta))*np.sin(delta)*np.cos(xi) + (sigma_1*np.cos(phi)**2*np.cos(theta)**2 + sigma_2*(-2*np.sin(phi)*np.cos(rho/2)**2 + np.sin(phi) + np.sin(rho)*np.sin(theta)*np.cos(phi))**2 + sigma_3*(np.sin(phi)*np.sin(rho) + np.sin(theta)*np.cos(phi)*np.cos(rho))**2)*np.cos(delta)*np.cos(xi) + (-sigma_1*np.sin(phi)*np.cos(phi)*np.cos(theta)**2 + sigma_2*(-2*np.sin(phi)*np.sin(rho/2)**2 + np.sin(phi) - np.sin(rho)*np.sin(theta)*np.cos(phi))*(np.sin(phi)*np.sin(rho)*np.sin(theta) - 2*np.sin(rho/2)**2*np.cos(phi) + np.cos(phi)) + sigma_3*(np.sin(phi)*np.sin(rho) + np.sin(theta)*np.cos(phi)*np.cos(rho))*(-np.sin(phi)*np.sin(theta)*np.cos(rho) + np.sin(rho)*np.cos(phi)))*np.sin(xi))*np.cos(delta) + ((-sigma_1*(-np.sin(phi - 2*theta) + np.sin(phi + 2*theta))/4 - sigma_2*(-2*np.sin(phi)*np.sin(rho/2)**2 + np.sin(phi) - np.sin(rho)*np.sin(theta)*np.cos(phi))*np.sin(rho)*np.cos(theta) + sigma_3*(np.sin(phi)*np.sin(rho) + np.sin(theta)*np.cos(phi)*np.cos(rho))*np.cos(rho)*np.cos(theta))*np.cos(delta)*np.cos(xi) + (sigma_1*(np.cos(phi - 2*theta) - np.cos(phi + 2*theta))/4 - sigma_2*(np.sin(phi)*np.sin(rho)*np.sin(theta) - 2*np.sin(rho/2)**2*np.cos(phi) + np.cos(phi))*np.sin(rho)*np.cos(theta) + sigma_3*(-np.sin(phi)*np.sin(theta)*np.cos(rho) + np.sin(rho)*np.cos(phi))*np.cos(rho)*np.cos(theta))*np.sin(xi) - (sigma_1*np.sin(theta)**2 + sigma_2*np.sin(rho)**2*np.cos(theta)**2 + sigma_3*np.cos(rho)**2*np.cos(theta)**2)*np.sin(delta)*np.cos(xi))*np.sin(delta))/((-(-sigma_1*(-np.sin(phi - 2*theta) + np.sin(phi + 2*theta))/4 - sigma_2*(-2*np.sin(phi)*np.sin(rho/2)**2 + np.sin(phi) - np.sin(rho)*np.sin(theta)*np.cos(phi))*np.sin(rho)*np.cos(theta) + sigma_3*(np.sin(phi)*np.sin(rho) + np.sin(theta)*np.cos(phi)*np.cos(rho))*np.cos(rho)*np.cos(theta))*np.sin(delta)*np.cos(xi) + (sigma_1*np.cos(phi)**2*np.cos(theta)**2 + sigma_2*(-2*np.sin(phi)*np.cos(rho/2)**2 + np.sin(phi) + np.sin(rho)*np.sin(theta)*np.cos(phi))**2 + sigma_3*(np.sin(phi)*np.sin(rho) + np.sin(theta)*np.cos(phi)*np.cos(rho))**2)*np.cos(delta)*np.cos(xi) + (-sigma_1*np.sin(phi)*np.cos(phi)*np.cos(theta)**2 + sigma_2*(-2*np.sin(phi)*np.sin(rho/2)**2 + np.sin(phi) - np.sin(rho)*np.sin(theta)*np.cos(phi))*(np.sin(phi)*np.sin(rho)*np.sin(theta) - 2*np.sin(rho/2)**2*np.cos(phi) + np.cos(phi)) + sigma_3*(np.sin(phi)*np.sin(rho) + np.sin(theta)*np.cos(phi)*np.cos(rho))*(-np.sin(phi)*np.sin(theta)*np.cos(rho) + np.sin(rho)*np.cos(phi)))*np.sin(xi))*np.sin(delta) + ((-sigma_1*(-np.sin(phi - 2*theta) + np.sin(phi + 2*theta))/4 - sigma_2*(-2*np.sin(phi)*np.sin(rho/2)**2 + np.sin(phi) - np.sin(rho)*np.sin(theta)*np.cos(phi))*np.sin(rho)*np.cos(theta) + sigma_3*(np.sin(phi)*np.sin(rho) + np.sin(theta)*np.cos(phi)*np.cos(rho))*np.cos(rho)*np.cos(theta))*np.cos(delta)*np.cos(xi) + (sigma_1*(np.cos(phi - 2*theta) - np.cos(phi + 2*theta))/4 - sigma_2*(np.sin(phi)*np.sin(rho)*np.sin(theta) - 2*np.sin(rho/2)**2*np.cos(phi) + np.cos(phi))*np.sin(rho)*np.cos(theta) + sigma_3*(-np.sin(phi)*np.sin(theta)*np.cos(rho) + np.sin(rho)*np.cos(phi))*np.cos(rho)*np.cos(theta))*np.sin(xi) - (sigma_1*np.sin(theta)**2 + sigma_2*np.sin(rho)**2*np.cos(theta)**2 + sigma_3*np.cos(rho)**2*np.cos(theta)**2)*np.sin(delta)*np.cos(xi))*np.cos(delta))**2 - (-((-sigma_1*(-np.sin(phi - 2*theta) + np.sin(phi + 2*theta))/4 - sigma_2*(-2*np.sin(phi)*np.sin(rho/2)**2 + np.sin(phi) - np.sin(rho)*np.sin(theta)*np.cos(phi))*np.sin(rho)*np.cos(theta) + sigma_3*(np.sin(phi)*np.sin(rho) + np.sin(theta)*np.cos(phi)*np.cos(rho))*np.cos(rho)*np.cos(theta))*np.sin(delta)*np.sin(xi) + (sigma_1*np.sin(theta)**2 + sigma_2*np.sin(rho)**2*np.cos(theta)**2 + sigma_3*np.cos(rho)**2*np.cos(theta)**2)*np.sin(xi)*np.cos(delta))*np.cos(delta) - ((-sigma_1*(-np.sin(phi - 2*theta) + np.sin(phi + 2*theta))/4 - sigma_2*(-2*np.sin(phi)*np.sin(rho/2)**2 + np.sin(phi) - np.sin(rho)*np.sin(theta)*np.cos(phi))*np.sin(rho)*np.cos(theta) + sigma_3*(np.sin(phi)*np.sin(rho) + np.sin(theta)*np.cos(phi)*np.cos(rho))*np.cos(rho)*np.cos(theta))*np.sin(xi)*np.cos(delta) + (sigma_1*np.cos(phi)**2*np.cos(theta)**2 + sigma_2*(-2*np.sin(phi)*np.cos(rho/2)**2 + np.sin(phi) + np.sin(rho)*np.sin(theta)*np.cos(phi))**2 + sigma_3*(np.sin(phi)*np.sin(rho) + np.sin(theta)*np.cos(phi)*np.cos(rho))**2)*np.sin(delta)*np.sin(xi))*np.sin(delta) - ((-sigma_1*(-np.sin(phi - 2*theta) + np.sin(phi + 2*theta))/4 - sigma_2*(-2*np.sin(phi)*np.sin(rho/2)**2 + np.sin(phi) - np.sin(rho)*np.sin(theta)*np.cos(phi))*np.sin(rho)*np.cos(theta) + sigma_3*(np.sin(phi)*np.sin(rho) + np.sin(theta)*np.cos(phi)*np.cos(rho))*np.cos(rho)*np.cos(theta))*np.sin(delta)*np.sin(xi) - (sigma_1*np.cos(phi)**2*np.cos(theta)**2 + sigma_2*(-2*np.sin(phi)*np.cos(rho/2)**2 + np.sin(phi) + np.sin(rho)*np.sin(theta)*np.cos(phi))**2 + sigma_3*(np.sin(phi)*np.sin(rho) + np.sin(theta)*np.cos(phi)*np.cos(rho))**2)*np.sin(xi)*np.cos(delta) + (-sigma_1*np.sin(phi)*np.cos(phi)*np.cos(theta)**2 + sigma_2*(-2*np.sin(phi)*np.sin(rho/2)**2 + np.sin(phi) - np.sin(rho)*np.sin(theta)*np.cos(phi))*(np.sin(phi)*np.sin(rho)*np.sin(theta) - 2*np.sin(rho/2)**2*np.cos(phi) + np.cos(phi)) + sigma_3*(np.sin(phi)*np.sin(rho) + np.sin(theta)*np.cos(phi)*np.cos(rho))*(-np.sin(phi)*np.sin(theta)*np.cos(rho) + np.sin(rho)*np.cos(phi)))*np.cos(xi))*np.cos(delta) + (-(-sigma_1*(-np.sin(phi - 2*theta) + np.sin(phi + 2*theta))/4 - sigma_2*(-2*np.sin(phi)*np.sin(rho/2)**2 + np.sin(phi) - np.sin(rho)*np.sin(theta)*np.cos(phi))*np.sin(rho)*np.cos(theta) + sigma_3*(np.sin(phi)*np.sin(rho) + np.sin(theta)*np.cos(phi)*np.cos(rho))*np.cos(rho)*np.cos(theta))*np.sin(xi)*np.cos(delta) + (sigma_1*(np.cos(phi - 2*theta) - np.cos(phi + 2*theta))/4 - sigma_2*(np.sin(phi)*np.sin(rho)*np.sin(theta) - 2*np.sin(rho/2)**2*np.cos(phi) + np.cos(phi))*np.sin(rho)*np.cos(theta) + sigma_3*(-np.sin(phi)*np.sin(theta)*np.cos(rho) + np.sin(rho)*np.cos(phi))*np.cos(rho)*np.cos(theta))*np.cos(xi) + (sigma_1*np.sin(theta)**2 + sigma_2*np.sin(rho)**2*np.cos(theta)**2 + sigma_3*np.cos(rho)**2*np.cos(theta)**2)*np.sin(delta)*np.sin(xi))*np.sin(delta))/((-(-sigma_1*(-np.sin(phi - 2*theta) + np.sin(phi + 2*theta))/4 - sigma_2*(-2*np.sin(phi)*np.sin(rho/2)**2 + np.sin(phi) - np.sin(rho)*np.sin(theta)*np.cos(phi))*np.sin(rho)*np.cos(theta) + sigma_3*(np.sin(phi)*np.sin(rho) + np.sin(theta)*np.cos(phi)*np.cos(rho))*np.cos(rho)*np.cos(theta))*np.sin(delta)*np.cos(xi) + (sigma_1*np.cos(phi)**2*np.cos(theta)**2 + sigma_2*(-2*np.sin(phi)*np.cos(rho/2)**2 + np.sin(phi) + np.sin(rho)*np.sin(theta)*np.cos(phi))**2 + sigma_3*(np.sin(phi)*np.sin(rho) + np.sin(theta)*np.cos(phi)*np.cos(rho))**2)*np.cos(delta)*np.cos(xi) + (-sigma_1*np.sin(phi)*np.cos(phi)*np.cos(theta)**2 + sigma_2*(-2*np.sin(phi)*np.sin(rho/2)**2 + np.sin(phi) - np.sin(rho)*np.sin(theta)*np.cos(phi))*(np.sin(phi)*np.sin(rho)*np.sin(theta) - 2*np.sin(rho/2)**2*np.cos(phi) + np.cos(phi)) + sigma_3*(np.sin(phi)*np.sin(rho) + np.sin(theta)*np.cos(phi)*np.cos(rho))*(-np.sin(phi)*np.sin(theta)*np.cos(rho) + np.sin(rho)*np.cos(phi)))*np.sin(xi))*np.sin(delta) + ((-sigma_1*(-np.sin(phi - 2*theta) + np.sin(phi + 2*theta))/4 - sigma_2*(-2*np.sin(phi)*np.sin(rho/2)**2 + np.sin(phi) - np.sin(rho)*np.sin(theta)*np.cos(phi))*np.sin(rho)*np.cos(theta) + sigma_3*(np.sin(phi)*np.sin(rho) + np.sin(theta)*np.cos(phi)*np.cos(rho))*np.cos(rho)*np.cos(theta))*np.cos(delta)*np.cos(xi) + (sigma_1*(np.cos(phi - 2*theta) - np.cos(phi + 2*theta))/4 - sigma_2*(np.sin(phi)*np.sin(rho)*np.sin(theta) - 2*np.sin(rho/2)**2*np.cos(phi) + np.cos(phi))*np.sin(rho)*np.cos(theta) + sigma_3*(-np.sin(phi)*np.sin(theta)*np.cos(rho) + np.sin(rho)*np.cos(phi))*np.cos(rho)*np.cos(theta))*np.sin(xi) - (sigma_1*np.sin(theta)**2 + sigma_2*np.sin(rho)**2*np.cos(theta)**2 + sigma_3*np.cos(rho)**2*np.cos(theta)**2)*np.sin(delta)*np.cos(xi))*np.cos(delta)))/((-((-sigma_1*(-np.sin(phi - 2*theta) + np.sin(phi + 2*theta))/4 - sigma_2*(-2*np.sin(phi)*np.sin(rho/2)**2 + np.sin(phi) - np.sin(rho)*np.sin(theta)*np.cos(phi))*np.sin(rho)*np.cos(theta) + sigma_3*(np.sin(phi)*np.sin(rho) + np.sin(theta)*np.cos(phi)*np.cos(rho))*np.cos(rho)*np.cos(theta))*np.sin(delta)*np.sin(xi) - (sigma_1*np.cos(phi)**2*np.cos(theta)**2 + sigma_2*(-2*np.sin(phi)*np.cos(rho/2)**2 + np.sin(phi) + np.sin(rho)*np.sin(theta)*np.cos(phi))**2 + sigma_3*(np.sin(phi)*np.sin(rho) + np.sin(theta)*np.cos(phi)*np.cos(rho))**2)*np.sin(xi)*np.cos(delta) + (-sigma_1*np.sin(phi)*np.cos(phi)*np.cos(theta)**2 + sigma_2*(-2*np.sin(phi)*np.sin(rho/2)**2 + np.sin(phi) - np.sin(rho)*np.sin(theta)*np.cos(phi))*(np.sin(phi)*np.sin(rho)*np.sin(theta) - 2*np.sin(rho/2)**2*np.cos(phi) + np.cos(phi)) + sigma_3*(np.sin(phi)*np.sin(rho) + np.sin(theta)*np.cos(phi)*np.cos(rho))*(-np.sin(phi)*np.sin(theta)*np.cos(rho) + np.sin(rho)*np.cos(phi)))*np.cos(xi))*np.sin(delta) - (-(-sigma_1*(-np.sin(phi - 2*theta) + np.sin(phi + 2*theta))/4 - sigma_2*(-2*np.sin(phi)*np.sin(rho/2)**2 + np.sin(phi) - np.sin(rho)*np.sin(theta)*np.cos(phi))*np.sin(rho)*np.cos(theta) + sigma_3*(np.sin(phi)*np.sin(rho) + np.sin(theta)*np.cos(phi)*np.cos(rho))*np.cos(rho)*np.cos(theta))*np.sin(xi)*np.cos(delta) + (sigma_1*(np.cos(phi - 2*theta) - np.cos(phi + 2*theta))/4 - sigma_2*(np.sin(phi)*np.sin(rho)*np.sin(theta) - 2*np.sin(rho/2)**2*np.cos(phi) + np.cos(phi))*np.sin(rho)*np.cos(theta) + sigma_3*(-np.sin(phi)*np.sin(theta)*np.cos(rho) + np.sin(rho)*np.cos(phi))*np.cos(rho)*np.cos(theta))*np.cos(xi) + (sigma_1*np.sin(theta)**2 + sigma_2*np.sin(rho)**2*np.cos(theta)**2 + sigma_3*np.cos(rho)**2*np.cos(theta)**2)*np.sin(delta)*np.sin(xi))*np.cos(delta))**2/((-(-sigma_1*(-np.sin(phi - 2*theta) + np.sin(phi + 2*theta))/4 - sigma_2*(-2*np.sin(phi)*np.sin(rho/2)**2 + np.sin(phi) - np.sin(rho)*np.sin(theta)*np.cos(phi))*np.sin(rho)*np.cos(theta) + sigma_3*(np.sin(phi)*np.sin(rho) + np.sin(theta)*np.cos(phi)*np.cos(rho))*np.cos(rho)*np.cos(theta))*np.sin(delta)*np.cos(xi) + (sigma_1*np.cos(phi)**2*np.cos(theta)**2 + sigma_2*(-2*np.sin(phi)*np.cos(rho/2)**2 + np.sin(phi) + np.sin(rho)*np.sin(theta)*np.cos(phi))**2 + sigma_3*(np.sin(phi)*np.sin(rho) + np.sin(theta)*np.cos(phi)*np.cos(rho))**2)*np.cos(delta)*np.cos(xi) + (-sigma_1*np.sin(phi)*np.cos(phi)*np.cos(theta)**2 + sigma_2*(-2*np.sin(phi)*np.sin(rho/2)**2 + np.sin(phi) - np.sin(rho)*np.sin(theta)*np.cos(phi))*(np.sin(phi)*np.sin(rho)*np.sin(theta) - 2*np.sin(rho/2)**2*np.cos(phi) + np.cos(phi)) + sigma_3*(np.sin(phi)*np.sin(rho) + np.sin(theta)*np.cos(phi)*np.cos(rho))*(-np.sin(phi)*np.sin(theta)*np.cos(rho) + np.sin(rho)*np.cos(phi)))*np.sin(xi))*np.sin(delta) + ((-sigma_1*(-np.sin(phi - 2*theta) + np.sin(phi + 2*theta))/4 - sigma_2*(-2*np.sin(phi)*np.sin(rho/2)**2 + np.sin(phi) - np.sin(rho)*np.sin(theta)*np.cos(phi))*np.sin(rho)*np.cos(theta) + sigma_3*(np.sin(phi)*np.sin(rho) + np.sin(theta)*np.cos(phi)*np.cos(rho))*np.cos(rho)*np.cos(theta))*np.cos(delta)*np.cos(xi) + (sigma_1*(np.cos(phi - 2*theta) - np.cos(phi + 2*theta))/4 - sigma_2*(np.sin(phi)*np.sin(rho)*np.sin(theta) - 2*np.sin(rho/2)**2*np.cos(phi) + np.cos(phi))*np.sin(rho)*np.cos(theta) + sigma_3*(-np.sin(phi)*np.sin(theta)*np.cos(rho) + np.sin(rho)*np.cos(phi))*np.cos(rho)*np.cos(theta))*np.sin(xi) - (sigma_1*np.sin(theta)**2 + sigma_2*np.sin(rho)**2*np.cos(theta)**2 + sigma_3*np.cos(rho)**2*np.cos(theta)**2)*np.sin(delta)*np.cos(xi))*np.cos(delta))**2 + 1)\n",
    "    \n",
    "    return DlDphi"
   ]
  },
  {
   "cell_type": "code",
   "execution_count": 52,
   "metadata": {
    "collapsed": false
   },
   "outputs": [],
   "source": [
    "def taudip(sigma_1, sigma_2, sigma_3, phi, theta, rho, xi, delta):\n",
    "    \n",
    "    \n",
    "    taudip = ((-sigma_1*(-np.sin(phi - 2*theta) + np.sin(phi + 2*theta))/4 - sigma_2*(-2*np.sin(phi)*np.sin(rho/2)**2 + np.sin(phi) - np.sin(rho)*np.sin(theta)*np.cos(phi))*np.sin(rho)*np.cos(theta) + sigma_3*(np.sin(phi)*np.sin(rho) + np.sin(theta)*np.cos(phi)*np.cos(rho))*np.cos(rho)*np.cos(theta))*np.sin(delta)*np.sin(xi) - (sigma_1*np.cos(phi)**2*np.cos(theta)**2 + sigma_2*(-2*np.sin(phi)*np.cos(rho/2)**2 + np.sin(phi) + np.sin(rho)*np.sin(theta)*np.cos(phi))**2 + sigma_3*(np.sin(phi)*np.sin(rho) + np.sin(theta)*np.cos(phi)*np.cos(rho))**2)*np.sin(xi)*np.cos(delta) + (-sigma_1*np.sin(phi)*np.cos(phi)*np.cos(theta)**2 + sigma_2*(-2*np.sin(phi)*np.sin(rho/2)**2 + np.sin(phi) - np.sin(rho)*np.sin(theta)*np.cos(phi))*(np.sin(phi)*np.sin(rho)*np.sin(theta) - 2*np.sin(rho/2)**2*np.cos(phi) + np.cos(phi)) + sigma_3*(np.sin(phi)*np.sin(rho) + np.sin(theta)*np.cos(phi)*np.cos(rho))*(-np.sin(phi)*np.sin(theta)*np.cos(rho) + np.sin(rho)*np.cos(phi)))*np.cos(xi))*np.sin(delta) + (-(-sigma_1*(-np.sin(phi - 2*theta) + np.sin(phi + 2*theta))/4 - sigma_2*(-2*np.sin(phi)*np.sin(rho/2)**2 + np.sin(phi) - np.sin(rho)*np.sin(theta)*np.cos(phi))*np.sin(rho)*np.cos(theta) + sigma_3*(np.sin(phi)*np.sin(rho) + np.sin(theta)*np.cos(phi)*np.cos(rho))*np.cos(rho)*np.cos(theta))*np.sin(xi)*np.cos(delta) + (sigma_1*(np.cos(phi - 2*theta) - np.cos(phi + 2*theta))/4 - sigma_2*(np.sin(phi)*np.sin(rho)*np.sin(theta) - 2*np.sin(rho/2)**2*np.cos(phi) + np.cos(phi))*np.sin(rho)*np.cos(theta) + sigma_3*(-np.sin(phi)*np.sin(theta)*np.cos(rho) + np.sin(rho)*np.cos(phi))*np.cos(rho)*np.cos(theta))*np.cos(xi) + (sigma_1*np.sin(theta)**2 + sigma_2*np.sin(rho)**2*np.cos(theta)**2 + sigma_3*np.cos(rho)**2*np.cos(theta)**2)*np.sin(delta)*np.sin(xi))*np.cos(delta)\n",
    "    return taudip\n",
    "    "
   ]
  },
  {
   "cell_type": "code",
   "execution_count": 53,
   "metadata": {
    "collapsed": false
   },
   "outputs": [],
   "source": [
    "def taustrike(sigma_1, sigma_2, sigma_3, phi, theta, rho, xi, delta):\n",
    "    \n",
    "    taustrike = (-(-sigma_1*(-np.sin(phi - 2*theta) + np.sin(phi + 2*theta))/4 - sigma_2*(-2*np.sin(phi)*np.sin(rho/2)**2 + np.sin(phi) - np.sin(rho)*np.sin(theta)*np.cos(phi))*np.sin(rho)*np.cos(theta) + sigma_3*(np.sin(phi)*np.sin(rho) + np.sin(theta)*np.cos(phi)*np.cos(rho))*np.cos(rho)*np.cos(theta))*np.sin(delta)*np.cos(xi) + (sigma_1*np.cos(phi)**2*np.cos(theta)**2 + sigma_2*(-2*np.sin(phi)*np.cos(rho/2)**2 + np.sin(phi) + np.sin(rho)*np.sin(theta)*np.cos(phi))**2 + sigma_3*(np.sin(phi)*np.sin(rho) + np.sin(theta)*np.cos(phi)*np.cos(rho))**2)*np.cos(delta)*np.cos(xi) + (-sigma_1*np.sin(phi)*np.cos(phi)*np.cos(theta)**2 + sigma_2*(-2*np.sin(phi)*np.sin(rho/2)**2 + np.sin(phi) - np.sin(rho)*np.sin(theta)*np.cos(phi))*(np.sin(phi)*np.sin(rho)*np.sin(theta) - 2*np.sin(rho/2)**2*np.cos(phi) + np.cos(phi)) + sigma_3*(np.sin(phi)*np.sin(rho) + np.sin(theta)*np.cos(phi)*np.cos(rho))*(-np.sin(phi)*np.sin(theta)*np.cos(rho) + np.sin(rho)*np.cos(phi)))*np.sin(xi))*np.sin(delta) + ((-sigma_1*(-np.sin(phi - 2*theta) + np.sin(phi + 2*theta))/4 - sigma_2*(-2*np.sin(phi)*np.sin(rho/2)**2 + np.sin(phi) - np.sin(rho)*np.sin(theta)*np.cos(phi))*np.sin(rho)*np.cos(theta) + sigma_3*(np.sin(phi)*np.sin(rho) + np.sin(theta)*np.cos(phi)*np.cos(rho))*np.cos(rho)*np.cos(theta))*np.cos(delta)*np.cos(xi) + (sigma_1*(np.cos(phi - 2*theta) - np.cos(phi + 2*theta))/4 - sigma_2*(np.sin(phi)*np.sin(rho)*np.sin(theta) - 2*np.sin(rho/2)**2*np.cos(phi) + np.cos(phi))*np.sin(rho)*np.cos(theta) + sigma_3*(-np.sin(phi)*np.sin(theta)*np.cos(rho) + np.sin(rho)*np.cos(phi))*np.cos(rho)*np.cos(theta))*np.sin(xi) - (sigma_1*np.sin(theta)**2 + sigma_2*np.sin(rho)**2*np.cos(theta)**2 + sigma_3*np.cos(rho)**2*np.cos(theta)**2)*np.sin(delta)*np.cos(xi))*np.cos(delta)\n",
    "    \n",
    "    return taustrike"
   ]
  },
  {
   "cell_type": "code",
   "execution_count": 59,
   "metadata": {
    "collapsed": true
   },
   "outputs": [],
   "source": [
    "sigma_1, sigma_2, sigma_3, phi, theta, rho, xi, delta = -1, -1/2, -1/4,  -np.pi/4, -0.0, np.pi/2, 0, np.pi/2"
   ]
  },
  {
   "cell_type": "code",
   "execution_count": 67,
   "metadata": {
    "collapsed": false
   },
   "outputs": [],
   "source": [
    "tdip =-taudip(sigma_1, sigma_2, sigma_3, phi, theta, rho, xi, delta)\n",
    "tstrike = taustrike(sigma_1, sigma_2, sigma_3, phi, theta, rho, xi, delta)"
   ]
  },
  {
   "cell_type": "code",
   "execution_count": 68,
   "metadata": {
    "collapsed": false
   },
   "outputs": [
    {
     "name": "stdout",
     "output_type": "stream",
     "text": [
      "5.65817335861e-15\n",
      "0.375\n",
      "3.70326580336e-17\n"
     ]
    }
   ],
   "source": [
    "rake = np.arctan2(tstrike, tdip)\n",
    "print(rake*180/np.pi)\n",
    "print(tdip)\n",
    "print(tstrike)"
   ]
  },
  {
   "cell_type": "code",
   "execution_count": 37,
   "metadata": {
    "collapsed": false
   },
   "outputs": [
    {
     "data": {
      "text/plain": [
       "[1.5708, -0.0, 0.0]"
      ]
     },
     "execution_count": 37,
     "metadata": {},
     "output_type": "execute_result"
    }
   ],
   "source": [
    "[-0.785398,-0.0,1.5708]"
   ]
  },
  {
   "cell_type": "code",
   "execution_count": 73,
   "metadata": {
    "collapsed": false
   },
   "outputs": [],
   "source": [
    "df = dlambdadphi(sigma_1, sigma_2, sigma_3, phi, theta, rho, xi, delta)*180/np.pi"
   ]
  },
  {
   "cell_type": "code",
   "execution_count": 77,
   "metadata": {
    "collapsed": false
   },
   "outputs": [
    {
     "name": "stdout",
     "output_type": "stream",
     "text": [
      "381.971863421\n"
     ]
    }
   ],
   "source": [
    "error_prop =np.sqrt((df*20)**2)\n",
    "print(error_prop)"
   ]
  },
  {
   "cell_type": "code",
   "execution_count": null,
   "metadata": {
    "collapsed": true
   },
   "outputs": [],
   "source": []
  }
 ],
 "metadata": {
  "anaconda-cloud": {},
  "kernelspec": {
   "display_name": "Python [conda root]",
   "language": "python",
   "name": "conda-root-py"
  },
  "language_info": {
   "codemirror_mode": {
    "name": "ipython",
    "version": 3
   },
   "file_extension": ".py",
   "mimetype": "text/x-python",
   "name": "python",
   "nbconvert_exporter": "python",
   "pygments_lexer": "ipython3",
   "version": "3.5.2"
  }
 },
 "nbformat": 4,
 "nbformat_minor": 1
}
