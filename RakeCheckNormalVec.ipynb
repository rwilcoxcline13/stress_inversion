{
 "cells": [
  {
   "cell_type": "code",
   "execution_count": 8,
   "metadata": {
    "collapsed": false
   },
   "outputs": [
    {
     "name": "stderr",
     "output_type": "stream",
     "text": [
      "WARNING: Method definition OrderedEigenSystem(Any) in module Main at /cmld/data2/rwcline/Desktop/new_julia_stress_inversion_09262017/FMfcns_RWC111617_fixedauxplane.jl:11 overwritten at /cmld/data2/rwcline/Desktop/new_julia_stress_inversion_09262017/FMfcns_RWC111617_fixedauxplane.jl:11.\n",
      "WARNING: Method definition rotation_matrix(Any, Any) in module Main at /cmld/data2/rwcline/Desktop/new_julia_stress_inversion_09262017/FMfcns_RWC111617_fixedauxplane.jl:39 overwritten at /cmld/data2/rwcline/Desktop/new_julia_stress_inversion_09262017/FMfcns_RWC111617_fixedauxplane.jl:39.\n",
      "WARNING: Method definition moment_tensor(Any, Any, Any) in module Main at /cmld/data2/rwcline/Desktop/new_julia_stress_inversion_09262017/FMfcns_RWC111617_fixedauxplane.jl:55 overwritten at /cmld/data2/rwcline/Desktop/new_julia_stress_inversion_09262017/FMfcns_RWC111617_fixedauxplane.jl:55.\n",
      "WARNING: Method definition moment_tensor_2_PTN(Any) in module Main at /cmld/data2/rwcline/Desktop/new_julia_stress_inversion_09262017/FMfcns_RWC111617_fixedauxplane.jl:71 overwritten at /cmld/data2/rwcline/Desktop/new_julia_stress_inversion_09262017/FMfcns_RWC111617_fixedauxplane.jl:71.\n",
      "WARNING: Method definition PTN_2_fault_geometry(Any, Any, Any) in module Main at /cmld/data2/rwcline/Desktop/new_julia_stress_inversion_09262017/FMfcns_RWC111617_fixedauxplane.jl:85 overwritten at /cmld/data2/rwcline/Desktop/new_julia_stress_inversion_09262017/FMfcns_RWC111617_fixedauxplane.jl:85.\n",
      "WARNING: Method definition fault_rotation(Any, Any) in module Main at /cmld/data2/rwcline/Desktop/new_julia_stress_inversion_09262017/FMfcns_RWC111617_fixedauxplane.jl:96 overwritten at /cmld/data2/rwcline/Desktop/new_julia_stress_inversion_09262017/FMfcns_RWC111617_fixedauxplane.jl:96.\n",
      "WARNING: Method definition strike_dip(Any) in module Main at /cmld/data2/rwcline/Desktop/new_julia_stress_inversion_09262017/FMfcns_RWC111617_fixedauxplane.jl:118 overwritten at /cmld/data2/rwcline/Desktop/new_julia_stress_inversion_09262017/FMfcns_RWC111617_fixedauxplane.jl:118.\n",
      "WARNING: Method definition calc_rake(Any, Any) in module Main at /cmld/data2/rwcline/Desktop/new_julia_stress_inversion_09262017/FMfcns_RWC111617_fixedauxplane.jl:143 overwritten at /cmld/data2/rwcline/Desktop/new_julia_stress_inversion_09262017/FMfcns_RWC111617_fixedauxplane.jl:143.\n",
      "WARNING: Method definition fault_parameters_2_nodal_planes(Any, Any, Any) in module Main at /cmld/data2/rwcline/Desktop/new_julia_stress_inversion_09262017/FMfcns_RWC111617_fixedauxplane.jl:169 overwritten at /cmld/data2/rwcline/Desktop/new_julia_stress_inversion_09262017/FMfcns_RWC111617_fixedauxplane.jl:169.\n"
     ]
    }
   ],
   "source": [
    "include(\"FMfcns_RWC111617_fixedauxplane.jl\");\n"
   ]
  },
  {
   "cell_type": "code",
   "execution_count": 134,
   "metadata": {
    "collapsed": true
   },
   "outputs": [],
   "source": [
    "str = 282*pi/180;\n",
    "di = 90*pi/180;\n",
    "sli = 180*pi/180;"
   ]
  },
  {
   "cell_type": "code",
   "execution_count": 147,
   "metadata": {
    "collapsed": false
   },
   "outputs": [
    {
     "name": "stdout",
     "output_type": "stream",
     "text": [
      "[0.207912,-0.978148,0.0]"
     ]
    }
   ],
   "source": [
    "M = moment_tensor(str, di, sli);\n",
    "\n",
    "P, N, T = moment_tensor_2_PTN(M);\n",
    "\n",
    "normal, normal_aux, slip, slip_aux = PTN_2_fault_geometry(P, T, N);\n",
    "print(normal)\n"
   ]
  },
  {
   "cell_type": "code",
   "execution_count": 148,
   "metadata": {
    "collapsed": false
   },
   "outputs": [
    {
     "data": {
      "text/plain": [
       "1.0"
      ]
     },
     "execution_count": 148,
     "metadata": {},
     "output_type": "execute_result"
    }
   ],
   "source": [
    "sign(normal[1])\n"
   ]
  },
  {
   "cell_type": "code",
   "execution_count": 149,
   "metadata": {
    "collapsed": false
   },
   "outputs": [
    {
     "data": {
      "text/plain": [
       "-1.0"
      ]
     },
     "execution_count": 149,
     "metadata": {},
     "output_type": "execute_result"
    }
   ],
   "source": [
    "sign(normal[2])"
   ]
  },
  {
   "cell_type": "code",
   "execution_count": 150,
   "metadata": {
    "collapsed": false
   },
   "outputs": [
    {
     "name": "stdout",
     "output_type": "stream",
     "text": [
      "Q2\n",
      "11.999999999999941\n",
      "90.0"
     ]
    }
   ],
   "source": [
    "if sign(normal[1]) == -1.00 && sign(normal[2]) == -1.00\n",
    "\n",
    "    println(\"Q4\")\n",
    "    strike_calc = pi-atan2(normal[1], normal[2]);\n",
    "    println(strike_calc*180/pi)\n",
    "    D = [0, 0, -1];\n",
    "    dip_calc = acos(dot(D, normal));\n",
    "    print(dip_calc)\n",
    "    \n",
    "elseif sign(normal[1]) == 1.0 && sign(normal[2]) == -1.0\n",
    "    \n",
    "    println(\"Q2\")\n",
    "    strike_calc = pi/2+(atan2(normal[2], normal[1]))\n",
    "    println(strike_calc*180/pi)\n",
    "    D = [0, 0, -1]\n",
    "    dip_calc = acos(dot(D, normal));\n",
    "    print(dip_calc*180/pi)\n",
    "    \n",
    "elseif sign(normal[1]) == 1.0 && sign(normal[2]) == 1.0\n",
    "    \n",
    "    println(\"Q1\")\n",
    "    strike_calc = pi+(atan2(normal[2], normal[1]))\n",
    "    println(strike_calc*180/pi)\n",
    "    print(dip_calc*180/pi)\n",
    "    \n",
    "\n",
    "\n",
    "\n",
    "\n",
    "\n",
    "\n",
    "end"
   ]
  },
  {
   "cell_type": "code",
   "execution_count": null,
   "metadata": {
    "collapsed": true
   },
   "outputs": [],
   "source": []
  },
  {
   "cell_type": "code",
   "execution_count": null,
   "metadata": {
    "collapsed": true
   },
   "outputs": [],
   "source": []
  }
 ],
 "metadata": {
  "anaconda-cloud": {},
  "kernelspec": {
   "display_name": "Julia 0.5.0",
   "language": "julia",
   "name": "julia-0.5"
  },
  "language_info": {
   "file_extension": ".jl",
   "mimetype": "application/julia",
   "name": "julia",
   "version": "0.5.2"
  }
 },
 "nbformat": 4,
 "nbformat_minor": 1
}
