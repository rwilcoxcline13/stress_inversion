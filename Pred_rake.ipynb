{
 "cells": [
  {
   "cell_type": "code",
   "execution_count": 3,
   "metadata": {
    "collapsed": true
   },
   "outputs": [],
   "source": [
    "include(\"FMfcns_RWC072117_fixedauxplane.jl\");\n",
    "include(\"StressInvUtils_RWC_09142017.jl\");"
   ]
  },
  {
   "cell_type": "code",
   "execution_count": 4,
   "metadata": {},
   "outputs": [
    {
     "data": {
      "text/plain": [
       "StressOrientation_Matrix (generic function with 1 method)"
      ]
     },
     "execution_count": 4,
     "metadata": {},
     "output_type": "execute_result"
    }
   ],
   "source": [
    "function StressOrientation_Matrix(phi, theta, rho)\n",
    "\n",
    "    Rphi = rotation_matrix_stress_utils([0, 0, 1], phi)\n",
    "    yp = Rphi*[0, -1, 0]\n",
    "    Rtheta = rotation_matrix_stress_utils(yp, theta)\n",
    "    Ri = Rtheta*Rphi\n",
    "    xpp = Ri*[1, 0, 0]\n",
    "    Rrho = rotation_matrix_stress_utils(xpp, rho)\n",
    "    Rstress = Rrho*Ri\n",
    "\n",
    "    return Rstress\n",
    "\n",
    "end"
   ]
  },
  {
   "cell_type": "code",
   "execution_count": 5,
   "metadata": {},
   "outputs": [
    {
     "data": {
      "text/plain": [
       "3×3 Array{Float64,2}:\n",
       "  1.66533e-16  -0.707107  0.707107   \n",
       "  1.11022e-16   0.707107  0.707107   \n",
       " -1.0           0.0       2.22045e-16"
      ]
     },
     "execution_count": 5,
     "metadata": {},
     "output_type": "execute_result"
    }
   ],
   "source": [
    "Rstress = StressOrientation_Matrix(-pi/4, pi/2, -0)"
   ]
  },
  {
   "cell_type": "code",
   "execution_count": 6,
   "metadata": {},
   "outputs": [
    {
     "data": {
      "text/plain": [
       "3×3 Array{Float64,2}:\n",
       " 2.22045e-16  0.0  -1.0        \n",
       " 0.0          1.0   0.0        \n",
       " 1.0          0.0   2.22045e-16"
      ]
     },
     "execution_count": 6,
     "metadata": {},
     "output_type": "execute_result"
    }
   ],
   "source": [
    "Rfault = FaultOrientation_Matrix(0, pi/2)"
   ]
  },
  {
   "cell_type": "code",
   "execution_count": 10,
   "metadata": {},
   "outputs": [
    {
     "data": {
      "text/plain": [
       "3×3 Array{Float64,2}:\n",
       " -0.375         0.125       1.27281e-16\n",
       "  0.125        -0.375       7.177e-17  \n",
       "  1.27281e-16   7.177e-17  -1.0        "
      ]
     },
     "execution_count": 10,
     "metadata": {},
     "output_type": "execute_result"
    }
   ],
   "source": [
    "stressgeo = Rstress*[-1 0 0; 0 -1/2  0; 0 0 -1/4]*Rstress'"
   ]
  },
  {
   "cell_type": "code",
   "execution_count": 11,
   "metadata": {},
   "outputs": [
    {
     "data": {
      "text/plain": [
       "3×3 Array{Float64,2}:\n",
       " -1.0          -4.40144e-17   1.14967e-17\n",
       " -4.40144e-17  -0.375         0.125      \n",
       "  1.14967e-17   0.125        -0.375      "
      ]
     },
     "execution_count": 11,
     "metadata": {},
     "output_type": "execute_result"
    }
   ],
   "source": [
    "stressfault = Rfault*stressgeo*Rfault'"
   ]
  },
  {
   "cell_type": "code",
   "execution_count": null,
   "metadata": {
    "collapsed": true
   },
   "outputs": [],
   "source": []
  }
 ],
 "metadata": {
  "kernelspec": {
   "display_name": "Julia 0.6.0",
   "language": "julia",
   "name": "julia-0.6"
  },
  "language_info": {
   "file_extension": ".jl",
   "mimetype": "application/julia",
   "name": "julia",
   "version": "0.6.0"
  }
 },
 "nbformat": 4,
 "nbformat_minor": 2
}
