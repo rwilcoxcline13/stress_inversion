{
 "cells": [
  {
   "cell_type": "code",
   "execution_count": 1,
   "metadata": {
    "collapsed": false
   },
   "outputs": [
    {
     "data": {
      "text/plain": [
       "rotation_matrix (generic function with 1 method)"
      ]
     },
     "execution_count": 1,
     "metadata": {},
     "output_type": "execute_result"
    }
   ],
   "source": [
    "function rotation_matrix(axis, rotation_angle)\n",
    "\n",
    "  #=\n",
    "   =======================================================================\n",
    "  Creates a rotation matrix for a rotation around an arbitrary axis as\n",
    "  described by the Euler-Rodrigues formula\n",
    "\n",
    "  NOTE: Use this matrix to explicitly rotate about an arbitrary axis. This\n",
    "  matrix is more easily used to transform  between Aki-Richards convention\n",
    "  and standard RH coordinate systems than the other rotationmat3D function\n",
    "   =======================================================================\n",
    "\n",
    "  =#\n",
    "\n",
    "    axis_normalized = axis/sqrt(vecdot(axis, axis))\n",
    "    a = cos(rotation_angle/2)\n",
    "    b = -axis_normalized[1]*sin(rotation_angle/2)\n",
    "    c = -axis_normalized[2]*sin(rotation_angle/2)\n",
    "    d = -axis_normalized[3]*sin(rotation_angle/2)\n",
    "    rot_mat = [a^2+b^2-c^2-d^2 2*(b*c-a*d) 2*(b*d+a*c);\n",
    "               2*(b*c+a*d) a^2+c^2-b^2-d^2 2*(c*d-a*b);\n",
    "               2*(b*d-a*c) 2*(c*d+a*b) (a^2+d^2-b^2-c^2)]\n",
    "\n",
    "    return rot_mat\n",
    "end"
   ]
  },
  {
   "cell_type": "code",
   "execution_count": 2,
   "metadata": {
    "collapsed": false
   },
   "outputs": [
    {
     "data": {
      "text/plain": [
       "stress_rotation (generic function with 1 method)"
      ]
     },
     "execution_count": 2,
     "metadata": {},
     "output_type": "execute_result"
    }
   ],
   "source": [
    "function stress_rotation(phi, theta, rho)\n",
    "    \n",
    "    Rstrike = rotation_matrix([0, 0, 1], phi)\n",
    "    yp = Rstrike*[0, -1, 0]\n",
    "    Rdip = rotation_matrix(yp, theta)\n",
    "    Ri = Rdip*Rstrike\n",
    "    xpp = Ri*[1, 0, 0]\n",
    "    Rrho = rotation_matrix(xpp, rho)\n",
    "    Rstress = Rrho*Ri\n",
    "    \n",
    "    return Rstress\n",
    "    \n",
    "end"
   ]
  },
  {
   "cell_type": "code",
   "execution_count": 3,
   "metadata": {
    "collapsed": false
   },
   "outputs": [
    {
     "data": {
      "text/plain": [
       "fault_rotation (generic function with 1 method)"
      ]
     },
     "execution_count": 3,
     "metadata": {},
     "output_type": "execute_result"
    }
   ],
   "source": [
    "function fault_rotation(strike, dip)\n",
    "    \n",
    "    Rstrike = rotation_matrix([0, 0, 1], strike)\n",
    "    yp = Rstrike*[0, -1, 0]\n",
    "    Rdip = rotation_matrix(yp, dip)\n",
    "    Rfault = Rdip*Rstrike\n",
    "    \n",
    "    return Rfault\n",
    "    \n",
    "end\n",
    "    \n",
    "    "
   ]
  },
  {
   "cell_type": "code",
   "execution_count": 4,
   "metadata": {
    "collapsed": false
   },
   "outputs": [
    {
     "data": {
      "text/plain": [
       "ordered_eigensystem (generic function with 1 method)"
      ]
     },
     "execution_count": 4,
     "metadata": {},
     "output_type": "execute_result"
    }
   ],
   "source": [
    "function ordered_eigensystem(M)\n",
    "    \n",
    "    vals, vecs = eig(M)\n",
    "    idx_sorted = sortperm(vals)\n",
    "    vals_sorted = vals[idx_sorted]\n",
    "    vecs_sorted = vecs[:, idx_sorted]\n",
    "    \n",
    "    return vals_sorted, vecs_sorted\n",
    "    \n",
    "end"
   ]
  },
  {
   "cell_type": "code",
   "execution_count": 28,
   "metadata": {
    "collapsed": false
   },
   "outputs": [
    {
     "data": {
      "text/plain": [
       "0.0"
      ]
     },
     "execution_count": 28,
     "metadata": {},
     "output_type": "execute_result"
    }
   ],
   "source": [
    "pstress = [-1, -1/2, -1/4];\n",
    "sangle = [0, 0, 0];\n",
    "fangle = [0, pi/4, 0];\n",
    "\n",
    "phiF   = fangle[1]\n",
    "thetaF = fangle[2]\n",
    "rakeF  = fangle[3]"
   ]
  },
  {
   "cell_type": "code",
   "execution_count": 29,
   "metadata": {
    "collapsed": false
   },
   "outputs": [
    {
     "data": {
      "text/plain": [
       "3×3 Array{Float64,2}:\n",
       " -1.0   0.0   0.0 \n",
       "  0.0  -0.5   0.0 \n",
       "  0.0   0.0  -0.25"
      ]
     },
     "execution_count": 29,
     "metadata": {},
     "output_type": "execute_result"
    }
   ],
   "source": [
    "if size(pstress) == (3,3)\n",
    "    \n",
    "        stressDirection = pstress;\n",
    "\n",
    "    else\n",
    "        #sangle = [Stress_strike_MCS, Stress_dip_MCS, Stress_dip_ICS]\n",
    "    \n",
    "    \n",
    "        S1 = pstress[1];\n",
    "        S2 = pstress[2];\n",
    "        S3 = pstress[3];\n",
    "        phi_MCS   = sangle[1];\n",
    "        theta_MCS = sangle[2];\n",
    "        rho = sangle[3];\n",
    "\n",
    "        #define the principal stress tensor\n",
    "        Sprincipal = [S1 0.0 0.0;\n",
    "                      0.0 S2 0.0;\n",
    "                      0.0 0.0 S3];\n",
    "\n",
    "end"
   ]
  },
  {
   "cell_type": "code",
   "execution_count": 31,
   "metadata": {
    "collapsed": false
   },
   "outputs": [
    {
     "name": "stdout",
     "output_type": "stream",
     "text": [
      "90.0\n"
     ]
    }
   ],
   "source": [
    "Rstress = stress_rotation(phi_MCS, theta_MCS, rho)\n",
    "Rfault = fault_rotation(phiF, thetaF)\n",
    "\n",
    "S_geographic = Rstress'*Sprincipal*Rstress\n",
    "S_fault = Rfault*S_geographic*Rfault'\n",
    "\n",
    "SigmaN = S_fault[3,3]\n",
    "Tau_rake_parallel = S_fault[2,3]\n",
    "Tau_rake_perpendicular = S_fault[1,3]\n",
    "TauDip = Tau_rake_parallel \n",
    "TauStrike = Tau_rake_perpendicular \n",
    "Tau_rake_parallel \n",
    "RakeCalc = atan2(TauStrike, TauDip);\n",
    "\n",
    "println(RakeCalc*180/pi)\n",
    "\n",
    "\n",
    "\n"
   ]
  },
  {
   "cell_type": "code",
   "execution_count": null,
   "metadata": {
    "collapsed": false
   },
   "outputs": [],
   "source": [
    "\n"
   ]
  },
  {
   "cell_type": "code",
   "execution_count": null,
   "metadata": {
    "collapsed": true
   },
   "outputs": [],
   "source": []
  },
  {
   "cell_type": "code",
   "execution_count": null,
   "metadata": {
    "collapsed": true
   },
   "outputs": [],
   "source": []
  },
  {
   "cell_type": "code",
   "execution_count": null,
   "metadata": {
    "collapsed": true
   },
   "outputs": [],
   "source": []
  }
 ],
 "metadata": {
  "anaconda-cloud": {},
  "kernelspec": {
   "display_name": "Julia 0.5.0",
   "language": "julia",
   "name": "julia-0.5"
  },
  "language_info": {
   "file_extension": ".jl",
   "mimetype": "application/julia",
   "name": "julia",
   "version": "0.5.0"
  }
 },
 "nbformat": 4,
 "nbformat_minor": 1
}
