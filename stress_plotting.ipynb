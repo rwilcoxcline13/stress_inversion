{
 "cells": [
  {
   "cell_type": "code",
   "execution_count": 1,
   "metadata": {
    "collapsed": true
   },
   "outputs": [],
   "source": [
    "import numpy as np\n",
    "import matplotlib.pyplot as plt\n",
    "import matplotlib.lines as lines\n",
    "from matplotlib.lines import Line2D \n",
    "%matplotlib inline"
   ]
  },
  {
   "cell_type": "code",
   "execution_count": 2,
   "metadata": {
    "collapsed": true
   },
   "outputs": [],
   "source": [
    "def lambert_plot(x, y):\n",
    "\n",
    "    fig = plt.figure()\n",
    "\n",
    "    ax = fig.add_subplot(111)\n",
    "\n",
    "    x = np.linspace(-np.pi, np.pi, 1000)\n",
    "    theta = np.array([0, np.pi/6, np.pi/3, np.pi/2])\n",
    "    x_lines = r1*np.cos(theta)\n",
    "    y_lines = r1*np.sin(theta)\n",
    "\n",
    "    r1 = np.sqrt(2)\n",
    "    r2 = 1\n",
    "    r3 = 1/(np.sqrt(2+np.sqrt(3)))\n",
    "\n",
    "    ax.plot([-x_lines[0], x_lines[0]], [y_lines[0], y_lines[0]], lw=1, color='k')\n",
    "    ax.plot([-x_lines[1], x_lines[1]], [-y_lines[1], y_lines[1]], lw=1, color='k')\n",
    "    ax.plot([-x_lines[2], x_lines[2]], [-y_lines[2], y_lines[2]], lw=1, color='k')\n",
    "    ax.plot([-x_lines[3], x_lines[3]], [-y_lines[3], y_lines[3]], lw=1, color='k')\n",
    "    ax.plot([-x_lines[1], x_lines[1]], [y_lines[1], -y_lines[1]], lw=1, color='k')\n",
    "    ax.plot([-x_lines[2], x_lines[2]], [y_lines[2], -y_lines[2]], lw=1, color='k')\n",
    "    ax.plot([-x_lines[3], x_lines[3]], [y_lines[3], -y_lines[3]], lw=1, color='k')\n",
    "\n",
    "    ax.plot(r1*np.sin(x), r1*np.cos(x), 'k')\n",
    "    ax.plot(r2*np.sin(x), r2*np.cos(x), 'k')\n",
    "    ax.plot(r3*np.sin(x), r3*np.cos(x), 'k')\n",
    "\n",
    "    ax.scatter(x, y, s = 1)"
   ]
  },
  {
   "cell_type": "code",
   "execution_count": null,
   "metadata": {
    "collapsed": true
   },
   "outputs": [],
   "source": []
  }
 ],
 "metadata": {
  "anaconda-cloud": {},
  "kernelspec": {
   "display_name": "Python [default]",
   "language": "python",
   "name": "python3"
  },
  "language_info": {
   "codemirror_mode": {
    "name": "ipython",
    "version": 3
   },
   "file_extension": ".py",
   "mimetype": "text/x-python",
   "name": "python",
   "nbconvert_exporter": "python",
   "pygments_lexer": "ipython3",
   "version": "3.5.2"
  }
 },
 "nbformat": 4,
 "nbformat_minor": 1
}
