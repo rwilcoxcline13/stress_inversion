{
 "cells": [
  {
   "cell_type": "code",
   "execution_count": 1,
   "metadata": {
    "collapsed": false
   },
   "outputs": [
    {
     "name": "stderr",
     "output_type": "stream",
     "text": [
      "WARNING: Method definition OrderedEigenSystem(Any) in module Main at /cmld/data2/rwcline/Desktop/new_inversion_scripts/FMfcns_RWC11282017.jl:27 overwritten at /cmld/data2/rwcline/Desktop/new_inversion_scripts/StressInvUtils_RWC_09142017.jl:60.\n",
      "WARNING: Method definition rotation_to_euler(Any) in module Main at /cmld/data2/rwcline/Desktop/new_inversion_scripts/StressInvUtils_RWC_09142017.jl:830 overwritten at /cmld/data2/rwcline/Desktop/new_inversion_scripts/StressInvUtils_RWC_09142017.jl:890.\n",
      "WARNING: Method definition standard_rotation_matrix(Any, Any, Any) in module Main at /cmld/data2/rwcline/Desktop/new_inversion_scripts/StressInvUtils_RWC_09142017.jl:873 overwritten at /cmld/data2/rwcline/Desktop/new_inversion_scripts/StressInvUtils_RWC_09142017.jl:933.\n"
     ]
    },
    {
     "data": {
      "text/plain": [
       "starting_direction (generic function with 1 method)"
      ]
     },
     "execution_count": 1,
     "metadata": {},
     "output_type": "execute_result"
    }
   ],
   "source": [
    "include(\"FMfcns_RWC11282017.jl\")\n",
    "include(\"StressInvUtils_RWC_09142017.jl\")"
   ]
  },
  {
   "cell_type": "markdown",
   "metadata": {},
   "source": [
    "<p> Specify Strike, Dip, and Rake </p>"
   ]
  },
  {
   "cell_type": "code",
   "execution_count": 2,
   "metadata": {
    "collapsed": false
   },
   "outputs": [
    {
     "data": {
      "text/plain": [
       "3.141592653589793"
      ]
     },
     "execution_count": 2,
     "metadata": {},
     "output_type": "execute_result"
    }
   ],
   "source": [
    "strike = 0*pi/180;\n",
    "dip = 90*pi/180;\n",
    "rake = 0*pi/180;\n",
    "\n",
    "strike_aux = 270*pi/180\n",
    "dip_aux = 90*pi/180\n",
    "rake_aux = 180*pi/180"
   ]
  },
  {
   "cell_type": "markdown",
   "metadata": {},
   "source": [
    "<p> Calculate moment tensor and normal/slip vectors </p>"
   ]
  },
  {
   "cell_type": "code",
   "execution_count": 3,
   "metadata": {
    "collapsed": false
   },
   "outputs": [
    {
     "name": "stdout",
     "output_type": "stream",
     "text": [
      "[0.707107,-0.707107,0.0]\n",
      "[0.0,0.0,1.0]\n",
      "[-0.707107,-0.707107,0.0]\n"
     ]
    }
   ],
   "source": [
    "M = moment_tensor(strike, dip, rake)\n",
    "P, N, T = moment_tensor_2_PTN(M);\n",
    "normal, normal_aux, slip, slip_aux = PTN_2_fault_geometry(P, T, N);\n",
    "println(P)\n",
    "println(N)\n",
    "println(T)\n",
    "#print(slip_aux)"
   ]
  },
  {
   "cell_type": "markdown",
   "metadata": {},
   "source": [
    "<p> Check to see if Fault Rotation Matrix is working </p>"
   ]
  },
  {
   "cell_type": "code",
   "execution_count": 4,
   "metadata": {
    "collapsed": false
   },
   "outputs": [
    {
     "name": "stdout",
     "output_type": "stream",
     "text": [
      "Fault Normals\n",
      "[-1.83009e-16,-2.22045e-16,1.0]\n",
      "[6.50354e-17,-2.22045e-16,1.0]\n",
      "Fault Slips\n",
      "[-1.0,3.48631e-32,-1.57009e-16]\n",
      "[1.0,1.44408e-32,-6.50354e-17]\n"
     ]
    }
   ],
   "source": [
    "Rf = FaultOrientation_Matrix(strike, dip);\n",
    "Rf_aux = FaultOrientation_Matrix(strike_aux, dip_aux)\n",
    "normal_fault = Rf'*normal;\n",
    "normal_fault_aux = Rf_aux'*normal_aux;\n",
    "\n",
    "slip_fault = Rf'*slip;\n",
    "slip_fault_aux = Rf_aux'*slip_aux;\n",
    "\n",
    "println(\"Fault Normals\")\n",
    "println(normal_fault)\n",
    "println(normal_fault_aux)\n",
    "\n",
    "println(\"Fault Slips\")\n",
    "println(slip_fault)\n",
    "println(slip_fault_aux)\n",
    "\n"
   ]
  },
  {
   "cell_type": "markdown",
   "metadata": {},
   "source": [
    "<p> Estimate Orientations of P, T, and N from Moment tensor </p>\n"
   ]
  },
  {
   "cell_type": "code",
   "execution_count": 5,
   "metadata": {
    "collapsed": false
   },
   "outputs": [
    {
     "data": {
      "text/plain": [
       "3×2 Array{Float64,2}:\n",
       "  1.5708    -1.5708 \n",
       " -0.0        3.14159\n",
       " -0.785398   2.35619"
      ]
     },
     "execution_count": 5,
     "metadata": {},
     "output_type": "execute_result"
    }
   ],
   "source": [
    "rotm = [P N T]\n",
    "angles = rotation_to_euler(rotm)"
   ]
  },
  {
   "cell_type": "code",
   "execution_count": 6,
   "metadata": {
    "collapsed": false
   },
   "outputs": [
    {
     "name": "stdout",
     "output_type": "stream",
     "text": [
      "[0.707107,-0.404107,0.0]\n",
      "[0.707107,-0.707107,0.0]\n",
      "[0.0,0.0,1.0]\n",
      "[0.0,0.0,1.0]\n",
      "[-0.707107,-0.707107,0.0]\n",
      "[-0.707107,-0.707107,0.0]\n"
     ]
    }
   ],
   "source": [
    "rotation_phi = rotation_matrix([0 0 -1], angles[3, 1])\n",
    "rotation_theta = rotation_matrix([0 1 0 ], angles[2, 1])\n",
    "mcs_prime = rotation_theta*rotation_phi*[1; 0; 0];\n",
    "rotation_rho = rotation_matrix(mcs_prime, -angles[1, 1]);\n",
    "R = rotation_rho*rotation_theta*rotation_phi;\n",
    "pstress = [-1 0 0; 0 -1/2 0; 0 0 -1/4];\n",
    "stress_geo = R*pstress*R';\n",
    "s1, s2, s3 = moment_tensor_2_PTN(stress_geo);\n",
    "println(s1)\n",
    "println(P)\n",
    "println(s2)\n",
    "println(N)\n",
    "println(s3)\n",
    "println(T)\n"
   ]
  },
  {
   "cell_type": "code",
   "execution_count": 14,
   "metadata": {
    "collapsed": false
   },
   "outputs": [
    {
     "name": "stdout",
     "output_type": "stream",
     "text": [
      "[-1.0,2.35514e-16,0.0]\n"
     ]
    }
   ],
   "source": [
    "n_pred, n_pred_aux, s_pred, s_pred_aux = PTN_2_fault_geometry(s1, s3, s2)\n",
    "println(s_pred)"
   ]
  },
  {
   "cell_type": "code",
   "execution_count": 8,
   "metadata": {
    "collapsed": false
   },
   "outputs": [
    {
     "name": "stdout",
     "output_type": "stream",
     "text": [
      "[0.707107,-0.707107,0.0][0.707107,-0.707107,0.0]\n",
      "[0.0,0.0,1.0][0.0,0.0,1.0]\n",
      "[-0.707107,-0.707107,0.0][-0.707107,-0.707107,0.0]\n"
     ]
    }
   ],
   "source": [
    "println(s1, P)\n",
    "println(s2, N)\n",
    "println(s3, T)"
   ]
  },
  {
   "cell_type": "code",
   "execution_count": 38,
   "metadata": {
    "collapsed": false
   },
   "outputs": [
    {
     "name": "stdout",
     "output_type": "stream",
     "text": [
      "Stress on Fault\n"
     ]
    },
    {
     "data": {
      "text/plain": [
       "3×3 Array{Float64,2}:\n",
       " -0.625         7.51373e-17  -0.375      \n",
       "  7.51373e-17  -0.5           6.36406e-17\n",
       " -0.375         6.36406e-17  -0.625      "
      ]
     },
     "execution_count": 38,
     "metadata": {},
     "output_type": "execute_result"
    }
   ],
   "source": [
    "stress_fault = Rf'*stress_geo*Rf\n",
    "println(\"Stress on Fault\")\n",
    "stress_fault"
   ]
  },
  {
   "cell_type": "code",
   "execution_count": 48,
   "metadata": {
    "collapsed": false
   },
   "outputs": [
    {
     "data": {
      "text/plain": [
       "0.0"
      ]
     },
     "execution_count": 48,
     "metadata": {},
     "output_type": "execute_result"
    }
   ],
   "source": [
    "atan2(stress_fault[2, 3], stress_fault[1, 3])-pi"
   ]
  },
  {
   "cell_type": "code",
   "execution_count": 47,
   "metadata": {
    "collapsed": false
   },
   "outputs": [
    {
     "data": {
      "text/plain": [
       "0.0"
      ]
     },
     "execution_count": 47,
     "metadata": {},
     "output_type": "execute_result"
    }
   ],
   "source": [
    "m_rot = Rf'*M*Rf\n",
    "atan2(m_rot[2, 3], m_rot[1, 3])-pi"
   ]
  },
  {
   "cell_type": "code",
   "execution_count": 44,
   "metadata": {
    "collapsed": false
   },
   "outputs": [
    {
     "data": {
      "text/plain": [
       "-0.3750000000000001"
      ]
     },
     "execution_count": 44,
     "metadata": {},
     "output_type": "execute_result"
    }
   ],
   "source": []
  },
  {
   "cell_type": "code",
   "execution_count": null,
   "metadata": {
    "collapsed": true
   },
   "outputs": [],
   "source": []
  }
 ],
 "metadata": {
  "kernelspec": {
   "display_name": "Julia 0.5.0",
   "language": "julia",
   "name": "julia-0.5"
  },
  "language_info": {
   "file_extension": ".jl",
   "mimetype": "application/julia",
   "name": "julia",
   "version": "0.5.2"
  }
 },
 "nbformat": 4,
 "nbformat_minor": 1
}
