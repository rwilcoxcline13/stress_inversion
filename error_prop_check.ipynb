{
 "cells": [
  {
   "cell_type": "code",
   "execution_count": 21,
   "metadata": {
    "collapsed": true
   },
   "outputs": [],
   "source": [
    "import numpy as np\n",
    "import sympy as sym\n",
    "from sympy import init_printing\n",
    "from math import sin, cos\n",
    "import numpy as np\n",
    "import sympy as sym\n",
    "from sympy import init_printing\n",
    "init_printing()\n"
   ]
  },
  {
   "cell_type": "code",
   "execution_count": 15,
   "metadata": {
    "collapsed": false
   },
   "outputs": [],
   "source": [
    "def stress_rotation(phi, theta, rho):\n",
    "\n",
    "    Rstress = np.asmatrix([\n",
    "    [ np.cos(phi)*np.cos(theta), -2*np.sin(phi)*np.sin(rho/2)**2 + np.sin(phi) - np.sin(rho)*np.sin(theta)*np.cos(phi), np.sin(phi)*np.sin(rho) + np.sin(theta)*np.cos(phi + rho)/2 + np.sin(-phi + rho + theta)/4 + np.sin(phi - rho + theta)/4],\n",
    "    [-np.sin(phi)*np.cos(theta),  np.sin(phi)*np.sin(rho)*np.sin(theta) - 2*np.sin(rho/2)**2*np.cos(phi) + np.cos(phi), np.sin(rho)*np.cos(phi) - np.sin(theta)*np.sin(phi + rho)/2 - np.cos(-phi + rho + theta)/4 + np.cos(phi - rho + theta)/4],\n",
    "    [         -np.sin(theta),                                                -np.sin(rho)*np.cos(theta),                                                                                    np.cos(rho)*np.cos(theta)]])\n",
    "\n",
    "    return Rstress\n",
    "\n",
    "def fault_rotation(xi, delta):\n",
    "    \n",
    "    Rfault =  np.asmatrix([\n",
    "            [ np.cos(delta)*np.cos(xi), np.sin(xi), -np.sin(delta)*np.cos(xi)],\n",
    "            [-np.sin(xi)*np.cos(delta), np.cos(xi),  np.sin(delta)*np.sin(xi)],\n",
    "            [         np.sin(delta),       0,          np.cos(delta)]])\n",
    "    \n",
    "    return Rfault\n",
    "\n",
    "def pstress_matrix(sigma_1, sigma_2, sigma_3):\n",
    "    \n",
    "    pstress = np.asmatrix([[sigma_1, 0, 0], [0, sigma_2, 0], [0, 0, sigma_3]])\n",
    "    \n",
    "    return pstress\n",
    "\n",
    "def stress_geo(sigma_1, sigma_2, sigma_3, phi, theta, rho):\n",
    "    \n",
    "    stressgeo = np.asmatrix([\n",
    "[                                                                                                                          sigma_1*np.cos(phi)**2*np.cos(theta)**2 + sigma_2*(-2*np.sin(phi)*np.cos(rho/2)**2 + np.sin(phi) + np.sin(rho)*np.sin(theta)*np.cos(phi))**2 + sigma_3*(np.sin(phi)*np.sin(rho) + np.sin(theta)*np.cos(phi)*np.cos(rho))**2, -sigma_1*np.sin(phi)*np.cos(phi)*np.cos(theta)**2 + sigma_2*(-2*np.sin(phi)*np.sin(rho/2)**2 + np.sin(phi) - np.sin(rho)*np.sin(theta)*np.cos(phi))*(np.sin(phi)*np.sin(rho)*np.sin(theta) - 2*np.sin(rho/2)**2*np.cos(phi) + np.cos(phi)) + sigma_3*(np.sin(phi)*np.sin(rho) + np.sin(theta)*np.cos(phi)*np.cos(rho))*(-np.sin(phi)*np.sin(theta)*np.cos(rho) + np.sin(rho)*np.cos(phi)), -sigma_1*(-np.sin(phi - 2*theta) + np.sin(phi + 2*theta))/4 - sigma_2*(-2*np.sin(phi)*np.sin(rho/2)**2 + np.sin(phi) - np.sin(rho)*np.sin(theta)*np.cos(phi))*np.sin(rho)*np.cos(theta) + sigma_3*(np.sin(phi)*np.sin(rho) + np.sin(theta)*np.cos(phi)*np.cos(rho))*np.cos(rho)*np.cos(theta)],\n",
    "[-sigma_1*np.sin(phi)*np.cos(phi)*np.cos(theta)**2 + sigma_2*(-2*np.sin(phi)*np.sin(rho/2)**2 + np.sin(phi) - np.sin(rho)*np.sin(theta)*np.cos(phi))*(np.sin(phi)*np.sin(rho)*np.sin(theta) - 2*np.sin(rho/2)**2*np.cos(phi) + np.cos(phi)) + sigma_3*(np.sin(phi)*np.sin(rho) + np.sin(theta)*np.cos(phi)*np.cos(rho))*(-np.sin(phi)*np.sin(theta)*np.cos(rho) + np.sin(rho)*np.cos(phi)),                                                                                                                           sigma_1*np.sin(phi)**2*np.cos(theta)**2 + sigma_2*(np.sin(phi)*np.sin(rho)*np.sin(theta) - 2*np.sin(rho/2)**2*np.cos(phi) + np.cos(phi))**2 + sigma_3*(-np.sin(phi)*np.sin(theta)*np.cos(rho) + np.sin(rho)*np.cos(phi))**2,   sigma_1*(np.cos(phi - 2*theta) - np.cos(phi + 2*theta))/4 - sigma_2*(np.sin(phi)*np.sin(rho)*np.sin(theta) - 2*np.sin(rho/2)**2*np.cos(phi) + np.cos(phi))*np.sin(rho)*np.cos(theta) + sigma_3*(-np.sin(phi)*np.sin(theta)*np.cos(rho) + np.sin(rho)*np.cos(phi))*np.cos(rho)*np.cos(theta)],\n",
    "[                                                                    -sigma_1*(-np.sin(phi - 2*theta) + np.sin(phi + 2*theta))/4 - sigma_2*(-2*np.sin(phi)*np.sin(rho/2)**2 + np.sin(phi) - np.sin(rho)*np.sin(theta)*np.cos(phi))*np.sin(rho)*np.cos(theta) + sigma_3*(np.sin(phi)*np.sin(rho) + np.sin(theta)*np.cos(phi)*np.cos(rho))*np.cos(rho)*np.cos(theta),                                                                       sigma_1*(np.cos(phi - 2*theta) - np.cos(phi + 2*theta))/4 - sigma_2*(np.sin(phi)*np.sin(rho)*np.sin(theta) - 2*np.sin(rho/2)**2*np.cos(phi) + np.cos(phi))*np.sin(rho)*np.cos(theta) + sigma_3*(-np.sin(phi)*np.sin(theta)*np.cos(rho) + np.sin(rho)*np.cos(phi))*np.cos(rho)*np.cos(theta),                                                                                                                                              sigma_1*np.sin(theta)**2 + sigma_2*np.sin(rho)**2*np.cos(theta)**2 + sigma_3*np.cos(rho)**2*np.cos(theta)**2]])\n",
    "    \n",
    "    return stressgeo\n",
    "\n",
    "def stress_geo(sigma_1, sigma_2, sigma_3, phi, theta, rho):\n",
    "    \n",
    "    stressgeo = np.asmatrix([\n",
    "[                                                                                                                          sigma_1*np.cos(phi)**2*np.cos(theta)**2 + sigma_2*(-2*np.sin(phi)*np.cos(rho/2)**2 + np.sin(phi) + np.sin(rho)*np.sin(theta)*np.cos(phi))**2 + sigma_3*(np.sin(phi)*np.sin(rho) + np.sin(theta)*np.cos(phi)*np.cos(rho))**2, -sigma_1*np.sin(phi)*np.cos(phi)*np.cos(theta)**2 + sigma_2*(-2*np.sin(phi)*np.sin(rho/2)**2 + np.sin(phi) - np.sin(rho)*np.sin(theta)*np.cos(phi))*(np.sin(phi)*np.sin(rho)*np.sin(theta) - 2*np.sin(rho/2)**2*np.cos(phi) + np.cos(phi)) + sigma_3*(np.sin(phi)*np.sin(rho) + np.sin(theta)*np.cos(phi)*np.cos(rho))*(-np.sin(phi)*np.sin(theta)*np.cos(rho) + np.sin(rho)*np.cos(phi)), -sigma_1*(-np.sin(phi - 2*theta) + np.sin(phi + 2*theta))/4 - sigma_2*(-2*np.sin(phi)*np.sin(rho/2)**2 + np.sin(phi) - np.sin(rho)*np.sin(theta)*np.cos(phi))*np.sin(rho)*np.cos(theta) + sigma_3*(np.sin(phi)*np.sin(rho) + np.sin(theta)*np.cos(phi)*np.cos(rho))*np.cos(rho)*np.cos(theta)],\n",
    "[-sigma_1*np.sin(phi)*np.cos(phi)*np.cos(theta)**2 + sigma_2*(-2*np.sin(phi)*np.sin(rho/2)**2 + np.sin(phi) - np.sin(rho)*np.sin(theta)*np.cos(phi))*(np.sin(phi)*np.sin(rho)*np.sin(theta) - 2*np.sin(rho/2)**2*np.cos(phi) + np.cos(phi)) + sigma_3*(np.sin(phi)*np.sin(rho) + np.sin(theta)*np.cos(phi)*np.cos(rho))*(-np.sin(phi)*np.sin(theta)*np.cos(rho) + np.sin(rho)*np.cos(phi)),                                                                                                                           sigma_1*np.sin(phi)**2*np.cos(theta)**2 + sigma_2*(np.sin(phi)*np.sin(rho)*np.sin(theta) - 2*np.sin(rho/2)**2*np.cos(phi) + np.cos(phi))**2 + sigma_3*(-np.sin(phi)*np.sin(theta)*np.cos(rho) + np.sin(rho)*np.cos(phi))**2,   sigma_1*(np.cos(phi - 2*theta) - np.cos(phi + 2*theta))/4 - sigma_2*(np.sin(phi)*np.sin(rho)*np.sin(theta) - 2*np.sin(rho/2)**2*np.cos(phi) + np.cos(phi))*np.sin(rho)*np.cos(theta) + sigma_3*(-np.sin(phi)*np.sin(theta)*np.cos(rho) + np.sin(rho)*np.cos(phi))*np.cos(rho)*np.cos(theta)],\n",
    "[                                                                    -sigma_1*(-np.sin(phi - 2*theta) + np.sin(phi + 2*theta))/4 - sigma_2*(-2*np.sin(phi)*np.sin(rho/2)**2 + np.sin(phi) - np.sin(rho)*np.sin(theta)*np.cos(phi))*np.sin(rho)*np.cos(theta) + sigma_3*(np.sin(phi)*np.sin(rho) + np.sin(theta)*np.cos(phi)*np.cos(rho))*np.cos(rho)*np.cos(theta),                                                                       sigma_1*(np.cos(phi - 2*theta) - np.cos(phi + 2*theta))/4 - sigma_2*(np.sin(phi)*np.sin(rho)*np.sin(theta) - 2*np.sin(rho/2)**2*np.cos(phi) + np.cos(phi))*np.sin(rho)*np.cos(theta) + sigma_3*(-np.sin(phi)*np.sin(theta)*np.cos(rho) + np.sin(rho)*np.cos(phi))*np.cos(rho)*np.cos(theta),                                                                                                                                              sigma_1*np.sin(theta)**2 + sigma_2*np.sin(rho)**2*np.cos(theta)**2 + sigma_3*np.cos(rho)**2*np.cos(theta)**2]])\n",
    "    \n",
    "    return stressgeo\n",
    "\n",
    "def stress_fault(sigma_1, sigma_2, sigma_3, phi, theta, rho, xi, delta):\n",
    "    \n",
    "    sf = np.asmatrix([\n",
    "[(-(-sigma_1*(-sin(phi - 2*theta) + sin(phi + 2*theta))/4 - sigma_2*(-2*sin(phi)*sin(rho/2)**2 + sin(phi) - sin(rho)*sin(theta)*cos(phi))*sin(rho)*cos(theta) + sigma_3*(sin(phi)*sin(rho) + sin(theta)*cos(phi)*cos(rho))*cos(rho)*cos(theta))*sin(delta)*cos(xi) + (sigma_1*cos(phi)**2*cos(theta)**2 + sigma_2*(-2*sin(phi)*cos(rho/2)**2 + sin(phi) + sin(rho)*sin(theta)*cos(phi))**2 + sigma_3*(sin(phi)*sin(rho) + sin(theta)*cos(phi)*cos(rho))**2)*cos(delta)*cos(xi) + (-sigma_1*sin(phi)*cos(phi)*cos(theta)**2 + sigma_2*(-2*sin(phi)*sin(rho/2)**2 + sin(phi) - sin(rho)*sin(theta)*cos(phi))*(sin(phi)*sin(rho)*sin(theta) - 2*sin(rho/2)**2*cos(phi) + cos(phi)) + sigma_3*(sin(phi)*sin(rho) + sin(theta)*cos(phi)*cos(rho))*(-sin(phi)*sin(theta)*cos(rho) + sin(rho)*cos(phi)))*sin(xi))*cos(delta)*cos(xi) - ((-sigma_1*(-sin(phi - 2*theta) + sin(phi + 2*theta))/4 - sigma_2*(-2*sin(phi)*sin(rho/2)**2 + sin(phi) - sin(rho)*sin(theta)*cos(phi))*sin(rho)*cos(theta) + sigma_3*(sin(phi)*sin(rho) + sin(theta)*cos(phi)*cos(rho))*cos(rho)*cos(theta))*cos(delta)*cos(xi) + (sigma_1*(cos(phi - 2*theta) - cos(phi + 2*theta))/4 - sigma_2*(sin(phi)*sin(rho)*sin(theta) - 2*sin(rho/2)**2*cos(phi) + cos(phi))*sin(rho)*cos(theta) + sigma_3*(-sin(phi)*sin(theta)*cos(rho) + sin(rho)*cos(phi))*cos(rho)*cos(theta))*sin(xi) - (sigma_1*sin(theta)**2 + sigma_2*sin(rho)**2*cos(theta)**2 + sigma_3*cos(rho)**2*cos(theta)**2)*sin(delta)*cos(xi))*sin(delta)*cos(xi) + (-(sigma_1*(cos(phi - 2*theta) - cos(phi + 2*theta))/4 - sigma_2*(sin(phi)*sin(rho)*sin(theta) - 2*sin(rho/2)**2*cos(phi) + cos(phi))*sin(rho)*cos(theta) + sigma_3*(-sin(phi)*sin(theta)*cos(rho) + sin(rho)*cos(phi))*cos(rho)*cos(theta))*sin(delta)*cos(xi) + (sigma_1*sin(phi)**2*cos(theta)**2 + sigma_2*(sin(phi)*sin(rho)*sin(theta) - 2*sin(rho/2)**2*cos(phi) + cos(phi))**2 + sigma_3*(-sin(phi)*sin(theta)*cos(rho) + sin(rho)*cos(phi))**2)*sin(xi) + (-sigma_1*sin(phi)*cos(phi)*cos(theta)**2 + sigma_2*(-2*sin(phi)*sin(rho/2)**2 + sin(phi) - sin(rho)*sin(theta)*cos(phi))*(sin(phi)*sin(rho)*sin(theta) - 2*sin(rho/2)**2*cos(phi) + cos(phi)) + sigma_3*(sin(phi)*sin(rho) + sin(theta)*cos(phi)*cos(rho))*(-sin(phi)*sin(theta)*cos(rho) + sin(rho)*cos(phi)))*cos(delta)*cos(xi))*sin(xi), -(-(-sigma_1*(-sin(phi - 2*theta) + sin(phi + 2*theta))/4 - sigma_2*(-2*sin(phi)*sin(rho/2)**2 + sin(phi) - sin(rho)*sin(theta)*cos(phi))*sin(rho)*cos(theta) + sigma_3*(sin(phi)*sin(rho) + sin(theta)*cos(phi)*cos(rho))*cos(rho)*cos(theta))*sin(delta)*cos(xi) + (sigma_1*cos(phi)**2*cos(theta)**2 + sigma_2*(-2*sin(phi)*cos(rho/2)**2 + sin(phi) + sin(rho)*sin(theta)*cos(phi))**2 + sigma_3*(sin(phi)*sin(rho) + sin(theta)*cos(phi)*cos(rho))**2)*cos(delta)*cos(xi) + (-sigma_1*sin(phi)*cos(phi)*cos(theta)**2 + sigma_2*(-2*sin(phi)*sin(rho/2)**2 + sin(phi) - sin(rho)*sin(theta)*cos(phi))*(sin(phi)*sin(rho)*sin(theta) - 2*sin(rho/2)**2*cos(phi) + cos(phi)) + sigma_3*(sin(phi)*sin(rho) + sin(theta)*cos(phi)*cos(rho))*(-sin(phi)*sin(theta)*cos(rho) + sin(rho)*cos(phi)))*sin(xi))*sin(xi)*cos(delta) + ((-sigma_1*(-sin(phi - 2*theta) + sin(phi + 2*theta))/4 - sigma_2*(-2*sin(phi)*sin(rho/2)**2 + sin(phi) - sin(rho)*sin(theta)*cos(phi))*sin(rho)*cos(theta) + sigma_3*(sin(phi)*sin(rho) + sin(theta)*cos(phi)*cos(rho))*cos(rho)*cos(theta))*cos(delta)*cos(xi) + (sigma_1*(cos(phi - 2*theta) - cos(phi + 2*theta))/4 - sigma_2*(sin(phi)*sin(rho)*sin(theta) - 2*sin(rho/2)**2*cos(phi) + cos(phi))*sin(rho)*cos(theta) + sigma_3*(-sin(phi)*sin(theta)*cos(rho) + sin(rho)*cos(phi))*cos(rho)*cos(theta))*sin(xi) - (sigma_1*sin(theta)**2 + sigma_2*sin(rho)**2*cos(theta)**2 + sigma_3*cos(rho)**2*cos(theta)**2)*sin(delta)*cos(xi))*sin(delta)*sin(xi) + (-(sigma_1*(cos(phi - 2*theta) - cos(phi + 2*theta))/4 - sigma_2*(sin(phi)*sin(rho)*sin(theta) - 2*sin(rho/2)**2*cos(phi) + cos(phi))*sin(rho)*cos(theta) + sigma_3*(-sin(phi)*sin(theta)*cos(rho) + sin(rho)*cos(phi))*cos(rho)*cos(theta))*sin(delta)*cos(xi) + (sigma_1*sin(phi)**2*cos(theta)**2 + sigma_2*(sin(phi)*sin(rho)*sin(theta) - 2*sin(rho/2)**2*cos(phi) + cos(phi))**2 + sigma_3*(-sin(phi)*sin(theta)*cos(rho) + sin(rho)*cos(phi))**2)*sin(xi) + (-sigma_1*sin(phi)*cos(phi)*cos(theta)**2 + sigma_2*(-2*sin(phi)*sin(rho/2)**2 + sin(phi) - sin(rho)*sin(theta)*cos(phi))*(sin(phi)*sin(rho)*sin(theta) - 2*sin(rho/2)**2*cos(phi) + cos(phi)) + sigma_3*(sin(phi)*sin(rho) + sin(theta)*cos(phi)*cos(rho))*(-sin(phi)*sin(theta)*cos(rho) + sin(rho)*cos(phi)))*cos(delta)*cos(xi))*cos(xi), (-(-sigma_1*(-sin(phi - 2*theta) + sin(phi + 2*theta))/4 - sigma_2*(-2*sin(phi)*sin(rho/2)**2 + sin(phi) - sin(rho)*sin(theta)*cos(phi))*sin(rho)*cos(theta) + sigma_3*(sin(phi)*sin(rho) + sin(theta)*cos(phi)*cos(rho))*cos(rho)*cos(theta))*sin(delta)*cos(xi) + (sigma_1*cos(phi)**2*cos(theta)**2 + sigma_2*(-2*sin(phi)*cos(rho/2)**2 + sin(phi) + sin(rho)*sin(theta)*cos(phi))**2 + sigma_3*(sin(phi)*sin(rho) + sin(theta)*cos(phi)*cos(rho))**2)*cos(delta)*cos(xi) + (-sigma_1*sin(phi)*cos(phi)*cos(theta)**2 + sigma_2*(-2*sin(phi)*sin(rho/2)**2 + sin(phi) - sin(rho)*sin(theta)*cos(phi))*(sin(phi)*sin(rho)*sin(theta) - 2*sin(rho/2)**2*cos(phi) + cos(phi)) + sigma_3*(sin(phi)*sin(rho) + sin(theta)*cos(phi)*cos(rho))*(-sin(phi)*sin(theta)*cos(rho) + sin(rho)*cos(phi)))*sin(xi))*sin(delta) + ((-sigma_1*(-sin(phi - 2*theta) + sin(phi + 2*theta))/4 - sigma_2*(-2*sin(phi)*sin(rho/2)**2 + sin(phi) - sin(rho)*sin(theta)*cos(phi))*sin(rho)*cos(theta) + sigma_3*(sin(phi)*sin(rho) + sin(theta)*cos(phi)*cos(rho))*cos(rho)*cos(theta))*cos(delta)*cos(xi) + (sigma_1*(cos(phi - 2*theta) - cos(phi + 2*theta))/4 - sigma_2*(sin(phi)*sin(rho)*sin(theta) - 2*sin(rho/2)**2*cos(phi) + cos(phi))*sin(rho)*cos(theta) + sigma_3*(-sin(phi)*sin(theta)*cos(rho) + sin(rho)*cos(phi))*cos(rho)*cos(theta))*sin(xi) - (sigma_1*sin(theta)**2 + sigma_2*sin(rho)**2*cos(theta)**2 + sigma_3*cos(rho)**2*cos(theta)**2)*sin(delta)*cos(xi))*cos(delta)],\n",
    "[ ((-sigma_1*(-sin(phi - 2*theta) + sin(phi + 2*theta))/4 - sigma_2*(-2*sin(phi)*sin(rho/2)**2 + sin(phi) - sin(rho)*sin(theta)*cos(phi))*sin(rho)*cos(theta) + sigma_3*(sin(phi)*sin(rho) + sin(theta)*cos(phi)*cos(rho))*cos(rho)*cos(theta))*sin(delta)*sin(xi) - (sigma_1*cos(phi)**2*cos(theta)**2 + sigma_2*(-2*sin(phi)*cos(rho/2)**2 + sin(phi) + sin(rho)*sin(theta)*cos(phi))**2 + sigma_3*(sin(phi)*sin(rho) + sin(theta)*cos(phi)*cos(rho))**2)*sin(xi)*cos(delta) + (-sigma_1*sin(phi)*cos(phi)*cos(theta)**2 + sigma_2*(-2*sin(phi)*sin(rho/2)**2 + sin(phi) - sin(rho)*sin(theta)*cos(phi))*(sin(phi)*sin(rho)*sin(theta) - 2*sin(rho/2)**2*cos(phi) + cos(phi)) + sigma_3*(sin(phi)*sin(rho) + sin(theta)*cos(phi)*cos(rho))*(-sin(phi)*sin(theta)*cos(rho) + sin(rho)*cos(phi)))*cos(xi))*cos(delta)*cos(xi) - (-(-sigma_1*(-sin(phi - 2*theta) + sin(phi + 2*theta))/4 - sigma_2*(-2*sin(phi)*sin(rho/2)**2 + sin(phi) - sin(rho)*sin(theta)*cos(phi))*sin(rho)*cos(theta) + sigma_3*(sin(phi)*sin(rho) + sin(theta)*cos(phi)*cos(rho))*cos(rho)*cos(theta))*sin(xi)*cos(delta) + (sigma_1*(cos(phi - 2*theta) - cos(phi + 2*theta))/4 - sigma_2*(sin(phi)*sin(rho)*sin(theta) - 2*sin(rho/2)**2*cos(phi) + cos(phi))*sin(rho)*cos(theta) + sigma_3*(-sin(phi)*sin(theta)*cos(rho) + sin(rho)*cos(phi))*cos(rho)*cos(theta))*cos(xi) + (sigma_1*sin(theta)**2 + sigma_2*sin(rho)**2*cos(theta)**2 + sigma_3*cos(rho)**2*cos(theta)**2)*sin(delta)*sin(xi))*sin(delta)*cos(xi) + ((sigma_1*(cos(phi - 2*theta) - cos(phi + 2*theta))/4 - sigma_2*(sin(phi)*sin(rho)*sin(theta) - 2*sin(rho/2)**2*cos(phi) + cos(phi))*sin(rho)*cos(theta) + sigma_3*(-sin(phi)*sin(theta)*cos(rho) + sin(rho)*cos(phi))*cos(rho)*cos(theta))*sin(delta)*sin(xi) + (sigma_1*sin(phi)**2*cos(theta)**2 + sigma_2*(sin(phi)*sin(rho)*sin(theta) - 2*sin(rho/2)**2*cos(phi) + cos(phi))**2 + sigma_3*(-sin(phi)*sin(theta)*cos(rho) + sin(rho)*cos(phi))**2)*cos(xi) - (-sigma_1*sin(phi)*cos(phi)*cos(theta)**2 + sigma_2*(-2*sin(phi)*sin(rho/2)**2 + sin(phi) - sin(rho)*sin(theta)*cos(phi))*(sin(phi)*sin(rho)*sin(theta) - 2*sin(rho/2)**2*cos(phi) + cos(phi)) + sigma_3*(sin(phi)*sin(rho) + sin(theta)*cos(phi)*cos(rho))*(-sin(phi)*sin(theta)*cos(rho) + sin(rho)*cos(phi)))*sin(xi)*cos(delta))*sin(xi),  -((-sigma_1*(-sin(phi - 2*theta) + sin(phi + 2*theta))/4 - sigma_2*(-2*sin(phi)*sin(rho/2)**2 + sin(phi) - sin(rho)*sin(theta)*cos(phi))*sin(rho)*cos(theta) + sigma_3*(sin(phi)*sin(rho) + sin(theta)*cos(phi)*cos(rho))*cos(rho)*cos(theta))*sin(delta)*sin(xi) - (sigma_1*cos(phi)**2*cos(theta)**2 + sigma_2*(-2*sin(phi)*cos(rho/2)**2 + sin(phi) + sin(rho)*sin(theta)*cos(phi))**2 + sigma_3*(sin(phi)*sin(rho) + sin(theta)*cos(phi)*cos(rho))**2)*sin(xi)*cos(delta) + (-sigma_1*sin(phi)*cos(phi)*cos(theta)**2 + sigma_2*(-2*sin(phi)*sin(rho/2)**2 + sin(phi) - sin(rho)*sin(theta)*cos(phi))*(sin(phi)*sin(rho)*sin(theta) - 2*sin(rho/2)**2*cos(phi) + cos(phi)) + sigma_3*(sin(phi)*sin(rho) + sin(theta)*cos(phi)*cos(rho))*(-sin(phi)*sin(theta)*cos(rho) + sin(rho)*cos(phi)))*cos(xi))*sin(xi)*cos(delta) + (-(-sigma_1*(-sin(phi - 2*theta) + sin(phi + 2*theta))/4 - sigma_2*(-2*sin(phi)*sin(rho/2)**2 + sin(phi) - sin(rho)*sin(theta)*cos(phi))*sin(rho)*cos(theta) + sigma_3*(sin(phi)*sin(rho) + sin(theta)*cos(phi)*cos(rho))*cos(rho)*cos(theta))*sin(xi)*cos(delta) + (sigma_1*(cos(phi - 2*theta) - cos(phi + 2*theta))/4 - sigma_2*(sin(phi)*sin(rho)*sin(theta) - 2*sin(rho/2)**2*cos(phi) + cos(phi))*sin(rho)*cos(theta) + sigma_3*(-sin(phi)*sin(theta)*cos(rho) + sin(rho)*cos(phi))*cos(rho)*cos(theta))*cos(xi) + (sigma_1*sin(theta)**2 + sigma_2*sin(rho)**2*cos(theta)**2 + sigma_3*cos(rho)**2*cos(theta)**2)*sin(delta)*sin(xi))*sin(delta)*sin(xi) + ((sigma_1*(cos(phi - 2*theta) - cos(phi + 2*theta))/4 - sigma_2*(sin(phi)*sin(rho)*sin(theta) - 2*sin(rho/2)**2*cos(phi) + cos(phi))*sin(rho)*cos(theta) + sigma_3*(-sin(phi)*sin(theta)*cos(rho) + sin(rho)*cos(phi))*cos(rho)*cos(theta))*sin(delta)*sin(xi) + (sigma_1*sin(phi)**2*cos(theta)**2 + sigma_2*(sin(phi)*sin(rho)*sin(theta) - 2*sin(rho/2)**2*cos(phi) + cos(phi))**2 + sigma_3*(-sin(phi)*sin(theta)*cos(rho) + sin(rho)*cos(phi))**2)*cos(xi) - (-sigma_1*sin(phi)*cos(phi)*cos(theta)**2 + sigma_2*(-2*sin(phi)*sin(rho/2)**2 + sin(phi) - sin(rho)*sin(theta)*cos(phi))*(sin(phi)*sin(rho)*sin(theta) - 2*sin(rho/2)**2*cos(phi) + cos(phi)) + sigma_3*(sin(phi)*sin(rho) + sin(theta)*cos(phi)*cos(rho))*(-sin(phi)*sin(theta)*cos(rho) + sin(rho)*cos(phi)))*sin(xi)*cos(delta))*cos(xi), ((-sigma_1*(-sin(phi - 2*theta) + sin(phi + 2*theta))/4 - sigma_2*(-2*sin(phi)*sin(rho/2)**2 + sin(phi) - sin(rho)*sin(theta)*cos(phi))*sin(rho)*cos(theta) + sigma_3*(sin(phi)*sin(rho) + sin(theta)*cos(phi)*cos(rho))*cos(rho)*cos(theta))*sin(delta)*sin(xi) - (sigma_1*cos(phi)**2*cos(theta)**2 + sigma_2*(-2*sin(phi)*cos(rho/2)**2 + sin(phi) + sin(rho)*sin(theta)*cos(phi))**2 + sigma_3*(sin(phi)*sin(rho) + sin(theta)*cos(phi)*cos(rho))**2)*sin(xi)*cos(delta) + (-sigma_1*sin(phi)*cos(phi)*cos(theta)**2 + sigma_2*(-2*sin(phi)*sin(rho/2)**2 + sin(phi) - sin(rho)*sin(theta)*cos(phi))*(sin(phi)*sin(rho)*sin(theta) - 2*sin(rho/2)**2*cos(phi) + cos(phi)) + sigma_3*(sin(phi)*sin(rho) + sin(theta)*cos(phi)*cos(rho))*(-sin(phi)*sin(theta)*cos(rho) + sin(rho)*cos(phi)))*cos(xi))*sin(delta) + (-(-sigma_1*(-sin(phi - 2*theta) + sin(phi + 2*theta))/4 - sigma_2*(-2*sin(phi)*sin(rho/2)**2 + sin(phi) - sin(rho)*sin(theta)*cos(phi))*sin(rho)*cos(theta) + sigma_3*(sin(phi)*sin(rho) + sin(theta)*cos(phi)*cos(rho))*cos(rho)*cos(theta))*sin(xi)*cos(delta) + (sigma_1*(cos(phi - 2*theta) - cos(phi + 2*theta))/4 - sigma_2*(sin(phi)*sin(rho)*sin(theta) - 2*sin(rho/2)**2*cos(phi) + cos(phi))*sin(rho)*cos(theta) + sigma_3*(-sin(phi)*sin(theta)*cos(rho) + sin(rho)*cos(phi))*cos(rho)*cos(theta))*cos(xi) + (sigma_1*sin(theta)**2 + sigma_2*sin(rho)**2*cos(theta)**2 + sigma_3*cos(rho)**2*cos(theta)**2)*sin(delta)*sin(xi))*cos(delta)],\n",
    "[                                                                                                                                                                                                                                                                                                                                                                                                                                                                                                                                                                                                                                                                                                                                                                                                                                  -((-sigma_1*(-sin(phi - 2*theta) + sin(phi + 2*theta))/4 - sigma_2*(-2*sin(phi)*sin(rho/2)**2 + sin(phi) - sin(rho)*sin(theta)*cos(phi))*sin(rho)*cos(theta) + sigma_3*(sin(phi)*sin(rho) + sin(theta)*cos(phi)*cos(rho))*cos(rho)*cos(theta))*sin(delta) + (sigma_1*sin(theta)**2 + sigma_2*sin(rho)**2*cos(theta)**2 + sigma_3*cos(rho)**2*cos(theta)**2)*cos(delta))*sin(delta)*cos(xi) + ((-sigma_1*(-sin(phi - 2*theta) + sin(phi + 2*theta))/4 - sigma_2*(-2*sin(phi)*sin(rho/2)**2 + sin(phi) - sin(rho)*sin(theta)*cos(phi))*sin(rho)*cos(theta) + sigma_3*(sin(phi)*sin(rho) + sin(theta)*cos(phi)*cos(rho))*cos(rho)*cos(theta))*cos(delta) + (sigma_1*cos(phi)**2*cos(theta)**2 + sigma_2*(-2*sin(phi)*cos(rho/2)**2 + sin(phi) + sin(rho)*sin(theta)*cos(phi))**2 + sigma_3*(sin(phi)*sin(rho) + sin(theta)*cos(phi)*cos(rho))**2)*sin(delta))*cos(delta)*cos(xi) + ((sigma_1*(cos(phi - 2*theta) - cos(phi + 2*theta))/4 - sigma_2*(sin(phi)*sin(rho)*sin(theta) - 2*sin(rho/2)**2*cos(phi) + cos(phi))*sin(rho)*cos(theta) + sigma_3*(-sin(phi)*sin(theta)*cos(rho) + sin(rho)*cos(phi))*cos(rho)*cos(theta))*cos(delta) + (-sigma_1*sin(phi)*cos(phi)*cos(theta)**2 + sigma_2*(-2*sin(phi)*sin(rho/2)**2 + sin(phi) - sin(rho)*sin(theta)*cos(phi))*(sin(phi)*sin(rho)*sin(theta) - 2*sin(rho/2)**2*cos(phi) + cos(phi)) + sigma_3*(sin(phi)*sin(rho) + sin(theta)*cos(phi)*cos(rho))*(-sin(phi)*sin(theta)*cos(rho) + sin(rho)*cos(phi)))*sin(delta))*sin(xi),                                                                                                                                                                                                                                                                                                                                                                                                                                                                                                                                                                                                                                                                                                                                                                                                                                     ((-sigma_1*(-sin(phi - 2*theta) + sin(phi + 2*theta))/4 - sigma_2*(-2*sin(phi)*sin(rho/2)**2 + sin(phi) - sin(rho)*sin(theta)*cos(phi))*sin(rho)*cos(theta) + sigma_3*(sin(phi)*sin(rho) + sin(theta)*cos(phi)*cos(rho))*cos(rho)*cos(theta))*sin(delta) + (sigma_1*sin(theta)**2 + sigma_2*sin(rho)**2*cos(theta)**2 + sigma_3*cos(rho)**2*cos(theta)**2)*cos(delta))*sin(delta)*sin(xi) - ((-sigma_1*(-sin(phi - 2*theta) + sin(phi + 2*theta))/4 - sigma_2*(-2*sin(phi)*sin(rho/2)**2 + sin(phi) - sin(rho)*sin(theta)*cos(phi))*sin(rho)*cos(theta) + sigma_3*(sin(phi)*sin(rho) + sin(theta)*cos(phi)*cos(rho))*cos(rho)*cos(theta))*cos(delta) + (sigma_1*cos(phi)**2*cos(theta)**2 + sigma_2*(-2*sin(phi)*cos(rho/2)**2 + sin(phi) + sin(rho)*sin(theta)*cos(phi))**2 + sigma_3*(sin(phi)*sin(rho) + sin(theta)*cos(phi)*cos(rho))**2)*sin(delta))*sin(xi)*cos(delta) + ((sigma_1*(cos(phi - 2*theta) - cos(phi + 2*theta))/4 - sigma_2*(sin(phi)*sin(rho)*sin(theta) - 2*sin(rho/2)**2*cos(phi) + cos(phi))*sin(rho)*cos(theta) + sigma_3*(-sin(phi)*sin(theta)*cos(rho) + sin(rho)*cos(phi))*cos(rho)*cos(theta))*cos(delta) + (-sigma_1*sin(phi)*cos(phi)*cos(theta)**2 + sigma_2*(-2*sin(phi)*sin(rho/2)**2 + sin(phi) - sin(rho)*sin(theta)*cos(phi))*(sin(phi)*sin(rho)*sin(theta) - 2*sin(rho/2)**2*cos(phi) + cos(phi)) + sigma_3*(sin(phi)*sin(rho) + sin(theta)*cos(phi)*cos(rho))*(-sin(phi)*sin(theta)*cos(rho) + sin(rho)*cos(phi)))*sin(delta))*cos(xi),                                                                                                                                                                                                                                                                                                                                                                                                                                                                                                                                                                                                                  ((-sigma_1*(-sin(phi - 2*theta) + sin(phi + 2*theta))/4 - sigma_2*(-2*sin(phi)*sin(rho/2)**2 + sin(phi) - sin(rho)*sin(theta)*cos(phi))*sin(rho)*cos(theta) + sigma_3*(sin(phi)*sin(rho) + sin(theta)*cos(phi)*cos(rho))*cos(rho)*cos(theta))*sin(delta) + (sigma_1*sin(theta)**2 + sigma_2*sin(rho)**2*cos(theta)**2 + sigma_3*cos(rho)**2*cos(theta)**2)*cos(delta))*cos(delta) + ((-sigma_1*(-sin(phi - 2*theta) + sin(phi + 2*theta))/4 - sigma_2*(-2*sin(phi)*sin(rho/2)**2 + sin(phi) - sin(rho)*sin(theta)*cos(phi))*sin(rho)*cos(theta) + sigma_3*(sin(phi)*sin(rho) + sin(theta)*cos(phi)*cos(rho))*cos(rho)*cos(theta))*cos(delta) + (sigma_1*cos(phi)**2*cos(theta)**2 + sigma_2*(-2*sin(phi)*cos(rho/2)**2 + sin(phi) + sin(rho)*sin(theta)*cos(phi))**2 + sigma_3*(sin(phi)*sin(rho) + sin(theta)*cos(phi)*cos(rho))**2)*sin(delta))*sin(delta)]])\n",
    "    \n",
    "    return sf\n",
    "\n",
    "def taudip(sigma_1, sigma_2, sigma_3, phi, theta, rho, xi, delta):\n",
    "    \n",
    "    tdip = -((-sigma_1*(-sin(phi - 2*theta) + sin(phi + 2*theta))/4 - sigma_2*(-2*sin(phi)*sin(rho/2)**2 + sin(phi) - sin(rho)*sin(theta)*cos(phi))*sin(rho)*cos(theta) + sigma_3*(sin(phi)*sin(rho) + sin(theta)*cos(phi)*cos(rho))*cos(rho)*cos(theta))*sin(delta)*sin(xi) - (sigma_1*cos(phi)**2*cos(theta)**2 + sigma_2*(-2*sin(phi)*cos(rho/2)**2 + sin(phi) + sin(rho)*sin(theta)*cos(phi))**2 + sigma_3*(sin(phi)*sin(rho) + sin(theta)*cos(phi)*cos(rho))**2)*sin(xi)*cos(delta) + (-sigma_1*sin(phi)*cos(phi)*cos(theta)**2 + sigma_2*(-2*sin(phi)*sin(rho/2)**2 + sin(phi) - sin(rho)*sin(theta)*cos(phi))*(sin(phi)*sin(rho)*sin(theta) - 2*sin(rho/2)**2*cos(phi) + cos(phi)) + sigma_3*(sin(phi)*sin(rho) + sin(theta)*cos(phi)*cos(rho))*(-sin(phi)*sin(theta)*cos(rho) + sin(rho)*cos(phi)))*cos(xi))*sin(delta) - (-(-sigma_1*(-sin(phi - 2*theta) + sin(phi + 2*theta))/4 - sigma_2*(-2*sin(phi)*sin(rho/2)**2 + sin(phi) - sin(rho)*sin(theta)*cos(phi))*sin(rho)*cos(theta) + sigma_3*(sin(phi)*sin(rho) + sin(theta)*cos(phi)*cos(rho))*cos(rho)*cos(theta))*sin(xi)*cos(delta) + (sigma_1*(cos(phi - 2*theta) - cos(phi + 2*theta))/4 - sigma_2*(sin(phi)*sin(rho)*sin(theta) - 2*sin(rho/2)**2*cos(phi) + cos(phi))*sin(rho)*cos(theta) + sigma_3*(-sin(phi)*sin(theta)*cos(rho) + sin(rho)*cos(phi))*cos(rho)*cos(theta))*cos(xi) + (sigma_1*sin(theta)**2 + sigma_2*sin(rho)**2*cos(theta)**2 + sigma_3*cos(rho)**2*cos(theta)**2)*sin(delta)*sin(xi))*cos(delta)\n",
    "    \n",
    "    return tdip\n",
    "\n",
    "def taustrike(sigma_1, sigma_2, sigma_3, phi, theta, rho, xi, delta):\n",
    "\n",
    "    \n",
    "    ts = (-(-sigma_1*(-sin(phi - 2*theta) + sin(phi + 2*theta))/4 - sigma_2*(-2*sin(phi)*sin(rho/2)**2 + sin(phi) - sin(rho)*sin(theta)*cos(phi))*sin(rho)*cos(theta) + sigma_3*(sin(phi)*sin(rho) + sin(theta)*cos(phi)*cos(rho))*cos(rho)*cos(theta))*sin(delta)*cos(xi) + (sigma_1*cos(phi)**2*cos(theta)**2 + sigma_2*(-2*sin(phi)*cos(rho/2)**2 + sin(phi) + sin(rho)*sin(theta)*cos(phi))**2 + sigma_3*(sin(phi)*sin(rho) + sin(theta)*cos(phi)*cos(rho))**2)*cos(delta)*cos(xi) + (-sigma_1*sin(phi)*cos(phi)*cos(theta)**2 + sigma_2*(-2*sin(phi)*sin(rho/2)**2 + sin(phi) - sin(rho)*sin(theta)*cos(phi))*(sin(phi)*sin(rho)*sin(theta) - 2*sin(rho/2)**2*cos(phi) + cos(phi)) + sigma_3*(sin(phi)*sin(rho) + sin(theta)*cos(phi)*cos(rho))*(-sin(phi)*sin(theta)*cos(rho) + sin(rho)*cos(phi)))*sin(xi))*sin(delta) + ((-sigma_1*(-sin(phi - 2*theta) + sin(phi + 2*theta))/4 - sigma_2*(-2*sin(phi)*sin(rho/2)**2 + sin(phi) - sin(rho)*sin(theta)*cos(phi))*sin(rho)*cos(theta) + sigma_3*(sin(phi)*sin(rho) + sin(theta)*cos(phi)*cos(rho))*cos(rho)*cos(theta))*cos(delta)*cos(xi) + (sigma_1*(cos(phi - 2*theta) - cos(phi + 2*theta))/4 - sigma_2*(sin(phi)*sin(rho)*sin(theta) - 2*sin(rho/2)**2*cos(phi) + cos(phi))*sin(rho)*cos(theta) + sigma_3*(-sin(phi)*sin(theta)*cos(rho) + sin(rho)*cos(phi))*cos(rho)*cos(theta))*sin(xi) - (sigma_1*sin(theta)**2 + sigma_2*sin(rho)**2*cos(theta)**2 + sigma_3*cos(rho)**2*cos(theta)**2)*sin(delta)*cos(xi))*cos(delta)\n",
    "    \n",
    "    return ts\n",
    "\n",
    "def Derivatives(sigma_1, sigma_2, sigma_3, phi, theta, rho, xi, delta):\n",
    "    \n",
    "    dldxi = (-((-sigma_1*(-sin(phi - 2*theta) + sin(phi + 2*theta))/4 - sigma_2*(-2*sin(phi)*sin(rho/2)**2 + sin(phi) - sin(rho)*sin(theta)*cos(phi))*sin(rho)*cos(theta) + sigma_3*(sin(phi)*sin(rho) + sin(theta)*cos(phi)*cos(rho))*cos(rho)*cos(theta))*sin(delta)*sin(xi) - (sigma_1*cos(phi)**2*cos(theta)**2 + sigma_2*(-2*sin(phi)*cos(rho/2)**2 + sin(phi) + sin(rho)*sin(theta)*cos(phi))**2 + sigma_3*(sin(phi)*sin(rho) + sin(theta)*cos(phi)*cos(rho))**2)*sin(xi)*cos(delta) + (-sigma_1*sin(phi)*cos(phi)*cos(theta)**2 + sigma_2*(-2*sin(phi)*sin(rho/2)**2 + sin(phi) - sin(rho)*sin(theta)*cos(phi))*(sin(phi)*sin(rho)*sin(theta) - 2*sin(rho/2)**2*cos(phi) + cos(phi)) + sigma_3*(sin(phi)*sin(rho) + sin(theta)*cos(phi)*cos(rho))*(-sin(phi)*sin(theta)*cos(rho) + sin(rho)*cos(phi)))*cos(xi))*sin(delta) - (-(-sigma_1*(-sin(phi - 2*theta) + sin(phi + 2*theta))/4 - sigma_2*(-2*sin(phi)*sin(rho/2)**2 + sin(phi) - sin(rho)*sin(theta)*cos(phi))*sin(rho)*cos(theta) + sigma_3*(sin(phi)*sin(rho) + sin(theta)*cos(phi)*cos(rho))*cos(rho)*cos(theta))*sin(xi)*cos(delta) + (sigma_1*(cos(phi - 2*theta) - cos(phi + 2*theta))/4 - sigma_2*(sin(phi)*sin(rho)*sin(theta) - 2*sin(rho/2)**2*cos(phi) + cos(phi))*sin(rho)*cos(theta) + sigma_3*(-sin(phi)*sin(theta)*cos(rho) + sin(rho)*cos(phi))*cos(rho)*cos(theta))*cos(xi) + (sigma_1*sin(theta)**2 + sigma_2*sin(rho)**2*cos(theta)**2 + sigma_3*cos(rho)**2*cos(theta)**2)*sin(delta)*sin(xi))*cos(delta))*(((-sigma_1*(-sin(phi - 2*theta) + sin(phi + 2*theta))/4 - sigma_2*(-2*sin(phi)*sin(rho/2)**2 + sin(phi) - sin(rho)*sin(theta)*cos(phi))*sin(rho)*cos(theta) + sigma_3*(sin(phi)*sin(rho) + sin(theta)*cos(phi)*cos(rho))*cos(rho)*cos(theta))*sin(delta)*sin(xi) - (sigma_1*cos(phi)**2*cos(theta)**2 + sigma_2*(-2*sin(phi)*cos(rho/2)**2 + sin(phi) + sin(rho)*sin(theta)*cos(phi))**2 + sigma_3*(sin(phi)*sin(rho) + sin(theta)*cos(phi)*cos(rho))**2)*sin(xi)*cos(delta) + (-sigma_1*sin(phi)*cos(phi)*cos(theta)**2 + sigma_2*(-2*sin(phi)*sin(rho/2)**2 + sin(phi) - sin(rho)*sin(theta)*cos(phi))*(sin(phi)*sin(rho)*sin(theta) - 2*sin(rho/2)**2*cos(phi) + cos(phi)) + sigma_3*(sin(phi)*sin(rho) + sin(theta)*cos(phi)*cos(rho))*(-sin(phi)*sin(theta)*cos(rho) + sin(rho)*cos(phi)))*cos(xi))*sin(delta) + (-(-sigma_1*(-sin(phi - 2*theta) + sin(phi + 2*theta))/4 - sigma_2*(-2*sin(phi)*sin(rho/2)**2 + sin(phi) - sin(rho)*sin(theta)*cos(phi))*sin(rho)*cos(theta) + sigma_3*(sin(phi)*sin(rho) + sin(theta)*cos(phi)*cos(rho))*cos(rho)*cos(theta))*sin(xi)*cos(delta) + (sigma_1*(cos(phi - 2*theta) - cos(phi + 2*theta))/4 - sigma_2*(sin(phi)*sin(rho)*sin(theta) - 2*sin(rho/2)**2*cos(phi) + cos(phi))*sin(rho)*cos(theta) + sigma_3*(-sin(phi)*sin(theta)*cos(rho) + sin(rho)*cos(phi))*cos(rho)*cos(theta))*cos(xi) + (sigma_1*sin(theta)**2 + sigma_2*sin(rho)**2*cos(theta)**2 + sigma_3*cos(rho)**2*cos(theta)**2)*sin(delta)*sin(xi))*cos(delta) - ((-(-sigma_1*(-sin(phi - 2*theta) + sin(phi + 2*theta))/4 - sigma_2*(-2*sin(phi)*sin(rho/2)**2 + sin(phi) - sin(rho)*sin(theta)*cos(phi))*sin(rho)*cos(theta) + sigma_3*(sin(phi)*sin(rho) + sin(theta)*cos(phi)*cos(rho))*cos(rho)*cos(theta))*sin(delta)*cos(xi) + (sigma_1*cos(phi)**2*cos(theta)**2 + sigma_2*(-2*sin(phi)*cos(rho/2)**2 + sin(phi) + sin(rho)*sin(theta)*cos(phi))**2 + sigma_3*(sin(phi)*sin(rho) + sin(theta)*cos(phi)*cos(rho))**2)*cos(delta)*cos(xi) + (-sigma_1*sin(phi)*cos(phi)*cos(theta)**2 + sigma_2*(-2*sin(phi)*sin(rho/2)**2 + sin(phi) - sin(rho)*sin(theta)*cos(phi))*(sin(phi)*sin(rho)*sin(theta) - 2*sin(rho/2)**2*cos(phi) + cos(phi)) + sigma_3*(sin(phi)*sin(rho) + sin(theta)*cos(phi)*cos(rho))*(-sin(phi)*sin(theta)*cos(rho) + sin(rho)*cos(phi)))*sin(xi))*sin(delta) + ((-sigma_1*(-sin(phi - 2*theta) + sin(phi + 2*theta))/4 - sigma_2*(-2*sin(phi)*sin(rho/2)**2 + sin(phi) - sin(rho)*sin(theta)*cos(phi))*sin(rho)*cos(theta) + sigma_3*(sin(phi)*sin(rho) + sin(theta)*cos(phi)*cos(rho))*cos(rho)*cos(theta))*cos(delta)*cos(xi) + (sigma_1*(cos(phi - 2*theta) - cos(phi + 2*theta))/4 - sigma_2*(sin(phi)*sin(rho)*sin(theta) - 2*sin(rho/2)**2*cos(phi) + cos(phi))*sin(rho)*cos(theta) + sigma_3*(-sin(phi)*sin(theta)*cos(rho) + sin(rho)*cos(phi))*cos(rho)*cos(theta))*sin(xi) - (sigma_1*sin(theta)**2 + sigma_2*sin(rho)**2*cos(theta)**2 + sigma_3*cos(rho)**2*cos(theta)**2)*sin(delta)*cos(xi))*cos(delta))*(-((-sigma_1*(-sin(phi - 2*theta) + sin(phi + 2*theta))/4 - sigma_2*(-2*sin(phi)*sin(rho/2)**2 + sin(phi) - sin(rho)*sin(theta)*cos(phi))*sin(rho)*cos(theta) + sigma_3*(sin(phi)*sin(rho) + sin(theta)*cos(phi)*cos(rho))*cos(rho)*cos(theta))*sin(delta)*cos(xi) - (sigma_1*cos(phi)**2*cos(theta)**2 + sigma_2*(-2*sin(phi)*cos(rho/2)**2 + sin(phi) + sin(rho)*sin(theta)*cos(phi))**2 + sigma_3*(sin(phi)*sin(rho) + sin(theta)*cos(phi)*cos(rho))**2)*cos(delta)*cos(xi) - (-sigma_1*sin(phi)*cos(phi)*cos(theta)**2 + sigma_2*(-2*sin(phi)*sin(rho/2)**2 + sin(phi) - sin(rho)*sin(theta)*cos(phi))*(sin(phi)*sin(rho)*sin(theta) - 2*sin(rho/2)**2*cos(phi) + cos(phi)) + sigma_3*(sin(phi)*sin(rho) + sin(theta)*cos(phi)*cos(rho))*(-sin(phi)*sin(theta)*cos(rho) + sin(rho)*cos(phi)))*sin(xi))*sin(delta) - (-(-sigma_1*(-sin(phi - 2*theta) + sin(phi + 2*theta))/4 - sigma_2*(-2*sin(phi)*sin(rho/2)**2 + sin(phi) - sin(rho)*sin(theta)*cos(phi))*sin(rho)*cos(theta) + sigma_3*(sin(phi)*sin(rho) + sin(theta)*cos(phi)*cos(rho))*cos(rho)*cos(theta))*cos(delta)*cos(xi) - (sigma_1*(cos(phi - 2*theta) - cos(phi + 2*theta))/4 - sigma_2*(sin(phi)*sin(rho)*sin(theta) - 2*sin(rho/2)**2*cos(phi) + cos(phi))*sin(rho)*cos(theta) + sigma_3*(-sin(phi)*sin(theta)*cos(rho) + sin(rho)*cos(phi))*cos(rho)*cos(theta))*sin(xi) + (sigma_1*sin(theta)**2 + sigma_2*sin(rho)**2*cos(theta)**2 + sigma_3*cos(rho)**2*cos(theta)**2)*sin(delta)*cos(xi))*cos(delta))/(-((-sigma_1*(-sin(phi - 2*theta) + sin(phi + 2*theta))/4 - sigma_2*(-2*sin(phi)*sin(rho/2)**2 + sin(phi) - sin(rho)*sin(theta)*cos(phi))*sin(rho)*cos(theta) + sigma_3*(sin(phi)*sin(rho) + sin(theta)*cos(phi)*cos(rho))*cos(rho)*cos(theta))*sin(delta)*sin(xi) - (sigma_1*cos(phi)**2*cos(theta)**2 + sigma_2*(-2*sin(phi)*cos(rho/2)**2 + sin(phi) + sin(rho)*sin(theta)*cos(phi))**2 + sigma_3*(sin(phi)*sin(rho) + sin(theta)*cos(phi)*cos(rho))**2)*sin(xi)*cos(delta) + (-sigma_1*sin(phi)*cos(phi)*cos(theta)**2 + sigma_2*(-2*sin(phi)*sin(rho/2)**2 + sin(phi) - sin(rho)*sin(theta)*cos(phi))*(sin(phi)*sin(rho)*sin(theta) - 2*sin(rho/2)**2*cos(phi) + cos(phi)) + sigma_3*(sin(phi)*sin(rho) + sin(theta)*cos(phi)*cos(rho))*(-sin(phi)*sin(theta)*cos(rho) + sin(rho)*cos(phi)))*cos(xi))*sin(delta) - (-(-sigma_1*(-sin(phi - 2*theta) + sin(phi + 2*theta))/4 - sigma_2*(-2*sin(phi)*sin(rho/2)**2 + sin(phi) - sin(rho)*sin(theta)*cos(phi))*sin(rho)*cos(theta) + sigma_3*(sin(phi)*sin(rho) + sin(theta)*cos(phi)*cos(rho))*cos(rho)*cos(theta))*sin(xi)*cos(delta) + (sigma_1*(cos(phi - 2*theta) - cos(phi + 2*theta))/4 - sigma_2*(sin(phi)*sin(rho)*sin(theta) - 2*sin(rho/2)**2*cos(phi) + cos(phi))*sin(rho)*cos(theta) + sigma_3*(-sin(phi)*sin(theta)*cos(rho) + sin(rho)*cos(phi))*cos(rho)*cos(theta))*cos(xi) + (sigma_1*sin(theta)**2 + sigma_2*sin(rho)**2*cos(theta)**2 + sigma_3*cos(rho)**2*cos(theta)**2)*sin(delta)*sin(xi))*cos(delta)))/((-((-sigma_1*(-sin(phi - 2*theta) + sin(phi + 2*theta))/4 - sigma_2*(-2*sin(phi)*sin(rho/2)**2 + sin(phi) - sin(rho)*sin(theta)*cos(phi))*sin(rho)*cos(theta) + sigma_3*(sin(phi)*sin(rho) + sin(theta)*cos(phi)*cos(rho))*cos(rho)*cos(theta))*sin(delta)*sin(xi) - (sigma_1*cos(phi)**2*cos(theta)**2 + sigma_2*(-2*sin(phi)*cos(rho/2)**2 + sin(phi) + sin(rho)*sin(theta)*cos(phi))**2 + sigma_3*(sin(phi)*sin(rho) + sin(theta)*cos(phi)*cos(rho))**2)*sin(xi)*cos(delta) + (-sigma_1*sin(phi)*cos(phi)*cos(theta)**2 + sigma_2*(-2*sin(phi)*sin(rho/2)**2 + sin(phi) - sin(rho)*sin(theta)*cos(phi))*(sin(phi)*sin(rho)*sin(theta) - 2*sin(rho/2)**2*cos(phi) + cos(phi)) + sigma_3*(sin(phi)*sin(rho) + sin(theta)*cos(phi)*cos(rho))*(-sin(phi)*sin(theta)*cos(rho) + sin(rho)*cos(phi)))*cos(xi))*sin(delta) - (-(-sigma_1*(-sin(phi - 2*theta) + sin(phi + 2*theta))/4 - sigma_2*(-2*sin(phi)*sin(rho/2)**2 + sin(phi) - sin(rho)*sin(theta)*cos(phi))*sin(rho)*cos(theta) + sigma_3*(sin(phi)*sin(rho) + sin(theta)*cos(phi)*cos(rho))*cos(rho)*cos(theta))*sin(xi)*cos(delta) + (sigma_1*(cos(phi - 2*theta) - cos(phi + 2*theta))/4 - sigma_2*(sin(phi)*sin(rho)*sin(theta) - 2*sin(rho/2)**2*cos(phi) + cos(phi))*sin(rho)*cos(theta) + sigma_3*(-sin(phi)*sin(theta)*cos(rho) + sin(rho)*cos(phi))*cos(rho)*cos(theta))*cos(xi) + (sigma_1*sin(theta)**2 + sigma_2*sin(rho)**2*cos(theta)**2 + sigma_3*cos(rho)**2*cos(theta)**2)*sin(delta)*sin(xi))*cos(delta))**2 + ((-(-sigma_1*(-sin(phi - 2*theta) + sin(phi + 2*theta))/4 - sigma_2*(-2*sin(phi)*sin(rho/2)**2 + sin(phi) - sin(rho)*sin(theta)*cos(phi))*sin(rho)*cos(theta) + sigma_3*(sin(phi)*sin(rho) + sin(theta)*cos(phi)*cos(rho))*cos(rho)*cos(theta))*sin(delta)*cos(xi) + (sigma_1*cos(phi)**2*cos(theta)**2 + sigma_2*(-2*sin(phi)*cos(rho/2)**2 + sin(phi) + sin(rho)*sin(theta)*cos(phi))**2 + sigma_3*(sin(phi)*sin(rho) + sin(theta)*cos(phi)*cos(rho))**2)*cos(delta)*cos(xi) + (-sigma_1*sin(phi)*cos(phi)*cos(theta)**2 + sigma_2*(-2*sin(phi)*sin(rho/2)**2 + sin(phi) - sin(rho)*sin(theta)*cos(phi))*(sin(phi)*sin(rho)*sin(theta) - 2*sin(rho/2)**2*cos(phi) + cos(phi)) + sigma_3*(sin(phi)*sin(rho) + sin(theta)*cos(phi)*cos(rho))*(-sin(phi)*sin(theta)*cos(rho) + sin(rho)*cos(phi)))*sin(xi))*sin(delta) + ((-sigma_1*(-sin(phi - 2*theta) + sin(phi + 2*theta))/4 - sigma_2*(-2*sin(phi)*sin(rho/2)**2 + sin(phi) - sin(rho)*sin(theta)*cos(phi))*sin(rho)*cos(theta) + sigma_3*(sin(phi)*sin(rho) + sin(theta)*cos(phi)*cos(rho))*cos(rho)*cos(theta))*cos(delta)*cos(xi) + (sigma_1*(cos(phi - 2*theta) - cos(phi + 2*theta))/4 - sigma_2*(sin(phi)*sin(rho)*sin(theta) - 2*sin(rho/2)**2*cos(phi) + cos(phi))*sin(rho)*cos(theta) + sigma_3*(-sin(phi)*sin(theta)*cos(rho) + sin(rho)*cos(phi))*cos(rho)*cos(theta))*sin(xi) - (sigma_1*sin(theta)**2 + sigma_2*sin(rho)**2*cos(theta)**2 + sigma_3*cos(rho)**2*cos(theta)**2)*sin(delta)*cos(xi))*cos(delta))**2)\n",
    "    dldd = (-((-sigma_1*(-sin(phi - 2*theta) + sin(phi + 2*theta))/4 - sigma_2*(-2*sin(phi)*sin(rho/2)**2 + sin(phi) - sin(rho)*sin(theta)*cos(phi))*sin(rho)*cos(theta) + sigma_3*(sin(phi)*sin(rho) + sin(theta)*cos(phi)*cos(rho))*cos(rho)*cos(theta))*sin(delta)*sin(xi) - (sigma_1*cos(phi)**2*cos(theta)**2 + sigma_2*(-2*sin(phi)*cos(rho/2)**2 + sin(phi) + sin(rho)*sin(theta)*cos(phi))**2 + sigma_3*(sin(phi)*sin(rho) + sin(theta)*cos(phi)*cos(rho))**2)*sin(xi)*cos(delta) + (-sigma_1*sin(phi)*cos(phi)*cos(theta)**2 + sigma_2*(-2*sin(phi)*sin(rho/2)**2 + sin(phi) - sin(rho)*sin(theta)*cos(phi))*(sin(phi)*sin(rho)*sin(theta) - 2*sin(rho/2)**2*cos(phi) + cos(phi)) + sigma_3*(sin(phi)*sin(rho) + sin(theta)*cos(phi)*cos(rho))*(-sin(phi)*sin(theta)*cos(rho) + sin(rho)*cos(phi)))*cos(xi))*sin(delta) - (-(-sigma_1*(-sin(phi - 2*theta) + sin(phi + 2*theta))/4 - sigma_2*(-2*sin(phi)*sin(rho/2)**2 + sin(phi) - sin(rho)*sin(theta)*cos(phi))*sin(rho)*cos(theta) + sigma_3*(sin(phi)*sin(rho) + sin(theta)*cos(phi)*cos(rho))*cos(rho)*cos(theta))*sin(xi)*cos(delta) + (sigma_1*(cos(phi - 2*theta) - cos(phi + 2*theta))/4 - sigma_2*(sin(phi)*sin(rho)*sin(theta) - 2*sin(rho/2)**2*cos(phi) + cos(phi))*sin(rho)*cos(theta) + sigma_3*(-sin(phi)*sin(theta)*cos(rho) + sin(rho)*cos(phi))*cos(rho)*cos(theta))*cos(xi) + (sigma_1*sin(theta)**2 + sigma_2*sin(rho)**2*cos(theta)**2 + sigma_3*cos(rho)**2*cos(theta)**2)*sin(delta)*sin(xi))*cos(delta))*((-(-sigma_1*(-sin(phi - 2*theta) + sin(phi + 2*theta))/4 - sigma_2*(-2*sin(phi)*sin(rho/2)**2 + sin(phi) - sin(rho)*sin(theta)*cos(phi))*sin(rho)*cos(theta) + sigma_3*(sin(phi)*sin(rho) + sin(theta)*cos(phi)*cos(rho))*cos(rho)*cos(theta))*sin(delta)*cos(xi) - (sigma_1*sin(theta)**2 + sigma_2*sin(rho)**2*cos(theta)**2 + sigma_3*cos(rho)**2*cos(theta)**2)*cos(delta)*cos(xi))*cos(delta) + (-(-sigma_1*(-sin(phi - 2*theta) + sin(phi + 2*theta))/4 - sigma_2*(-2*sin(phi)*sin(rho/2)**2 + sin(phi) - sin(rho)*sin(theta)*cos(phi))*sin(rho)*cos(theta) + sigma_3*(sin(phi)*sin(rho) + sin(theta)*cos(phi)*cos(rho))*cos(rho)*cos(theta))*cos(delta)*cos(xi) - (sigma_1*cos(phi)**2*cos(theta)**2 + sigma_2*(-2*sin(phi)*cos(rho/2)**2 + sin(phi) + sin(rho)*sin(theta)*cos(phi))**2 + sigma_3*(sin(phi)*sin(rho) + sin(theta)*cos(phi)*cos(rho))**2)*sin(delta)*cos(xi))*sin(delta) + (-(-sigma_1*(-sin(phi - 2*theta) + sin(phi + 2*theta))/4 - sigma_2*(-2*sin(phi)*sin(rho/2)**2 + sin(phi) - sin(rho)*sin(theta)*cos(phi))*sin(rho)*cos(theta) + sigma_3*(sin(phi)*sin(rho) + sin(theta)*cos(phi)*cos(rho))*cos(rho)*cos(theta))*sin(delta)*cos(xi) + (sigma_1*cos(phi)**2*cos(theta)**2 + sigma_2*(-2*sin(phi)*cos(rho/2)**2 + sin(phi) + sin(rho)*sin(theta)*cos(phi))**2 + sigma_3*(sin(phi)*sin(rho) + sin(theta)*cos(phi)*cos(rho))**2)*cos(delta)*cos(xi) + (-sigma_1*sin(phi)*cos(phi)*cos(theta)**2 + sigma_2*(-2*sin(phi)*sin(rho/2)**2 + sin(phi) - sin(rho)*sin(theta)*cos(phi))*(sin(phi)*sin(rho)*sin(theta) - 2*sin(rho/2)**2*cos(phi) + cos(phi)) + sigma_3*(sin(phi)*sin(rho) + sin(theta)*cos(phi)*cos(rho))*(-sin(phi)*sin(theta)*cos(rho) + sin(rho)*cos(phi)))*sin(xi))*cos(delta) - ((-sigma_1*(-sin(phi - 2*theta) + sin(phi + 2*theta))/4 - sigma_2*(-2*sin(phi)*sin(rho/2)**2 + sin(phi) - sin(rho)*sin(theta)*cos(phi))*sin(rho)*cos(theta) + sigma_3*(sin(phi)*sin(rho) + sin(theta)*cos(phi)*cos(rho))*cos(rho)*cos(theta))*cos(delta)*cos(xi) + (sigma_1*(cos(phi - 2*theta) - cos(phi + 2*theta))/4 - sigma_2*(sin(phi)*sin(rho)*sin(theta) - 2*sin(rho/2)**2*cos(phi) + cos(phi))*sin(rho)*cos(theta) + sigma_3*(-sin(phi)*sin(theta)*cos(rho) + sin(rho)*cos(phi))*cos(rho)*cos(theta))*sin(xi) - (sigma_1*sin(theta)**2 + sigma_2*sin(rho)**2*cos(theta)**2 + sigma_3*cos(rho)**2*cos(theta)**2)*sin(delta)*cos(xi))*sin(delta) - ((-(-sigma_1*(-sin(phi - 2*theta) + sin(phi + 2*theta))/4 - sigma_2*(-2*sin(phi)*sin(rho/2)**2 + sin(phi) - sin(rho)*sin(theta)*cos(phi))*sin(rho)*cos(theta) + sigma_3*(sin(phi)*sin(rho) + sin(theta)*cos(phi)*cos(rho))*cos(rho)*cos(theta))*sin(delta)*cos(xi) + (sigma_1*cos(phi)**2*cos(theta)**2 + sigma_2*(-2*sin(phi)*cos(rho/2)**2 + sin(phi) + sin(rho)*sin(theta)*cos(phi))**2 + sigma_3*(sin(phi)*sin(rho) + sin(theta)*cos(phi)*cos(rho))**2)*cos(delta)*cos(xi) + (-sigma_1*sin(phi)*cos(phi)*cos(theta)**2 + sigma_2*(-2*sin(phi)*sin(rho/2)**2 + sin(phi) - sin(rho)*sin(theta)*cos(phi))*(sin(phi)*sin(rho)*sin(theta) - 2*sin(rho/2)**2*cos(phi) + cos(phi)) + sigma_3*(sin(phi)*sin(rho) + sin(theta)*cos(phi)*cos(rho))*(-sin(phi)*sin(theta)*cos(rho) + sin(rho)*cos(phi)))*sin(xi))*sin(delta) + ((-sigma_1*(-sin(phi - 2*theta) + sin(phi + 2*theta))/4 - sigma_2*(-2*sin(phi)*sin(rho/2)**2 + sin(phi) - sin(rho)*sin(theta)*cos(phi))*sin(rho)*cos(theta) + sigma_3*(sin(phi)*sin(rho) + sin(theta)*cos(phi)*cos(rho))*cos(rho)*cos(theta))*cos(delta)*cos(xi) + (sigma_1*(cos(phi - 2*theta) - cos(phi + 2*theta))/4 - sigma_2*(sin(phi)*sin(rho)*sin(theta) - 2*sin(rho/2)**2*cos(phi) + cos(phi))*sin(rho)*cos(theta) + sigma_3*(-sin(phi)*sin(theta)*cos(rho) + sin(rho)*cos(phi))*cos(rho)*cos(theta))*sin(xi) - (sigma_1*sin(theta)**2 + sigma_2*sin(rho)**2*cos(theta)**2 + sigma_3*cos(rho)**2*cos(theta)**2)*sin(delta)*cos(xi))*cos(delta))*(-((-sigma_1*(-sin(phi - 2*theta) + sin(phi + 2*theta))/4 - sigma_2*(-2*sin(phi)*sin(rho/2)**2 + sin(phi) - sin(rho)*sin(theta)*cos(phi))*sin(rho)*cos(theta) + sigma_3*(sin(phi)*sin(rho) + sin(theta)*cos(phi)*cos(rho))*cos(rho)*cos(theta))*sin(delta)*sin(xi) + (sigma_1*sin(theta)**2 + sigma_2*sin(rho)**2*cos(theta)**2 + sigma_3*cos(rho)**2*cos(theta)**2)*sin(xi)*cos(delta))*cos(delta) - ((-sigma_1*(-sin(phi - 2*theta) + sin(phi + 2*theta))/4 - sigma_2*(-2*sin(phi)*sin(rho/2)**2 + sin(phi) - sin(rho)*sin(theta)*cos(phi))*sin(rho)*cos(theta) + sigma_3*(sin(phi)*sin(rho) + sin(theta)*cos(phi)*cos(rho))*cos(rho)*cos(theta))*sin(xi)*cos(delta) + (sigma_1*cos(phi)**2*cos(theta)**2 + sigma_2*(-2*sin(phi)*cos(rho/2)**2 + sin(phi) + sin(rho)*sin(theta)*cos(phi))**2 + sigma_3*(sin(phi)*sin(rho) + sin(theta)*cos(phi)*cos(rho))**2)*sin(delta)*sin(xi))*sin(delta) - ((-sigma_1*(-sin(phi - 2*theta) + sin(phi + 2*theta))/4 - sigma_2*(-2*sin(phi)*sin(rho/2)**2 + sin(phi) - sin(rho)*sin(theta)*cos(phi))*sin(rho)*cos(theta) + sigma_3*(sin(phi)*sin(rho) + sin(theta)*cos(phi)*cos(rho))*cos(rho)*cos(theta))*sin(delta)*sin(xi) - (sigma_1*cos(phi)**2*cos(theta)**2 + sigma_2*(-2*sin(phi)*cos(rho/2)**2 + sin(phi) + sin(rho)*sin(theta)*cos(phi))**2 + sigma_3*(sin(phi)*sin(rho) + sin(theta)*cos(phi)*cos(rho))**2)*sin(xi)*cos(delta) + (-sigma_1*sin(phi)*cos(phi)*cos(theta)**2 + sigma_2*(-2*sin(phi)*sin(rho/2)**2 + sin(phi) - sin(rho)*sin(theta)*cos(phi))*(sin(phi)*sin(rho)*sin(theta) - 2*sin(rho/2)**2*cos(phi) + cos(phi)) + sigma_3*(sin(phi)*sin(rho) + sin(theta)*cos(phi)*cos(rho))*(-sin(phi)*sin(theta)*cos(rho) + sin(rho)*cos(phi)))*cos(xi))*cos(delta) + (-(-sigma_1*(-sin(phi - 2*theta) + sin(phi + 2*theta))/4 - sigma_2*(-2*sin(phi)*sin(rho/2)**2 + sin(phi) - sin(rho)*sin(theta)*cos(phi))*sin(rho)*cos(theta) + sigma_3*(sin(phi)*sin(rho) + sin(theta)*cos(phi)*cos(rho))*cos(rho)*cos(theta))*sin(xi)*cos(delta) + (sigma_1*(cos(phi - 2*theta) - cos(phi + 2*theta))/4 - sigma_2*(sin(phi)*sin(rho)*sin(theta) - 2*sin(rho/2)**2*cos(phi) + cos(phi))*sin(rho)*cos(theta) + sigma_3*(-sin(phi)*sin(theta)*cos(rho) + sin(rho)*cos(phi))*cos(rho)*cos(theta))*cos(xi) + (sigma_1*sin(theta)**2 + sigma_2*sin(rho)**2*cos(theta)**2 + sigma_3*cos(rho)**2*cos(theta)**2)*sin(delta)*sin(xi))*sin(delta))/(-((-sigma_1*(-sin(phi - 2*theta) + sin(phi + 2*theta))/4 - sigma_2*(-2*sin(phi)*sin(rho/2)**2 + sin(phi) - sin(rho)*sin(theta)*cos(phi))*sin(rho)*cos(theta) + sigma_3*(sin(phi)*sin(rho) + sin(theta)*cos(phi)*cos(rho))*cos(rho)*cos(theta))*sin(delta)*sin(xi) - (sigma_1*cos(phi)**2*cos(theta)**2 + sigma_2*(-2*sin(phi)*cos(rho/2)**2 + sin(phi) + sin(rho)*sin(theta)*cos(phi))**2 + sigma_3*(sin(phi)*sin(rho) + sin(theta)*cos(phi)*cos(rho))**2)*sin(xi)*cos(delta) + (-sigma_1*sin(phi)*cos(phi)*cos(theta)**2 + sigma_2*(-2*sin(phi)*sin(rho/2)**2 + sin(phi) - sin(rho)*sin(theta)*cos(phi))*(sin(phi)*sin(rho)*sin(theta) - 2*sin(rho/2)**2*cos(phi) + cos(phi)) + sigma_3*(sin(phi)*sin(rho) + sin(theta)*cos(phi)*cos(rho))*(-sin(phi)*sin(theta)*cos(rho) + sin(rho)*cos(phi)))*cos(xi))*sin(delta) - (-(-sigma_1*(-sin(phi - 2*theta) + sin(phi + 2*theta))/4 - sigma_2*(-2*sin(phi)*sin(rho/2)**2 + sin(phi) - sin(rho)*sin(theta)*cos(phi))*sin(rho)*cos(theta) + sigma_3*(sin(phi)*sin(rho) + sin(theta)*cos(phi)*cos(rho))*cos(rho)*cos(theta))*sin(xi)*cos(delta) + (sigma_1*(cos(phi - 2*theta) - cos(phi + 2*theta))/4 - sigma_2*(sin(phi)*sin(rho)*sin(theta) - 2*sin(rho/2)**2*cos(phi) + cos(phi))*sin(rho)*cos(theta) + sigma_3*(-sin(phi)*sin(theta)*cos(rho) + sin(rho)*cos(phi))*cos(rho)*cos(theta))*cos(xi) + (sigma_1*sin(theta)**2 + sigma_2*sin(rho)**2*cos(theta)**2 + sigma_3*cos(rho)**2*cos(theta)**2)*sin(delta)*sin(xi))*cos(delta)))/((-((-sigma_1*(-sin(phi - 2*theta) + sin(phi + 2*theta))/4 - sigma_2*(-2*sin(phi)*sin(rho/2)**2 + sin(phi) - sin(rho)*sin(theta)*cos(phi))*sin(rho)*cos(theta) + sigma_3*(sin(phi)*sin(rho) + sin(theta)*cos(phi)*cos(rho))*cos(rho)*cos(theta))*sin(delta)*sin(xi) - (sigma_1*cos(phi)**2*cos(theta)**2 + sigma_2*(-2*sin(phi)*cos(rho/2)**2 + sin(phi) + sin(rho)*sin(theta)*cos(phi))**2 + sigma_3*(sin(phi)*sin(rho) + sin(theta)*cos(phi)*cos(rho))**2)*sin(xi)*cos(delta) + (-sigma_1*sin(phi)*cos(phi)*cos(theta)**2 + sigma_2*(-2*sin(phi)*sin(rho/2)**2 + sin(phi) - sin(rho)*sin(theta)*cos(phi))*(sin(phi)*sin(rho)*sin(theta) - 2*sin(rho/2)**2*cos(phi) + cos(phi)) + sigma_3*(sin(phi)*sin(rho) + sin(theta)*cos(phi)*cos(rho))*(-sin(phi)*sin(theta)*cos(rho) + sin(rho)*cos(phi)))*cos(xi))*sin(delta) - (-(-sigma_1*(-sin(phi - 2*theta) + sin(phi + 2*theta))/4 - sigma_2*(-2*sin(phi)*sin(rho/2)**2 + sin(phi) - sin(rho)*sin(theta)*cos(phi))*sin(rho)*cos(theta) + sigma_3*(sin(phi)*sin(rho) + sin(theta)*cos(phi)*cos(rho))*cos(rho)*cos(theta))*sin(xi)*cos(delta) + (sigma_1*(cos(phi - 2*theta) - cos(phi + 2*theta))/4 - sigma_2*(sin(phi)*sin(rho)*sin(theta) - 2*sin(rho/2)**2*cos(phi) + cos(phi))*sin(rho)*cos(theta) + sigma_3*(-sin(phi)*sin(theta)*cos(rho) + sin(rho)*cos(phi))*cos(rho)*cos(theta))*cos(xi) + (sigma_1*sin(theta)**2 + sigma_2*sin(rho)**2*cos(theta)**2 + sigma_3*cos(rho)**2*cos(theta)**2)*sin(delta)*sin(xi))*cos(delta))**2 + ((-(-sigma_1*(-sin(phi - 2*theta) + sin(phi + 2*theta))/4 - sigma_2*(-2*sin(phi)*sin(rho/2)**2 + sin(phi) - sin(rho)*sin(theta)*cos(phi))*sin(rho)*cos(theta) + sigma_3*(sin(phi)*sin(rho) + sin(theta)*cos(phi)*cos(rho))*cos(rho)*cos(theta))*sin(delta)*cos(xi) + (sigma_1*cos(phi)**2*cos(theta)**2 + sigma_2*(-2*sin(phi)*cos(rho/2)**2 + sin(phi) + sin(rho)*sin(theta)*cos(phi))**2 + sigma_3*(sin(phi)*sin(rho) + sin(theta)*cos(phi)*cos(rho))**2)*cos(delta)*cos(xi) + (-sigma_1*sin(phi)*cos(phi)*cos(theta)**2 + sigma_2*(-2*sin(phi)*sin(rho/2)**2 + sin(phi) - sin(rho)*sin(theta)*cos(phi))*(sin(phi)*sin(rho)*sin(theta) - 2*sin(rho/2)**2*cos(phi) + cos(phi)) + sigma_3*(sin(phi)*sin(rho) + sin(theta)*cos(phi)*cos(rho))*(-sin(phi)*sin(theta)*cos(rho) + sin(rho)*cos(phi)))*sin(xi))*sin(delta) + ((-sigma_1*(-sin(phi - 2*theta) + sin(phi + 2*theta))/4 - sigma_2*(-2*sin(phi)*sin(rho/2)**2 + sin(phi) - sin(rho)*sin(theta)*cos(phi))*sin(rho)*cos(theta) + sigma_3*(sin(phi)*sin(rho) + sin(theta)*cos(phi)*cos(rho))*cos(rho)*cos(theta))*cos(delta)*cos(xi) + (sigma_1*(cos(phi - 2*theta) - cos(phi + 2*theta))/4 - sigma_2*(sin(phi)*sin(rho)*sin(theta) - 2*sin(rho/2)**2*cos(phi) + cos(phi))*sin(rho)*cos(theta) + sigma_3*(-sin(phi)*sin(theta)*cos(rho) + sin(rho)*cos(phi))*cos(rho)*cos(theta))*sin(xi) - (sigma_1*sin(theta)**2 + sigma_2*sin(rho)**2*cos(theta)**2 + sigma_3*cos(rho)**2*cos(theta)**2)*sin(delta)*cos(xi))*cos(delta))**2)\n",
    "    return dldd, dldxi"
   ]
  },
  {
   "cell_type": "code",
   "execution_count": 16,
   "metadata": {
    "collapsed": false
   },
   "outputs": [],
   "source": [
    "sigma_1, sigma_2, sigma_3, phi, theta, rho, xi, delta = -1, -1/2, -1/4,-np.pi/4, np.pi/2, 0, 0, np.pi/2"
   ]
  },
  {
   "cell_type": "code",
   "execution_count": 20,
   "metadata": {
    "collapsed": false
   },
   "outputs": [],
   "source": [
    "def error_prop(dldd, dldxi, dipu, strikeu):\n",
    "    \n",
    "    error = np.sqrt((dldd*dipu)**2+(dldxi*strikeu)**2)\n",
    "    \n",
    "    return error"
   ]
  },
  {
   "cell_type": "code",
   "execution_count": 22,
   "metadata": {
    "collapsed": false
   },
   "outputs": [],
   "source": [
    "def rotation_matrix(axis, rotation_angle):\n",
    "    \n",
    "    a = sym.cos(rotation_angle/2)\n",
    "    b = -axis[0]*sym.sin(rotation_angle/2)\n",
    "    c = -axis[1]*sym.sin(rotation_angle/2)\n",
    "    d = -axis[2]*sym.sin(rotation_angle/2)\n",
    "    \n",
    "    R = sym.Matrix([[a**2+b**2-c**2-d**2, 2*(b*c-a*d), 2*(b*d+a*c)],[2*(b*c+a*d), a**2+c**2-b**2-d**2, 2*(c*d-a*b)],[2*(b*d-a*c), 2*(c*d+a*b), (a**2+d**2-b**2-c**2)]])\n",
    "\n",
    "    \n",
    "    return R\n"
   ]
  },
  {
   "cell_type": "code",
   "execution_count": 23,
   "metadata": {
    "collapsed": false
   },
   "outputs": [],
   "source": [
    "axis_1 = sym.Matrix([[0], [0], [1]])\n",
    "y =  sym.Matrix([[0], [-1], [0]])\n",
    "x =  sym.Matrix([[1], [0], [0]])"
   ]
  },
  {
   "cell_type": "markdown",
   "metadata": {},
   "source": [
    "<p> Create rotation matrix from principal to geograpic </p>"
   ]
  },
  {
   "cell_type": "code",
   "execution_count": 24,
   "metadata": {
    "collapsed": true
   },
   "outputs": [],
   "source": [
    "Rphi = rotation_matrix(axis_1, sym.symbols('phi'))"
   ]
  },
  {
   "cell_type": "code",
   "execution_count": 25,
   "metadata": {
    "collapsed": false
   },
   "outputs": [
    {
     "data": {
      "image/png": "[encoded data removed]",
      "text/latex": [
       "$$\\left[\\begin{matrix}- \\sin^{2}{\\left (\\frac{\\phi}{2} \\right )} + \\cos^{2}{\\left (\\frac{\\phi}{2} \\right )} & 2 \\sin{\\left (\\frac{\\phi}{2} \\right )} \\cos{\\left (\\frac{\\phi}{2} \\right )} & 0\\\\- 2 \\sin{\\left (\\frac{\\phi}{2} \\right )} \\cos{\\left (\\frac{\\phi}{2} \\right )} & - \\sin^{2}{\\left (\\frac{\\phi}{2} \\right )} + \\cos^{2}{\\left (\\frac{\\phi}{2} \\right )} & 0\\\\0 & 0 & \\sin^{2}{\\left (\\frac{\\phi}{2} \\right )} + \\cos^{2}{\\left (\\frac{\\phi}{2} \\right )}\\end{matrix}\\right]$$"
      ],
      "text/plain": [
       "⎡     2⎛φ⎞      2⎛φ⎞         ⎛φ⎞    ⎛φ⎞                     ⎤\n",
       "⎢- sin ⎜─⎟ + cos ⎜─⎟    2⋅sin⎜─⎟⋅cos⎜─⎟            0        ⎥\n",
       "⎢      ⎝2⎠       ⎝2⎠         ⎝2⎠    ⎝2⎠                     ⎥\n",
       "⎢                                                           ⎥\n",
       "⎢       ⎛φ⎞    ⎛φ⎞         2⎛φ⎞      2⎛φ⎞                   ⎥\n",
       "⎢ -2⋅sin⎜─⎟⋅cos⎜─⎟    - sin ⎜─⎟ + cos ⎜─⎟          0        ⎥\n",
       "⎢       ⎝2⎠    ⎝2⎠          ⎝2⎠       ⎝2⎠                   ⎥\n",
       "⎢                                                           ⎥\n",
       "⎢                                             2⎛φ⎞      2⎛φ⎞⎥\n",
       "⎢         0                    0           sin ⎜─⎟ + cos ⎜─⎟⎥\n",
       "⎣                                              ⎝2⎠       ⎝2⎠⎦"
      ]
     },
     "execution_count": 25,
     "metadata": {},
     "output_type": "execute_result"
    }
   ],
   "source": [
    "Rphi"
   ]
  },
  {
   "cell_type": "code",
   "execution_count": 27,
   "metadata": {
    "collapsed": false
   },
   "outputs": [],
   "source": [
    "yp = Rphi*y\n",
    "Rtheta = rotation_matrix(yp, sym.symbols('theta'))"
   ]
  },
  {
   "cell_type": "code",
   "execution_count": 28,
   "metadata": {
    "collapsed": false
   },
   "outputs": [
    {
     "data": {
      "image/png": "[encoded data removed]",
      "text/latex": [
       "$$\\left[\\begin{matrix}- \\left(- \\sin^{2}{\\left (\\frac{\\phi}{2} \\right )} + \\cos^{2}{\\left (\\frac{\\phi}{2} \\right )}\\right)^{2} \\sin^{2}{\\left (\\frac{\\theta}{2} \\right )} + 4 \\sin^{2}{\\left (\\frac{\\phi}{2} \\right )} \\sin^{2}{\\left (\\frac{\\theta}{2} \\right )} \\cos^{2}{\\left (\\frac{\\phi}{2} \\right )} + \\cos^{2}{\\left (\\frac{\\theta}{2} \\right )} & 4 \\left(- \\sin^{2}{\\left (\\frac{\\phi}{2} \\right )} + \\cos^{2}{\\left (\\frac{\\phi}{2} \\right )}\\right) \\sin{\\left (\\frac{\\phi}{2} \\right )} \\sin^{2}{\\left (\\frac{\\theta}{2} \\right )} \\cos{\\left (\\frac{\\phi}{2} \\right )} & 2 \\left(- \\sin^{2}{\\left (\\frac{\\phi}{2} \\right )} + \\cos^{2}{\\left (\\frac{\\phi}{2} \\right )}\\right) \\sin{\\left (\\frac{\\theta}{2} \\right )} \\cos{\\left (\\frac{\\theta}{2} \\right )}\\\\4 \\left(- \\sin^{2}{\\left (\\frac{\\phi}{2} \\right )} + \\cos^{2}{\\left (\\frac{\\phi}{2} \\right )}\\right) \\sin{\\left (\\frac{\\phi}{2} \\right )} \\sin^{2}{\\left (\\frac{\\theta}{2} \\right )} \\cos{\\left (\\frac{\\phi}{2} \\right )} & \\left(- \\sin^{2}{\\left (\\frac{\\phi}{2} \\right )} + \\cos^{2}{\\left (\\frac{\\phi}{2} \\right )}\\right)^{2} \\sin^{2}{\\left (\\frac{\\theta}{2} \\right )} - 4 \\sin^{2}{\\left (\\frac{\\phi}{2} \\right )} \\sin^{2}{\\left (\\frac{\\theta}{2} \\right )} \\cos^{2}{\\left (\\frac{\\phi}{2} \\right )} + \\cos^{2}{\\left (\\frac{\\theta}{2} \\right )} & - 4 \\sin{\\left (\\frac{\\phi}{2} \\right )} \\sin{\\left (\\frac{\\theta}{2} \\right )} \\cos{\\left (\\frac{\\phi}{2} \\right )} \\cos{\\left (\\frac{\\theta}{2} \\right )}\\\\- 2 \\left(- \\sin^{2}{\\left (\\frac{\\phi}{2} \\right )} + \\cos^{2}{\\left (\\frac{\\phi}{2} \\right )}\\right) \\sin{\\left (\\frac{\\theta}{2} \\right )} \\cos{\\left (\\frac{\\theta}{2} \\right )} & 4 \\sin{\\left (\\frac{\\phi}{2} \\right )} \\sin{\\left (\\frac{\\theta}{2} \\right )} \\cos{\\left (\\frac{\\phi}{2} \\right )} \\cos{\\left (\\frac{\\theta}{2} \\right )} & - \\left(- \\sin^{2}{\\left (\\frac{\\phi}{2} \\right )} + \\cos^{2}{\\left (\\frac{\\phi}{2} \\right )}\\right)^{2} \\sin^{2}{\\left (\\frac{\\theta}{2} \\right )} - 4 \\sin^{2}{\\left (\\frac{\\phi}{2} \\right )} \\sin^{2}{\\left (\\frac{\\theta}{2} \\right )} \\cos^{2}{\\left (\\frac{\\phi}{2} \\right )} + \\cos^{2}{\\left (\\frac{\\theta}{2} \\right )}\\end{matrix}\\right]$$"
      ],
      "text/plain": [
       "⎡                       2                                                     \n",
       "⎢  ⎛     2⎛φ⎞      2⎛φ⎞⎞     2⎛θ⎞        2⎛φ⎞    2⎛θ⎞    2⎛φ⎞      2⎛θ⎞       \n",
       "⎢- ⎜- sin ⎜─⎟ + cos ⎜─⎟⎟ ⋅sin ⎜─⎟ + 4⋅sin ⎜─⎟⋅sin ⎜─⎟⋅cos ⎜─⎟ + cos ⎜─⎟       \n",
       "⎢  ⎝      ⎝2⎠       ⎝2⎠⎠      ⎝2⎠         ⎝2⎠     ⎝2⎠     ⎝2⎠       ⎝2⎠       \n",
       "⎢                                                                             \n",
       "⎢                                                                             \n",
       "⎢              ⎛     2⎛φ⎞      2⎛φ⎞⎞    ⎛φ⎞    2⎛θ⎞    ⎛φ⎞               ⎛    \n",
       "⎢            4⋅⎜- sin ⎜─⎟ + cos ⎜─⎟⎟⋅sin⎜─⎟⋅sin ⎜─⎟⋅cos⎜─⎟               ⎜- si\n",
       "⎢              ⎝      ⎝2⎠       ⎝2⎠⎠    ⎝2⎠     ⎝2⎠    ⎝2⎠               ⎝    \n",
       "⎢                                                                             \n",
       "⎢                                                                             \n",
       "⎢                   ⎛     2⎛φ⎞      2⎛φ⎞⎞    ⎛θ⎞    ⎛θ⎞                       \n",
       "⎢                -2⋅⎜- sin ⎜─⎟ + cos ⎜─⎟⎟⋅sin⎜─⎟⋅cos⎜─⎟                       \n",
       "⎣                   ⎝      ⎝2⎠       ⎝2⎠⎠    ⎝2⎠    ⎝2⎠                       \n",
       "\n",
       "                                                                              \n",
       "        ⎛     2⎛φ⎞      2⎛φ⎞⎞    ⎛φ⎞    2⎛θ⎞    ⎛φ⎞                           \n",
       "      4⋅⎜- sin ⎜─⎟ + cos ⎜─⎟⎟⋅sin⎜─⎟⋅sin ⎜─⎟⋅cos⎜─⎟                           \n",
       "        ⎝      ⎝2⎠       ⎝2⎠⎠    ⎝2⎠     ⎝2⎠    ⎝2⎠                           \n",
       "                                                                              \n",
       "                2                                                             \n",
       " 2⎛φ⎞      2⎛φ⎞⎞     2⎛θ⎞        2⎛φ⎞    2⎛θ⎞    2⎛φ⎞      2⎛θ⎞               \n",
       "n ⎜─⎟ + cos ⎜─⎟⎟ ⋅sin ⎜─⎟ - 4⋅sin ⎜─⎟⋅sin ⎜─⎟⋅cos ⎜─⎟ + cos ⎜─⎟               \n",
       "  ⎝2⎠       ⎝2⎠⎠      ⎝2⎠         ⎝2⎠     ⎝2⎠     ⎝2⎠       ⎝2⎠               \n",
       "                                                                              \n",
       "                                                                              \n",
       "                   ⎛φ⎞    ⎛θ⎞    ⎛φ⎞    ⎛θ⎞                        ⎛     2⎛φ⎞ \n",
       "              4⋅sin⎜─⎟⋅sin⎜─⎟⋅cos⎜─⎟⋅cos⎜─⎟                      - ⎜- sin ⎜─⎟ \n",
       "                   ⎝2⎠    ⎝2⎠    ⎝2⎠    ⎝2⎠                        ⎝      ⎝2⎠ \n",
       "\n",
       "                                                         ⎤\n",
       "     ⎛     2⎛φ⎞      2⎛φ⎞⎞    ⎛θ⎞    ⎛θ⎞                 ⎥\n",
       "   2⋅⎜- sin ⎜─⎟ + cos ⎜─⎟⎟⋅sin⎜─⎟⋅cos⎜─⎟                 ⎥\n",
       "     ⎝      ⎝2⎠       ⎝2⎠⎠    ⎝2⎠    ⎝2⎠                 ⎥\n",
       "                                                         ⎥\n",
       "                                                         ⎥\n",
       "             ⎛φ⎞    ⎛θ⎞    ⎛φ⎞    ⎛θ⎞                    ⎥\n",
       "       -4⋅sin⎜─⎟⋅sin⎜─⎟⋅cos⎜─⎟⋅cos⎜─⎟                    ⎥\n",
       "             ⎝2⎠    ⎝2⎠    ⎝2⎠    ⎝2⎠                    ⎥\n",
       "                                                         ⎥\n",
       "          2                                              ⎥\n",
       "     2⎛φ⎞⎞     2⎛θ⎞        2⎛φ⎞    2⎛θ⎞    2⎛φ⎞      2⎛θ⎞⎥\n",
       "+ cos ⎜─⎟⎟ ⋅sin ⎜─⎟ - 4⋅sin ⎜─⎟⋅sin ⎜─⎟⋅cos ⎜─⎟ + cos ⎜─⎟⎥\n",
       "      ⎝2⎠⎠      ⎝2⎠         ⎝2⎠     ⎝2⎠     ⎝2⎠       ⎝2⎠⎦"
      ]
     },
     "execution_count": 28,
     "metadata": {},
     "output_type": "execute_result"
    }
   ],
   "source": [
    "Rtheta"
   ]
  },
  {
   "cell_type": "code",
   "execution_count": 29,
   "metadata": {
    "collapsed": true
   },
   "outputs": [],
   "source": [
    "Ri = sym.trigsimp(Rtheta*Rphi)\n",
    "xpp = sym.trigsimp(Ri*x)\n",
    "Rrho = rotation_matrix(xpp, sym.symbols('rho'))"
   ]
  },
  {
   "cell_type": "code",
   "execution_count": 30,
   "metadata": {
    "collapsed": false
   },
   "outputs": [],
   "source": [
    "Rstress = Rrho*Ri\n",
    "Rstress = sym.trigsimp(Rstress)"
   ]
  },
  {
   "cell_type": "code",
   "execution_count": 32,
   "metadata": {
    "collapsed": false
   },
   "outputs": [
    {
     "data": {
      "image/png": "[encoded data removed]",
      "text/latex": [
       "$$\\left[\\begin{matrix}\\cos{\\left (\\phi \\right )} \\cos{\\left (\\theta \\right )} & - 2 \\sin{\\left (\\phi \\right )} \\sin^{2}{\\left (\\frac{\\rho}{2} \\right )} + \\sin{\\left (\\phi \\right )} - \\sin{\\left (\\rho \\right )} \\sin{\\left (\\theta \\right )} \\cos{\\left (\\phi \\right )} & \\sin{\\left (\\phi \\right )} \\sin{\\left (\\rho \\right )} + \\frac{1}{2} \\sin{\\left (\\theta \\right )} \\cos{\\left (\\phi + \\rho \\right )} + \\frac{1}{4} \\sin{\\left (- \\phi + \\rho + \\theta \\right )} + \\frac{1}{4} \\sin{\\left (\\phi - \\rho + \\theta \\right )}\\\\- \\sin{\\left (\\phi \\right )} \\cos{\\left (\\theta \\right )} & \\sin{\\left (\\phi \\right )} \\sin{\\left (\\rho \\right )} \\sin{\\left (\\theta \\right )} - 2 \\sin^{2}{\\left (\\frac{\\rho}{2} \\right )} \\cos{\\left (\\phi \\right )} + \\cos{\\left (\\phi \\right )} & \\sin{\\left (\\rho \\right )} \\cos{\\left (\\phi \\right )} - \\frac{1}{2} \\sin{\\left (\\theta \\right )} \\sin{\\left (\\phi + \\rho \\right )} - \\frac{1}{4} \\cos{\\left (- \\phi + \\rho + \\theta \\right )} + \\frac{1}{4} \\cos{\\left (\\phi - \\rho + \\theta \\right )}\\\\- \\sin{\\left (\\theta \\right )} & - \\sin{\\left (\\rho \\right )} \\cos{\\left (\\theta \\right )} & \\cos{\\left (\\rho \\right )} \\cos{\\left (\\theta \\right )}\\end{matrix}\\right]$$"
      ],
      "text/plain": [
       "⎡                              2⎛ρ⎞                                           \n",
       "⎢cos(φ)⋅cos(θ)   - 2⋅sin(φ)⋅sin ⎜─⎟ + sin(φ) - sin(ρ)⋅sin(θ)⋅cos(φ)  sin(φ)⋅si\n",
       "⎢                               ⎝2⎠                                           \n",
       "⎢                                                                             \n",
       "⎢                                             2⎛ρ⎞                            \n",
       "⎢-sin(φ)⋅cos(θ)   sin(φ)⋅sin(ρ)⋅sin(θ) - 2⋅sin ⎜─⎟⋅cos(φ) + cos(φ)   sin(ρ)⋅co\n",
       "⎢                                              ⎝2⎠                            \n",
       "⎢                                                                             \n",
       "⎣   -sin(θ)                        -sin(ρ)⋅cos(θ)                             \n",
       "\n",
       "       sin(θ)⋅cos(φ + ρ)   sin(-φ + ρ + θ)   sin(φ - ρ + θ)⎤\n",
       "n(ρ) + ───────────────── + ─────────────── + ──────────────⎥\n",
       "               2                  4                4       ⎥\n",
       "                                                           ⎥\n",
       "       sin(θ)⋅sin(φ + ρ)   cos(-φ + ρ + θ)   cos(φ - ρ + θ)⎥\n",
       "s(φ) - ───────────────── - ─────────────── + ──────────────⎥\n",
       "               2                  4                4       ⎥\n",
       "                                                           ⎥\n",
       "                  cos(ρ)⋅cos(θ)                            ⎦"
      ]
     },
     "execution_count": 32,
     "metadata": {},
     "output_type": "execute_result"
    }
   ],
   "source": [
    "Rstress"
   ]
  },
  {
   "cell_type": "code",
   "execution_count": 34,
   "metadata": {
    "collapsed": false
   },
   "outputs": [
    {
     "name": "stdout",
     "output_type": "stream",
     "text": [
      "[[  4.32978028e-17  -7.07106781e-01   7.07106781e-01]\n",
      " [  4.32978028e-17   7.07106781e-01   7.07106781e-01]\n",
      " [ -1.00000000e+00  -0.00000000e+00   6.12323400e-17]]\n"
     ]
    }
   ],
   "source": [
    "Rstresscheck = stress_rotation(-np.pi/4, np.pi/2, 0)\n",
    "print(Rstresscheck)"
   ]
  },
  {
   "cell_type": "code",
   "execution_count": 35,
   "metadata": {
    "collapsed": true
   },
   "outputs": [],
   "source": [
    "sigma1, sigma2, sigma3 = sym.symbols(['sigma_1','sigma_2','sigma_3'])\n",
    "pstress = sym.Matrix([[sigma1, 0 , 0], [0, sigma2, 0], [0, 0, sigma3]])\n",
    "RstressT = sym.transpose(Rstress)\n",
    "RstressT = sym.trigsimp(RstressT)\n",
    "\n",
    "stressgeo = Rstress*pstress*RstressT\n",
    "stressgeo = sym.trigsimp(stressgeo)"
   ]
  },
  {
   "cell_type": "code",
   "execution_count": null,
   "metadata": {
    "collapsed": true
   },
   "outputs": [],
   "source": []
  },
  {
   "cell_type": "code",
   "execution_count": null,
   "metadata": {
    "collapsed": true
   },
   "outputs": [],
   "source": []
  },
  {
   "cell_type": "code",
   "execution_count": null,
   "metadata": {
    "collapsed": false
   },
   "outputs": [],
   "source": []
  },
  {
   "cell_type": "code",
   "execution_count": null,
   "metadata": {
    "collapsed": false
   },
   "outputs": [],
   "source": []
  },
  {
   "cell_type": "code",
   "execution_count": null,
   "metadata": {
    "collapsed": true
   },
   "outputs": [],
   "source": []
  },
  {
   "cell_type": "code",
   "execution_count": null,
   "metadata": {
    "collapsed": true
   },
   "outputs": [],
   "source": []
  },
  {
   "cell_type": "code",
   "execution_count": null,
   "metadata": {
    "collapsed": false
   },
   "outputs": [],
   "source": []
  },
  {
   "cell_type": "code",
   "execution_count": null,
   "metadata": {
    "collapsed": false
   },
   "outputs": [],
   "source": []
  },
  {
   "cell_type": "code",
   "execution_count": null,
   "metadata": {
    "collapsed": false
   },
   "outputs": [],
   "source": []
  },
  {
   "cell_type": "code",
   "execution_count": null,
   "metadata": {
    "collapsed": true
   },
   "outputs": [],
   "source": []
  },
  {
   "cell_type": "code",
   "execution_count": null,
   "metadata": {
    "collapsed": false
   },
   "outputs": [],
   "source": []
  },
  {
   "cell_type": "code",
   "execution_count": null,
   "metadata": {
    "collapsed": false
   },
   "outputs": [],
   "source": []
  },
  {
   "cell_type": "code",
   "execution_count": null,
   "metadata": {
    "collapsed": true
   },
   "outputs": [],
   "source": []
  },
  {
   "cell_type": "code",
   "execution_count": null,
   "metadata": {
    "collapsed": true
   },
   "outputs": [],
   "source": []
  },
  {
   "cell_type": "code",
   "execution_count": null,
   "metadata": {
    "collapsed": true
   },
   "outputs": [],
   "source": []
  },
  {
   "cell_type": "code",
   "execution_count": null,
   "metadata": {
    "collapsed": true
   },
   "outputs": [],
   "source": []
  },
  {
   "cell_type": "code",
   "execution_count": null,
   "metadata": {
    "collapsed": true
   },
   "outputs": [],
   "source": []
  },
  {
   "cell_type": "code",
   "execution_count": null,
   "metadata": {
    "collapsed": true
   },
   "outputs": [],
   "source": []
  },
  {
   "cell_type": "code",
   "execution_count": null,
   "metadata": {
    "collapsed": true
   },
   "outputs": [],
   "source": []
  },
  {
   "cell_type": "code",
   "execution_count": null,
   "metadata": {
    "collapsed": true
   },
   "outputs": [],
   "source": []
  },
  {
   "cell_type": "code",
   "execution_count": null,
   "metadata": {
    "collapsed": true
   },
   "outputs": [],
   "source": []
  },
  {
   "cell_type": "code",
   "execution_count": null,
   "metadata": {
    "collapsed": true
   },
   "outputs": [],
   "source": []
  },
  {
   "cell_type": "code",
   "execution_count": null,
   "metadata": {
    "collapsed": true
   },
   "outputs": [],
   "source": []
  },
  {
   "cell_type": "code",
   "execution_count": null,
   "metadata": {
    "collapsed": true
   },
   "outputs": [],
   "source": []
  },
  {
   "cell_type": "code",
   "execution_count": null,
   "metadata": {
    "collapsed": true
   },
   "outputs": [],
   "source": []
  },
  {
   "cell_type": "code",
   "execution_count": null,
   "metadata": {
    "collapsed": true
   },
   "outputs": [],
   "source": []
  },
  {
   "cell_type": "code",
   "execution_count": null,
   "metadata": {
    "collapsed": true
   },
   "outputs": [],
   "source": []
  }
 ],
 "metadata": {
  "kernelspec": {
   "display_name": "Python [default]",
   "language": "python",
   "name": "python3"
  },
  "language_info": {
   "codemirror_mode": {
    "name": "ipython",
    "version": 3
   },
   "file_extension": ".py",
   "mimetype": "text/x-python",
   "name": "python",
   "nbconvert_exporter": "python",
   "pygments_lexer": "ipython3",
   "version": "3.5.2"
  }
 },
 "nbformat": 4,
 "nbformat_minor": 2
}
