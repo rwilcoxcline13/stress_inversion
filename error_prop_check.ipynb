{
 "cells": [
  {
   "cell_type": "code",
   "execution_count": 42,
   "metadata": {
    "collapsed": true
   },
   "outputs": [],
   "source": [
    "import numpy as np\n",
    "import sympy as sym\n",
    "from sympy import init_printing\n",
    "from math import sin, cos\n"
   ]
  },
  {
   "cell_type": "code",
   "execution_count": 4,
   "metadata": {
    "collapsed": true
   },
   "outputs": [],
   "source": [
    "def stress_rotation(phi, theta, rho):\n",
    "\n",
    "    Rstress = np.asmatrix([\n",
    "    [ np.cos(phi)*np.cos(theta), -2*np.sin(phi)*np.sin(rho/2)**2 + np.sin(phi) - np.sin(rho)*np.sin(theta)*np.cos(phi), np.sin(phi)*np.sin(rho) + np.sin(theta)*np.cos(phi + rho)/2 + np.sin(-phi + rho + theta)/4 + np.sin(phi - rho + theta)/4],\n",
    "    [-np.sin(phi)*np.cos(theta),  np.sin(phi)*np.sin(rho)*np.sin(theta) - 2*np.sin(rho/2)**2*np.cos(phi) + np.cos(phi), np.sin(rho)*np.cos(phi) - np.sin(theta)*np.sin(phi + rho)/2 - np.cos(-phi + rho + theta)/4 + np.cos(phi - rho + theta)/4],\n",
    "    [         -np.sin(theta),                                                -np.sin(rho)*np.cos(theta),                                                                                    np.cos(rho)*np.cos(theta)]])\n",
    "\n",
    "    return Rstress"
   ]
  },
  {
   "cell_type": "code",
   "execution_count": 6,
   "metadata": {},
   "outputs": [
    {
     "name": "stdout",
     "output_type": "stream",
     "text": [
      "[[  4.32978028e-17  -7.07106781e-01   7.07106781e-01]\n",
      " [  4.32978028e-17   7.07106781e-01   7.07106781e-01]\n",
      " [ -1.00000000e+00  -0.00000000e+00   6.12323400e-17]]\n"
     ]
    }
   ],
   "source": [
    "Rstress = stress_rotation(-np.pi/4, np.pi/2, 0)\n",
    "print(Rstress)"
   ]
  },
  {
   "cell_type": "code",
   "execution_count": 7,
   "metadata": {
    "collapsed": true
   },
   "outputs": [],
   "source": [
    "def fault_rotation(xi, delta):\n",
    "    \n",
    "    Rfault =  np.asmatrix([\n",
    "            [ np.cos(delta)*np.cos(xi), np.sin(xi), -np.sin(delta)*np.cos(xi)],\n",
    "            [-np.sin(xi)*np.cos(delta), np.cos(xi),  np.sin(delta)*np.sin(xi)],\n",
    "            [         np.sin(delta),       0,          np.cos(delta)]])\n",
    "    \n",
    "    return Rfault"
   ]
  },
  {
   "cell_type": "code",
   "execution_count": 39,
   "metadata": {},
   "outputs": [
    {
     "name": "stdout",
     "output_type": "stream",
     "text": [
      "[[  6.12323400e-17   0.00000000e+00  -1.00000000e+00]\n",
      " [ -0.00000000e+00   1.00000000e+00   0.00000000e+00]\n",
      " [  1.00000000e+00   0.00000000e+00   6.12323400e-17]]\n"
     ]
    }
   ],
   "source": [
    "Rfault = fault_rotation(0, np.pi/2)\n",
    "print(Rfault)"
   ]
  },
  {
   "cell_type": "code",
   "execution_count": 10,
   "metadata": {
    "collapsed": true
   },
   "outputs": [],
   "source": [
    "def pstress_matrix(sigma_1, sigma_2, sigma_3):\n",
    "    \n",
    "    pstress = np.asmatrix([[sigma_1, 0, 0], [0, sigma_2, 0], [0, 0, sigma_3]])\n",
    "    \n",
    "    return pstress"
   ]
  },
  {
   "cell_type": "code",
   "execution_count": 12,
   "metadata": {},
   "outputs": [
    {
     "name": "stdout",
     "output_type": "stream",
     "text": [
      "[[-1.    0.    0.  ]\n",
      " [ 0.   -0.5   0.  ]\n",
      " [ 0.    0.   -0.25]]\n"
     ]
    }
   ],
   "source": [
    "pstress = pstress_matrix(-1, -1/2, -1/4)\n",
    "print(pstress)"
   ]
  },
  {
   "cell_type": "code",
   "execution_count": 18,
   "metadata": {
    "collapsed": true
   },
   "outputs": [],
   "source": [
    "def stress_geo(sigma_1, sigma_2, sigma_3, phi, theta, rho):\n",
    "    \n",
    "    stressgeo = np.asmatrix([\n",
    "[                                                                                                                          sigma_1*np.cos(phi)**2*np.cos(theta)**2 + sigma_2*(-2*np.sin(phi)*np.cos(rho/2)**2 + np.sin(phi) + np.sin(rho)*np.sin(theta)*np.cos(phi))**2 + sigma_3*(np.sin(phi)*np.sin(rho) + np.sin(theta)*np.cos(phi)*np.cos(rho))**2, -sigma_1*np.sin(phi)*np.cos(phi)*np.cos(theta)**2 + sigma_2*(-2*np.sin(phi)*np.sin(rho/2)**2 + np.sin(phi) - np.sin(rho)*np.sin(theta)*np.cos(phi))*(np.sin(phi)*np.sin(rho)*np.sin(theta) - 2*np.sin(rho/2)**2*np.cos(phi) + np.cos(phi)) + sigma_3*(np.sin(phi)*np.sin(rho) + np.sin(theta)*np.cos(phi)*np.cos(rho))*(-np.sin(phi)*np.sin(theta)*np.cos(rho) + np.sin(rho)*np.cos(phi)), -sigma_1*(-np.sin(phi - 2*theta) + np.sin(phi + 2*theta))/4 - sigma_2*(-2*np.sin(phi)*np.sin(rho/2)**2 + np.sin(phi) - np.sin(rho)*np.sin(theta)*np.cos(phi))*np.sin(rho)*np.cos(theta) + sigma_3*(np.sin(phi)*np.sin(rho) + np.sin(theta)*np.cos(phi)*np.cos(rho))*np.cos(rho)*np.cos(theta)],\n",
    "[-sigma_1*np.sin(phi)*np.cos(phi)*np.cos(theta)**2 + sigma_2*(-2*np.sin(phi)*np.sin(rho/2)**2 + np.sin(phi) - np.sin(rho)*np.sin(theta)*np.cos(phi))*(np.sin(phi)*np.sin(rho)*np.sin(theta) - 2*np.sin(rho/2)**2*np.cos(phi) + np.cos(phi)) + sigma_3*(np.sin(phi)*np.sin(rho) + np.sin(theta)*np.cos(phi)*np.cos(rho))*(-np.sin(phi)*np.sin(theta)*np.cos(rho) + np.sin(rho)*np.cos(phi)),                                                                                                                           sigma_1*np.sin(phi)**2*np.cos(theta)**2 + sigma_2*(np.sin(phi)*np.sin(rho)*np.sin(theta) - 2*np.sin(rho/2)**2*np.cos(phi) + np.cos(phi))**2 + sigma_3*(-np.sin(phi)*np.sin(theta)*np.cos(rho) + np.sin(rho)*np.cos(phi))**2,   sigma_1*(np.cos(phi - 2*theta) - np.cos(phi + 2*theta))/4 - sigma_2*(np.sin(phi)*np.sin(rho)*np.sin(theta) - 2*np.sin(rho/2)**2*np.cos(phi) + np.cos(phi))*np.sin(rho)*np.cos(theta) + sigma_3*(-np.sin(phi)*np.sin(theta)*np.cos(rho) + np.sin(rho)*np.cos(phi))*np.cos(rho)*np.cos(theta)],\n",
    "[                                                                    -sigma_1*(-np.sin(phi - 2*theta) + np.sin(phi + 2*theta))/4 - sigma_2*(-2*np.sin(phi)*np.sin(rho/2)**2 + np.sin(phi) - np.sin(rho)*np.sin(theta)*np.cos(phi))*np.sin(rho)*np.cos(theta) + sigma_3*(np.sin(phi)*np.sin(rho) + np.sin(theta)*np.cos(phi)*np.cos(rho))*np.cos(rho)*np.cos(theta),                                                                       sigma_1*(np.cos(phi - 2*theta) - np.cos(phi + 2*theta))/4 - sigma_2*(np.sin(phi)*np.sin(rho)*np.sin(theta) - 2*np.sin(rho/2)**2*np.cos(phi) + np.cos(phi))*np.sin(rho)*np.cos(theta) + sigma_3*(-np.sin(phi)*np.sin(theta)*np.cos(rho) + np.sin(rho)*np.cos(phi))*np.cos(rho)*np.cos(theta),                                                                                                                                              sigma_1*np.sin(theta)**2 + sigma_2*np.sin(rho)**2*np.cos(theta)**2 + sigma_3*np.cos(rho)**2*np.cos(theta)**2]])\n",
    "    \n",
    "    return stressgeo"
   ]
  },
  {
   "cell_type": "code",
   "execution_count": 19,
   "metadata": {
    "collapsed": true
   },
   "outputs": [],
   "source": [
    "sigma_1, sigma_2, sigma_3, phi, theta, rho = -1, -1/2, -1/4,-np.pi/4, np.pi/2, 0"
   ]
  },
  {
   "cell_type": "code",
   "execution_count": 21,
   "metadata": {},
   "outputs": [
    {
     "name": "stdout",
     "output_type": "stream",
     "text": [
      "[[ -3.75000000e-01   1.25000000e-01   1.69311249e-17]\n",
      " [  1.25000000e-01  -3.75000000e-01   4.46867005e-17]\n",
      " [  1.69311249e-17   4.46867005e-17  -1.00000000e+00]]\n"
     ]
    }
   ],
   "source": [
    "stressgeo = stress_geo(sigma_1, sigma_2, sigma_3, phi, theta, rho)\n",
    "print(stressgeo)"
   ]
  },
  {
   "cell_type": "code",
   "execution_count": 29,
   "metadata": {},
   "outputs": [
    {
     "name": "stdout",
     "output_type": "stream",
     "text": [
      "[[ -3.75000000e-01   1.25000000e-01   1.69311249e-17]\n",
      " [  1.25000000e-01  -3.75000000e-01   4.46867005e-17]\n",
      " [  1.69311249e-17   4.46867005e-17  -1.00000000e+00]]\n",
      "[[ -3.75000000e-01   1.25000000e-01   3.24733521e-17]\n",
      " [  1.25000000e-01  -3.75000000e-01   3.24733521e-17]\n",
      " [  3.24733521e-17   3.24733521e-17  -1.00000000e+00]]\n"
     ]
    }
   ],
   "source": [
    "stressgeo_check = Rstress*pstress*Rstress.T\n",
    "print(stressgeo)\n",
    "print(stressgeo_check)"
   ]
  },
  {
   "cell_type": "code",
   "execution_count": 37,
   "metadata": {
    "collapsed": true
   },
   "outputs": [],
   "source": [
    "xi, delta = 0, np.pi/2"
   ]
  },
  {
   "cell_type": "code",
   "execution_count": 41,
   "metadata": {},
   "outputs": [
    {
     "name": "stdout",
     "output_type": "stream",
     "text": [
      "[[ -1.00000000e+00  -3.70326580e-17   2.13390876e-17]\n",
      " [ -3.70326580e-17  -3.75000000e-01   1.25000000e-01]\n",
      " [  2.13390876e-17   1.25000000e-01  -3.75000000e-01]]\n"
     ]
    }
   ],
   "source": [
    "stressfault = Rfault*stressgeo*Rfault.T\n",
    "print(stressfault)"
   ]
  },
  {
   "cell_type": "code",
   "execution_count": 44,
   "metadata": {
    "collapsed": true
   },
   "outputs": [],
   "source": [
    "def stress_fault(sigma_1, sigma_2, sigma_3, phi, theta, rho, xi, delta):\n",
    "    \n",
    "    sf = np.asmatrix([\n",
    "[(-(-sigma_1*(-sin(phi - 2*theta) + sin(phi + 2*theta))/4 - sigma_2*(-2*sin(phi)*sin(rho/2)**2 + sin(phi) - sin(rho)*sin(theta)*cos(phi))*sin(rho)*cos(theta) + sigma_3*(sin(phi)*sin(rho) + sin(theta)*cos(phi)*cos(rho))*cos(rho)*cos(theta))*sin(delta)*cos(xi) + (sigma_1*cos(phi)**2*cos(theta)**2 + sigma_2*(-2*sin(phi)*cos(rho/2)**2 + sin(phi) + sin(rho)*sin(theta)*cos(phi))**2 + sigma_3*(sin(phi)*sin(rho) + sin(theta)*cos(phi)*cos(rho))**2)*cos(delta)*cos(xi) + (-sigma_1*sin(phi)*cos(phi)*cos(theta)**2 + sigma_2*(-2*sin(phi)*sin(rho/2)**2 + sin(phi) - sin(rho)*sin(theta)*cos(phi))*(sin(phi)*sin(rho)*sin(theta) - 2*sin(rho/2)**2*cos(phi) + cos(phi)) + sigma_3*(sin(phi)*sin(rho) + sin(theta)*cos(phi)*cos(rho))*(-sin(phi)*sin(theta)*cos(rho) + sin(rho)*cos(phi)))*sin(xi))*cos(delta)*cos(xi) - ((-sigma_1*(-sin(phi - 2*theta) + sin(phi + 2*theta))/4 - sigma_2*(-2*sin(phi)*sin(rho/2)**2 + sin(phi) - sin(rho)*sin(theta)*cos(phi))*sin(rho)*cos(theta) + sigma_3*(sin(phi)*sin(rho) + sin(theta)*cos(phi)*cos(rho))*cos(rho)*cos(theta))*cos(delta)*cos(xi) + (sigma_1*(cos(phi - 2*theta) - cos(phi + 2*theta))/4 - sigma_2*(sin(phi)*sin(rho)*sin(theta) - 2*sin(rho/2)**2*cos(phi) + cos(phi))*sin(rho)*cos(theta) + sigma_3*(-sin(phi)*sin(theta)*cos(rho) + sin(rho)*cos(phi))*cos(rho)*cos(theta))*sin(xi) - (sigma_1*sin(theta)**2 + sigma_2*sin(rho)**2*cos(theta)**2 + sigma_3*cos(rho)**2*cos(theta)**2)*sin(delta)*cos(xi))*sin(delta)*cos(xi) + (-(sigma_1*(cos(phi - 2*theta) - cos(phi + 2*theta))/4 - sigma_2*(sin(phi)*sin(rho)*sin(theta) - 2*sin(rho/2)**2*cos(phi) + cos(phi))*sin(rho)*cos(theta) + sigma_3*(-sin(phi)*sin(theta)*cos(rho) + sin(rho)*cos(phi))*cos(rho)*cos(theta))*sin(delta)*cos(xi) + (sigma_1*sin(phi)**2*cos(theta)**2 + sigma_2*(sin(phi)*sin(rho)*sin(theta) - 2*sin(rho/2)**2*cos(phi) + cos(phi))**2 + sigma_3*(-sin(phi)*sin(theta)*cos(rho) + sin(rho)*cos(phi))**2)*sin(xi) + (-sigma_1*sin(phi)*cos(phi)*cos(theta)**2 + sigma_2*(-2*sin(phi)*sin(rho/2)**2 + sin(phi) - sin(rho)*sin(theta)*cos(phi))*(sin(phi)*sin(rho)*sin(theta) - 2*sin(rho/2)**2*cos(phi) + cos(phi)) + sigma_3*(sin(phi)*sin(rho) + sin(theta)*cos(phi)*cos(rho))*(-sin(phi)*sin(theta)*cos(rho) + sin(rho)*cos(phi)))*cos(delta)*cos(xi))*sin(xi), -(-(-sigma_1*(-sin(phi - 2*theta) + sin(phi + 2*theta))/4 - sigma_2*(-2*sin(phi)*sin(rho/2)**2 + sin(phi) - sin(rho)*sin(theta)*cos(phi))*sin(rho)*cos(theta) + sigma_3*(sin(phi)*sin(rho) + sin(theta)*cos(phi)*cos(rho))*cos(rho)*cos(theta))*sin(delta)*cos(xi) + (sigma_1*cos(phi)**2*cos(theta)**2 + sigma_2*(-2*sin(phi)*cos(rho/2)**2 + sin(phi) + sin(rho)*sin(theta)*cos(phi))**2 + sigma_3*(sin(phi)*sin(rho) + sin(theta)*cos(phi)*cos(rho))**2)*cos(delta)*cos(xi) + (-sigma_1*sin(phi)*cos(phi)*cos(theta)**2 + sigma_2*(-2*sin(phi)*sin(rho/2)**2 + sin(phi) - sin(rho)*sin(theta)*cos(phi))*(sin(phi)*sin(rho)*sin(theta) - 2*sin(rho/2)**2*cos(phi) + cos(phi)) + sigma_3*(sin(phi)*sin(rho) + sin(theta)*cos(phi)*cos(rho))*(-sin(phi)*sin(theta)*cos(rho) + sin(rho)*cos(phi)))*sin(xi))*sin(xi)*cos(delta) + ((-sigma_1*(-sin(phi - 2*theta) + sin(phi + 2*theta))/4 - sigma_2*(-2*sin(phi)*sin(rho/2)**2 + sin(phi) - sin(rho)*sin(theta)*cos(phi))*sin(rho)*cos(theta) + sigma_3*(sin(phi)*sin(rho) + sin(theta)*cos(phi)*cos(rho))*cos(rho)*cos(theta))*cos(delta)*cos(xi) + (sigma_1*(cos(phi - 2*theta) - cos(phi + 2*theta))/4 - sigma_2*(sin(phi)*sin(rho)*sin(theta) - 2*sin(rho/2)**2*cos(phi) + cos(phi))*sin(rho)*cos(theta) + sigma_3*(-sin(phi)*sin(theta)*cos(rho) + sin(rho)*cos(phi))*cos(rho)*cos(theta))*sin(xi) - (sigma_1*sin(theta)**2 + sigma_2*sin(rho)**2*cos(theta)**2 + sigma_3*cos(rho)**2*cos(theta)**2)*sin(delta)*cos(xi))*sin(delta)*sin(xi) + (-(sigma_1*(cos(phi - 2*theta) - cos(phi + 2*theta))/4 - sigma_2*(sin(phi)*sin(rho)*sin(theta) - 2*sin(rho/2)**2*cos(phi) + cos(phi))*sin(rho)*cos(theta) + sigma_3*(-sin(phi)*sin(theta)*cos(rho) + sin(rho)*cos(phi))*cos(rho)*cos(theta))*sin(delta)*cos(xi) + (sigma_1*sin(phi)**2*cos(theta)**2 + sigma_2*(sin(phi)*sin(rho)*sin(theta) - 2*sin(rho/2)**2*cos(phi) + cos(phi))**2 + sigma_3*(-sin(phi)*sin(theta)*cos(rho) + sin(rho)*cos(phi))**2)*sin(xi) + (-sigma_1*sin(phi)*cos(phi)*cos(theta)**2 + sigma_2*(-2*sin(phi)*sin(rho/2)**2 + sin(phi) - sin(rho)*sin(theta)*cos(phi))*(sin(phi)*sin(rho)*sin(theta) - 2*sin(rho/2)**2*cos(phi) + cos(phi)) + sigma_3*(sin(phi)*sin(rho) + sin(theta)*cos(phi)*cos(rho))*(-sin(phi)*sin(theta)*cos(rho) + sin(rho)*cos(phi)))*cos(delta)*cos(xi))*cos(xi), (-(-sigma_1*(-sin(phi - 2*theta) + sin(phi + 2*theta))/4 - sigma_2*(-2*sin(phi)*sin(rho/2)**2 + sin(phi) - sin(rho)*sin(theta)*cos(phi))*sin(rho)*cos(theta) + sigma_3*(sin(phi)*sin(rho) + sin(theta)*cos(phi)*cos(rho))*cos(rho)*cos(theta))*sin(delta)*cos(xi) + (sigma_1*cos(phi)**2*cos(theta)**2 + sigma_2*(-2*sin(phi)*cos(rho/2)**2 + sin(phi) + sin(rho)*sin(theta)*cos(phi))**2 + sigma_3*(sin(phi)*sin(rho) + sin(theta)*cos(phi)*cos(rho))**2)*cos(delta)*cos(xi) + (-sigma_1*sin(phi)*cos(phi)*cos(theta)**2 + sigma_2*(-2*sin(phi)*sin(rho/2)**2 + sin(phi) - sin(rho)*sin(theta)*cos(phi))*(sin(phi)*sin(rho)*sin(theta) - 2*sin(rho/2)**2*cos(phi) + cos(phi)) + sigma_3*(sin(phi)*sin(rho) + sin(theta)*cos(phi)*cos(rho))*(-sin(phi)*sin(theta)*cos(rho) + sin(rho)*cos(phi)))*sin(xi))*sin(delta) + ((-sigma_1*(-sin(phi - 2*theta) + sin(phi + 2*theta))/4 - sigma_2*(-2*sin(phi)*sin(rho/2)**2 + sin(phi) - sin(rho)*sin(theta)*cos(phi))*sin(rho)*cos(theta) + sigma_3*(sin(phi)*sin(rho) + sin(theta)*cos(phi)*cos(rho))*cos(rho)*cos(theta))*cos(delta)*cos(xi) + (sigma_1*(cos(phi - 2*theta) - cos(phi + 2*theta))/4 - sigma_2*(sin(phi)*sin(rho)*sin(theta) - 2*sin(rho/2)**2*cos(phi) + cos(phi))*sin(rho)*cos(theta) + sigma_3*(-sin(phi)*sin(theta)*cos(rho) + sin(rho)*cos(phi))*cos(rho)*cos(theta))*sin(xi) - (sigma_1*sin(theta)**2 + sigma_2*sin(rho)**2*cos(theta)**2 + sigma_3*cos(rho)**2*cos(theta)**2)*sin(delta)*cos(xi))*cos(delta)],\n",
    "[ ((-sigma_1*(-sin(phi - 2*theta) + sin(phi + 2*theta))/4 - sigma_2*(-2*sin(phi)*sin(rho/2)**2 + sin(phi) - sin(rho)*sin(theta)*cos(phi))*sin(rho)*cos(theta) + sigma_3*(sin(phi)*sin(rho) + sin(theta)*cos(phi)*cos(rho))*cos(rho)*cos(theta))*sin(delta)*sin(xi) - (sigma_1*cos(phi)**2*cos(theta)**2 + sigma_2*(-2*sin(phi)*cos(rho/2)**2 + sin(phi) + sin(rho)*sin(theta)*cos(phi))**2 + sigma_3*(sin(phi)*sin(rho) + sin(theta)*cos(phi)*cos(rho))**2)*sin(xi)*cos(delta) + (-sigma_1*sin(phi)*cos(phi)*cos(theta)**2 + sigma_2*(-2*sin(phi)*sin(rho/2)**2 + sin(phi) - sin(rho)*sin(theta)*cos(phi))*(sin(phi)*sin(rho)*sin(theta) - 2*sin(rho/2)**2*cos(phi) + cos(phi)) + sigma_3*(sin(phi)*sin(rho) + sin(theta)*cos(phi)*cos(rho))*(-sin(phi)*sin(theta)*cos(rho) + sin(rho)*cos(phi)))*cos(xi))*cos(delta)*cos(xi) - (-(-sigma_1*(-sin(phi - 2*theta) + sin(phi + 2*theta))/4 - sigma_2*(-2*sin(phi)*sin(rho/2)**2 + sin(phi) - sin(rho)*sin(theta)*cos(phi))*sin(rho)*cos(theta) + sigma_3*(sin(phi)*sin(rho) + sin(theta)*cos(phi)*cos(rho))*cos(rho)*cos(theta))*sin(xi)*cos(delta) + (sigma_1*(cos(phi - 2*theta) - cos(phi + 2*theta))/4 - sigma_2*(sin(phi)*sin(rho)*sin(theta) - 2*sin(rho/2)**2*cos(phi) + cos(phi))*sin(rho)*cos(theta) + sigma_3*(-sin(phi)*sin(theta)*cos(rho) + sin(rho)*cos(phi))*cos(rho)*cos(theta))*cos(xi) + (sigma_1*sin(theta)**2 + sigma_2*sin(rho)**2*cos(theta)**2 + sigma_3*cos(rho)**2*cos(theta)**2)*sin(delta)*sin(xi))*sin(delta)*cos(xi) + ((sigma_1*(cos(phi - 2*theta) - cos(phi + 2*theta))/4 - sigma_2*(sin(phi)*sin(rho)*sin(theta) - 2*sin(rho/2)**2*cos(phi) + cos(phi))*sin(rho)*cos(theta) + sigma_3*(-sin(phi)*sin(theta)*cos(rho) + sin(rho)*cos(phi))*cos(rho)*cos(theta))*sin(delta)*sin(xi) + (sigma_1*sin(phi)**2*cos(theta)**2 + sigma_2*(sin(phi)*sin(rho)*sin(theta) - 2*sin(rho/2)**2*cos(phi) + cos(phi))**2 + sigma_3*(-sin(phi)*sin(theta)*cos(rho) + sin(rho)*cos(phi))**2)*cos(xi) - (-sigma_1*sin(phi)*cos(phi)*cos(theta)**2 + sigma_2*(-2*sin(phi)*sin(rho/2)**2 + sin(phi) - sin(rho)*sin(theta)*cos(phi))*(sin(phi)*sin(rho)*sin(theta) - 2*sin(rho/2)**2*cos(phi) + cos(phi)) + sigma_3*(sin(phi)*sin(rho) + sin(theta)*cos(phi)*cos(rho))*(-sin(phi)*sin(theta)*cos(rho) + sin(rho)*cos(phi)))*sin(xi)*cos(delta))*sin(xi),  -((-sigma_1*(-sin(phi - 2*theta) + sin(phi + 2*theta))/4 - sigma_2*(-2*sin(phi)*sin(rho/2)**2 + sin(phi) - sin(rho)*sin(theta)*cos(phi))*sin(rho)*cos(theta) + sigma_3*(sin(phi)*sin(rho) + sin(theta)*cos(phi)*cos(rho))*cos(rho)*cos(theta))*sin(delta)*sin(xi) - (sigma_1*cos(phi)**2*cos(theta)**2 + sigma_2*(-2*sin(phi)*cos(rho/2)**2 + sin(phi) + sin(rho)*sin(theta)*cos(phi))**2 + sigma_3*(sin(phi)*sin(rho) + sin(theta)*cos(phi)*cos(rho))**2)*sin(xi)*cos(delta) + (-sigma_1*sin(phi)*cos(phi)*cos(theta)**2 + sigma_2*(-2*sin(phi)*sin(rho/2)**2 + sin(phi) - sin(rho)*sin(theta)*cos(phi))*(sin(phi)*sin(rho)*sin(theta) - 2*sin(rho/2)**2*cos(phi) + cos(phi)) + sigma_3*(sin(phi)*sin(rho) + sin(theta)*cos(phi)*cos(rho))*(-sin(phi)*sin(theta)*cos(rho) + sin(rho)*cos(phi)))*cos(xi))*sin(xi)*cos(delta) + (-(-sigma_1*(-sin(phi - 2*theta) + sin(phi + 2*theta))/4 - sigma_2*(-2*sin(phi)*sin(rho/2)**2 + sin(phi) - sin(rho)*sin(theta)*cos(phi))*sin(rho)*cos(theta) + sigma_3*(sin(phi)*sin(rho) + sin(theta)*cos(phi)*cos(rho))*cos(rho)*cos(theta))*sin(xi)*cos(delta) + (sigma_1*(cos(phi - 2*theta) - cos(phi + 2*theta))/4 - sigma_2*(sin(phi)*sin(rho)*sin(theta) - 2*sin(rho/2)**2*cos(phi) + cos(phi))*sin(rho)*cos(theta) + sigma_3*(-sin(phi)*sin(theta)*cos(rho) + sin(rho)*cos(phi))*cos(rho)*cos(theta))*cos(xi) + (sigma_1*sin(theta)**2 + sigma_2*sin(rho)**2*cos(theta)**2 + sigma_3*cos(rho)**2*cos(theta)**2)*sin(delta)*sin(xi))*sin(delta)*sin(xi) + ((sigma_1*(cos(phi - 2*theta) - cos(phi + 2*theta))/4 - sigma_2*(sin(phi)*sin(rho)*sin(theta) - 2*sin(rho/2)**2*cos(phi) + cos(phi))*sin(rho)*cos(theta) + sigma_3*(-sin(phi)*sin(theta)*cos(rho) + sin(rho)*cos(phi))*cos(rho)*cos(theta))*sin(delta)*sin(xi) + (sigma_1*sin(phi)**2*cos(theta)**2 + sigma_2*(sin(phi)*sin(rho)*sin(theta) - 2*sin(rho/2)**2*cos(phi) + cos(phi))**2 + sigma_3*(-sin(phi)*sin(theta)*cos(rho) + sin(rho)*cos(phi))**2)*cos(xi) - (-sigma_1*sin(phi)*cos(phi)*cos(theta)**2 + sigma_2*(-2*sin(phi)*sin(rho/2)**2 + sin(phi) - sin(rho)*sin(theta)*cos(phi))*(sin(phi)*sin(rho)*sin(theta) - 2*sin(rho/2)**2*cos(phi) + cos(phi)) + sigma_3*(sin(phi)*sin(rho) + sin(theta)*cos(phi)*cos(rho))*(-sin(phi)*sin(theta)*cos(rho) + sin(rho)*cos(phi)))*sin(xi)*cos(delta))*cos(xi), ((-sigma_1*(-sin(phi - 2*theta) + sin(phi + 2*theta))/4 - sigma_2*(-2*sin(phi)*sin(rho/2)**2 + sin(phi) - sin(rho)*sin(theta)*cos(phi))*sin(rho)*cos(theta) + sigma_3*(sin(phi)*sin(rho) + sin(theta)*cos(phi)*cos(rho))*cos(rho)*cos(theta))*sin(delta)*sin(xi) - (sigma_1*cos(phi)**2*cos(theta)**2 + sigma_2*(-2*sin(phi)*cos(rho/2)**2 + sin(phi) + sin(rho)*sin(theta)*cos(phi))**2 + sigma_3*(sin(phi)*sin(rho) + sin(theta)*cos(phi)*cos(rho))**2)*sin(xi)*cos(delta) + (-sigma_1*sin(phi)*cos(phi)*cos(theta)**2 + sigma_2*(-2*sin(phi)*sin(rho/2)**2 + sin(phi) - sin(rho)*sin(theta)*cos(phi))*(sin(phi)*sin(rho)*sin(theta) - 2*sin(rho/2)**2*cos(phi) + cos(phi)) + sigma_3*(sin(phi)*sin(rho) + sin(theta)*cos(phi)*cos(rho))*(-sin(phi)*sin(theta)*cos(rho) + sin(rho)*cos(phi)))*cos(xi))*sin(delta) + (-(-sigma_1*(-sin(phi - 2*theta) + sin(phi + 2*theta))/4 - sigma_2*(-2*sin(phi)*sin(rho/2)**2 + sin(phi) - sin(rho)*sin(theta)*cos(phi))*sin(rho)*cos(theta) + sigma_3*(sin(phi)*sin(rho) + sin(theta)*cos(phi)*cos(rho))*cos(rho)*cos(theta))*sin(xi)*cos(delta) + (sigma_1*(cos(phi - 2*theta) - cos(phi + 2*theta))/4 - sigma_2*(sin(phi)*sin(rho)*sin(theta) - 2*sin(rho/2)**2*cos(phi) + cos(phi))*sin(rho)*cos(theta) + sigma_3*(-sin(phi)*sin(theta)*cos(rho) + sin(rho)*cos(phi))*cos(rho)*cos(theta))*cos(xi) + (sigma_1*sin(theta)**2 + sigma_2*sin(rho)**2*cos(theta)**2 + sigma_3*cos(rho)**2*cos(theta)**2)*sin(delta)*sin(xi))*cos(delta)],\n",
    "[                                                                                                                                                                                                                                                                                                                                                                                                                                                                                                                                                                                                                                                                                                                                                                                                                                  -((-sigma_1*(-sin(phi - 2*theta) + sin(phi + 2*theta))/4 - sigma_2*(-2*sin(phi)*sin(rho/2)**2 + sin(phi) - sin(rho)*sin(theta)*cos(phi))*sin(rho)*cos(theta) + sigma_3*(sin(phi)*sin(rho) + sin(theta)*cos(phi)*cos(rho))*cos(rho)*cos(theta))*sin(delta) + (sigma_1*sin(theta)**2 + sigma_2*sin(rho)**2*cos(theta)**2 + sigma_3*cos(rho)**2*cos(theta)**2)*cos(delta))*sin(delta)*cos(xi) + ((-sigma_1*(-sin(phi - 2*theta) + sin(phi + 2*theta))/4 - sigma_2*(-2*sin(phi)*sin(rho/2)**2 + sin(phi) - sin(rho)*sin(theta)*cos(phi))*sin(rho)*cos(theta) + sigma_3*(sin(phi)*sin(rho) + sin(theta)*cos(phi)*cos(rho))*cos(rho)*cos(theta))*cos(delta) + (sigma_1*cos(phi)**2*cos(theta)**2 + sigma_2*(-2*sin(phi)*cos(rho/2)**2 + sin(phi) + sin(rho)*sin(theta)*cos(phi))**2 + sigma_3*(sin(phi)*sin(rho) + sin(theta)*cos(phi)*cos(rho))**2)*sin(delta))*cos(delta)*cos(xi) + ((sigma_1*(cos(phi - 2*theta) - cos(phi + 2*theta))/4 - sigma_2*(sin(phi)*sin(rho)*sin(theta) - 2*sin(rho/2)**2*cos(phi) + cos(phi))*sin(rho)*cos(theta) + sigma_3*(-sin(phi)*sin(theta)*cos(rho) + sin(rho)*cos(phi))*cos(rho)*cos(theta))*cos(delta) + (-sigma_1*sin(phi)*cos(phi)*cos(theta)**2 + sigma_2*(-2*sin(phi)*sin(rho/2)**2 + sin(phi) - sin(rho)*sin(theta)*cos(phi))*(sin(phi)*sin(rho)*sin(theta) - 2*sin(rho/2)**2*cos(phi) + cos(phi)) + sigma_3*(sin(phi)*sin(rho) + sin(theta)*cos(phi)*cos(rho))*(-sin(phi)*sin(theta)*cos(rho) + sin(rho)*cos(phi)))*sin(delta))*sin(xi),                                                                                                                                                                                                                                                                                                                                                                                                                                                                                                                                                                                                                                                                                                                                                                                                                                     ((-sigma_1*(-sin(phi - 2*theta) + sin(phi + 2*theta))/4 - sigma_2*(-2*sin(phi)*sin(rho/2)**2 + sin(phi) - sin(rho)*sin(theta)*cos(phi))*sin(rho)*cos(theta) + sigma_3*(sin(phi)*sin(rho) + sin(theta)*cos(phi)*cos(rho))*cos(rho)*cos(theta))*sin(delta) + (sigma_1*sin(theta)**2 + sigma_2*sin(rho)**2*cos(theta)**2 + sigma_3*cos(rho)**2*cos(theta)**2)*cos(delta))*sin(delta)*sin(xi) - ((-sigma_1*(-sin(phi - 2*theta) + sin(phi + 2*theta))/4 - sigma_2*(-2*sin(phi)*sin(rho/2)**2 + sin(phi) - sin(rho)*sin(theta)*cos(phi))*sin(rho)*cos(theta) + sigma_3*(sin(phi)*sin(rho) + sin(theta)*cos(phi)*cos(rho))*cos(rho)*cos(theta))*cos(delta) + (sigma_1*cos(phi)**2*cos(theta)**2 + sigma_2*(-2*sin(phi)*cos(rho/2)**2 + sin(phi) + sin(rho)*sin(theta)*cos(phi))**2 + sigma_3*(sin(phi)*sin(rho) + sin(theta)*cos(phi)*cos(rho))**2)*sin(delta))*sin(xi)*cos(delta) + ((sigma_1*(cos(phi - 2*theta) - cos(phi + 2*theta))/4 - sigma_2*(sin(phi)*sin(rho)*sin(theta) - 2*sin(rho/2)**2*cos(phi) + cos(phi))*sin(rho)*cos(theta) + sigma_3*(-sin(phi)*sin(theta)*cos(rho) + sin(rho)*cos(phi))*cos(rho)*cos(theta))*cos(delta) + (-sigma_1*sin(phi)*cos(phi)*cos(theta)**2 + sigma_2*(-2*sin(phi)*sin(rho/2)**2 + sin(phi) - sin(rho)*sin(theta)*cos(phi))*(sin(phi)*sin(rho)*sin(theta) - 2*sin(rho/2)**2*cos(phi) + cos(phi)) + sigma_3*(sin(phi)*sin(rho) + sin(theta)*cos(phi)*cos(rho))*(-sin(phi)*sin(theta)*cos(rho) + sin(rho)*cos(phi)))*sin(delta))*cos(xi),                                                                                                                                                                                                                                                                                                                                                                                                                                                                                                                                                                                                                  ((-sigma_1*(-sin(phi - 2*theta) + sin(phi + 2*theta))/4 - sigma_2*(-2*sin(phi)*sin(rho/2)**2 + sin(phi) - sin(rho)*sin(theta)*cos(phi))*sin(rho)*cos(theta) + sigma_3*(sin(phi)*sin(rho) + sin(theta)*cos(phi)*cos(rho))*cos(rho)*cos(theta))*sin(delta) + (sigma_1*sin(theta)**2 + sigma_2*sin(rho)**2*cos(theta)**2 + sigma_3*cos(rho)**2*cos(theta)**2)*cos(delta))*cos(delta) + ((-sigma_1*(-sin(phi - 2*theta) + sin(phi + 2*theta))/4 - sigma_2*(-2*sin(phi)*sin(rho/2)**2 + sin(phi) - sin(rho)*sin(theta)*cos(phi))*sin(rho)*cos(theta) + sigma_3*(sin(phi)*sin(rho) + sin(theta)*cos(phi)*cos(rho))*cos(rho)*cos(theta))*cos(delta) + (sigma_1*cos(phi)**2*cos(theta)**2 + sigma_2*(-2*sin(phi)*cos(rho/2)**2 + sin(phi) + sin(rho)*sin(theta)*cos(phi))**2 + sigma_3*(sin(phi)*sin(rho) + sin(theta)*cos(phi)*cos(rho))**2)*sin(delta))*sin(delta)]])\n",
    "    \n",
    "    return sf"
   ]
  },
  {
   "cell_type": "code",
   "execution_count": 46,
   "metadata": {},
   "outputs": [
    {
     "name": "stdout",
     "output_type": "stream",
     "text": [
      "[[ -1.00000000e+00  -3.70326580e-17   2.13390876e-17]\n",
      " [ -3.70326580e-17  -3.75000000e-01   1.25000000e-01]\n",
      " [  2.13390876e-17   1.25000000e-01  -3.75000000e-01]]\n"
     ]
    }
   ],
   "source": [
    "stressfault = stress_fault(sigma_1, sigma_2, sigma_3, phi, theta, rho, xi, delta)\n",
    "print(stressfault)"
   ]
  },
  {
   "cell_type": "code",
   "execution_count": 47,
   "metadata": {
    "collapsed": true
   },
   "outputs": [],
   "source": [
    "def taudip(sigma_1, sigma_2, sigma_3, phi, theta, rho, xi, delta):\n",
    "    \n",
    "    tdip = -((-sigma_1*(-sin(phi - 2*theta) + sin(phi + 2*theta))/4 - sigma_2*(-2*sin(phi)*sin(rho/2)**2 + sin(phi) - sin(rho)*sin(theta)*cos(phi))*sin(rho)*cos(theta) + sigma_3*(sin(phi)*sin(rho) + sin(theta)*cos(phi)*cos(rho))*cos(rho)*cos(theta))*sin(delta)*sin(xi) - (sigma_1*cos(phi)**2*cos(theta)**2 + sigma_2*(-2*sin(phi)*cos(rho/2)**2 + sin(phi) + sin(rho)*sin(theta)*cos(phi))**2 + sigma_3*(sin(phi)*sin(rho) + sin(theta)*cos(phi)*cos(rho))**2)*sin(xi)*cos(delta) + (-sigma_1*sin(phi)*cos(phi)*cos(theta)**2 + sigma_2*(-2*sin(phi)*sin(rho/2)**2 + sin(phi) - sin(rho)*sin(theta)*cos(phi))*(sin(phi)*sin(rho)*sin(theta) - 2*sin(rho/2)**2*cos(phi) + cos(phi)) + sigma_3*(sin(phi)*sin(rho) + sin(theta)*cos(phi)*cos(rho))*(-sin(phi)*sin(theta)*cos(rho) + sin(rho)*cos(phi)))*cos(xi))*sin(delta) - (-(-sigma_1*(-sin(phi - 2*theta) + sin(phi + 2*theta))/4 - sigma_2*(-2*sin(phi)*sin(rho/2)**2 + sin(phi) - sin(rho)*sin(theta)*cos(phi))*sin(rho)*cos(theta) + sigma_3*(sin(phi)*sin(rho) + sin(theta)*cos(phi)*cos(rho))*cos(rho)*cos(theta))*sin(xi)*cos(delta) + (sigma_1*(cos(phi - 2*theta) - cos(phi + 2*theta))/4 - sigma_2*(sin(phi)*sin(rho)*sin(theta) - 2*sin(rho/2)**2*cos(phi) + cos(phi))*sin(rho)*cos(theta) + sigma_3*(-sin(phi)*sin(theta)*cos(rho) + sin(rho)*cos(phi))*cos(rho)*cos(theta))*cos(xi) + (sigma_1*sin(theta)**2 + sigma_2*sin(rho)**2*cos(theta)**2 + sigma_3*cos(rho)**2*cos(theta)**2)*sin(delta)*sin(xi))*cos(delta)\n",
    "    \n",
    "    return tdip"
   ]
  },
  {
   "cell_type": "code",
   "execution_count": 48,
   "metadata": {
    "collapsed": true
   },
   "outputs": [],
   "source": [
    "def taustrike(sigma_1, sigma_2, sigma_3, phi, theta, rho, xi, delta):\n",
    "\n",
    "    \n",
    "    ts = (-(-sigma_1*(-sin(phi - 2*theta) + sin(phi + 2*theta))/4 - sigma_2*(-2*sin(phi)*sin(rho/2)**2 + sin(phi) - sin(rho)*sin(theta)*cos(phi))*sin(rho)*cos(theta) + sigma_3*(sin(phi)*sin(rho) + sin(theta)*cos(phi)*cos(rho))*cos(rho)*cos(theta))*sin(delta)*cos(xi) + (sigma_1*cos(phi)**2*cos(theta)**2 + sigma_2*(-2*sin(phi)*cos(rho/2)**2 + sin(phi) + sin(rho)*sin(theta)*cos(phi))**2 + sigma_3*(sin(phi)*sin(rho) + sin(theta)*cos(phi)*cos(rho))**2)*cos(delta)*cos(xi) + (-sigma_1*sin(phi)*cos(phi)*cos(theta)**2 + sigma_2*(-2*sin(phi)*sin(rho/2)**2 + sin(phi) - sin(rho)*sin(theta)*cos(phi))*(sin(phi)*sin(rho)*sin(theta) - 2*sin(rho/2)**2*cos(phi) + cos(phi)) + sigma_3*(sin(phi)*sin(rho) + sin(theta)*cos(phi)*cos(rho))*(-sin(phi)*sin(theta)*cos(rho) + sin(rho)*cos(phi)))*sin(xi))*sin(delta) + ((-sigma_1*(-sin(phi - 2*theta) + sin(phi + 2*theta))/4 - sigma_2*(-2*sin(phi)*sin(rho/2)**2 + sin(phi) - sin(rho)*sin(theta)*cos(phi))*sin(rho)*cos(theta) + sigma_3*(sin(phi)*sin(rho) + sin(theta)*cos(phi)*cos(rho))*cos(rho)*cos(theta))*cos(delta)*cos(xi) + (sigma_1*(cos(phi - 2*theta) - cos(phi + 2*theta))/4 - sigma_2*(sin(phi)*sin(rho)*sin(theta) - 2*sin(rho/2)**2*cos(phi) + cos(phi))*sin(rho)*cos(theta) + sigma_3*(-sin(phi)*sin(theta)*cos(rho) + sin(rho)*cos(phi))*cos(rho)*cos(theta))*sin(xi) - (sigma_1*sin(theta)**2 + sigma_2*sin(rho)**2*cos(theta)**2 + sigma_3*cos(rho)**2*cos(theta)**2)*sin(delta)*cos(xi))*cos(delta)\n",
    "    \n",
    "    return ts"
   ]
  },
  {
   "cell_type": "code",
   "execution_count": 50,
   "metadata": {
    "collapsed": true
   },
   "outputs": [],
   "source": [
    "tdip, tstrike = taudip(sigma_1, sigma_2, sigma_3, phi, theta, rho, xi, delta), taustrike(sigma_1, sigma_2, sigma_3, phi, theta, rho, xi, delta)"
   ]
  },
  {
   "cell_type": "code",
   "execution_count": 52,
   "metadata": {},
   "outputs": [
    {
     "name": "stdout",
     "output_type": "stream",
     "text": [
      "-0.125\n",
      "2.1339087560669545e-17\n"
     ]
    }
   ],
   "source": [
    "print(tdip)\n",
    "print(tstrike)"
   ]
  },
  {
   "cell_type": "code",
   "execution_count": 70,
   "metadata": {},
   "outputs": [
    {
     "name": "stdout",
     "output_type": "stream",
     "text": [
      "-1.70712700485e-16\n"
     ]
    }
   ],
   "source": [
    "rake = np.arctan(tstrike/tdip)\n",
    "print(rake)"
   ]
  },
  {
   "cell_type": "code",
   "execution_count": 66,
   "metadata": {
    "collapsed": true
   },
   "outputs": [],
   "source": [
    "def pred_rake(sigma_1, sigma_2, sigma_3, phi, theta, rho, xi, delta):\n",
    "    \n",
    "    rake = -np.arctan(-(-((-sigma_1*(-sin(phi - 2*theta) + sin(phi + 2*theta))/4 - sigma_2*(-2*sin(phi)*sin(rho/2)**2 + sin(phi) - sin(rho)*sin(theta)*cos(phi))*sin(rho)*cos(theta) + sigma_3*(sin(phi)*sin(rho) + sin(theta)*cos(phi)*cos(rho))*cos(rho)*cos(theta))*sin(delta)*sin(xi) - (sigma_1*cos(phi)**2*cos(theta)**2 + sigma_2*(-2*sin(phi)*cos(rho/2)**2 + sin(phi) + sin(rho)*sin(theta)*cos(phi))**2 + sigma_3*(sin(phi)*sin(rho) + sin(theta)*cos(phi)*cos(rho))**2)*sin(xi)*cos(delta) + (-sigma_1*sin(phi)*cos(phi)*cos(theta)**2 + sigma_2*(-2*sin(phi)*sin(rho/2)**2 + sin(phi) - sin(rho)*sin(theta)*cos(phi))*(sin(phi)*sin(rho)*sin(theta) - 2*sin(rho/2)**2*cos(phi) + cos(phi)) + sigma_3*(sin(phi)*sin(rho) + sin(theta)*cos(phi)*cos(rho))*(-sin(phi)*sin(theta)*cos(rho) + sin(rho)*cos(phi)))*cos(xi))*sin(delta) - (-(-sigma_1*(-sin(phi - 2*theta) + sin(phi + 2*theta))/4 - sigma_2*(-2*sin(phi)*sin(rho/2)**2 + sin(phi) - sin(rho)*sin(theta)*cos(phi))*sin(rho)*cos(theta) + sigma_3*(sin(phi)*sin(rho) + sin(theta)*cos(phi)*cos(rho))*cos(rho)*cos(theta))*sin(xi)*cos(delta) + (sigma_1*(cos(phi - 2*theta) - cos(phi + 2*theta))/4 - sigma_2*(sin(phi)*sin(rho)*sin(theta) - 2*sin(rho/2)**2*cos(phi) + cos(phi))*sin(rho)*cos(theta) + sigma_3*(-sin(phi)*sin(theta)*cos(rho) + sin(rho)*cos(phi))*cos(rho)*cos(theta))*cos(xi) + (sigma_1*sin(theta)**2 + sigma_2*sin(rho)**2*cos(theta)**2 + sigma_3*cos(rho)**2*cos(theta)**2)*sin(delta)*sin(xi))*cos(delta))/((-(-sigma_1*(-sin(phi - 2*theta) + sin(phi + 2*theta))/4 - sigma_2*(-2*sin(phi)*sin(rho/2)**2 + sin(phi) - sin(rho)*sin(theta)*cos(phi))*sin(rho)*cos(theta) + sigma_3*(sin(phi)*sin(rho) + sin(theta)*cos(phi)*cos(rho))*cos(rho)*cos(theta))*sin(delta)*cos(xi) + (sigma_1*cos(phi)**2*cos(theta)**2 + sigma_2*(-2*sin(phi)*cos(rho/2)**2 + sin(phi) + sin(rho)*sin(theta)*cos(phi))**2 + sigma_3*(sin(phi)*sin(rho) + sin(theta)*cos(phi)*cos(rho))**2)*cos(delta)*cos(xi) + (-sigma_1*sin(phi)*cos(phi)*cos(theta)**2 + sigma_2*(-2*sin(phi)*sin(rho/2)**2 + sin(phi) - sin(rho)*sin(theta)*cos(phi))*(sin(phi)*sin(rho)*sin(theta) - 2*sin(rho/2)**2*cos(phi) + cos(phi)) + sigma_3*(sin(phi)*sin(rho) + sin(theta)*cos(phi)*cos(rho))*(-sin(phi)*sin(theta)*cos(rho) + sin(rho)*cos(phi)))*sin(xi))*sin(delta) + ((-sigma_1*(-sin(phi - 2*theta) + sin(phi + 2*theta))/4 - sigma_2*(-2*sin(phi)*sin(rho/2)**2 + sin(phi) - sin(rho)*sin(theta)*cos(phi))*sin(rho)*cos(theta) + sigma_3*(sin(phi)*sin(rho) + sin(theta)*cos(phi)*cos(rho))*cos(rho)*cos(theta))*cos(delta)*cos(xi) + (sigma_1*(cos(phi - 2*theta) - cos(phi + 2*theta))/4 - sigma_2*(sin(phi)*sin(rho)*sin(theta) - 2*sin(rho/2)**2*cos(phi) + cos(phi))*sin(rho)*cos(theta) + sigma_3*(-sin(phi)*sin(theta)*cos(rho) + sin(rho)*cos(phi))*cos(rho)*cos(theta))*sin(xi) - (sigma_1*sin(theta)**2 + sigma_2*sin(rho)**2*cos(theta)**2 + sigma_3*cos(rho)**2*cos(theta)**2)*sin(delta)*cos(xi))*cos(delta)))\n",
    "    \n",
    "    return rake\n",
    "    "
   ]
  },
  {
   "cell_type": "code",
   "execution_count": 71,
   "metadata": {
    "collapsed": true
   },
   "outputs": [],
   "source": [
    "def drakedphi(sigma_1, sigma_2, sigma_3, phi, theta, rho, xi, delta):\n",
    "    \n",
    "    dldd = (-((-sigma_1*(-sin(phi - 2*theta) + sin(phi + 2*theta))/4 - sigma_2*(-2*sin(phi)*sin(rho/2)**2 + sin(phi) - sin(rho)*sin(theta)*cos(phi))*sin(rho)*cos(theta) + sigma_3*(sin(phi)*sin(rho) + sin(theta)*cos(phi)*cos(rho))*cos(rho)*cos(theta))*sin(delta)*sin(xi) - (sigma_1*cos(phi)**2*cos(theta)**2 + sigma_2*(-2*sin(phi)*cos(rho/2)**2 + sin(phi) + sin(rho)*sin(theta)*cos(phi))**2 + sigma_3*(sin(phi)*sin(rho) + sin(theta)*cos(phi)*cos(rho))**2)*sin(xi)*cos(delta) + (-sigma_1*sin(phi)*cos(phi)*cos(theta)**2 + sigma_2*(-2*sin(phi)*sin(rho/2)**2 + sin(phi) - sin(rho)*sin(theta)*cos(phi))*(sin(phi)*sin(rho)*sin(theta) - 2*sin(rho/2)**2*cos(phi) + cos(phi)) + sigma_3*(sin(phi)*sin(rho) + sin(theta)*cos(phi)*cos(rho))*(-sin(phi)*sin(theta)*cos(rho) + sin(rho)*cos(phi)))*cos(xi))*sin(delta) - (-(-sigma_1*(-sin(phi - 2*theta) + sin(phi + 2*theta))/4 - sigma_2*(-2*sin(phi)*sin(rho/2)**2 + sin(phi) - sin(rho)*sin(theta)*cos(phi))*sin(rho)*cos(theta) + sigma_3*(sin(phi)*sin(rho) + sin(theta)*cos(phi)*cos(rho))*cos(rho)*cos(theta))*sin(xi)*cos(delta) + (sigma_1*(cos(phi - 2*theta) - cos(phi + 2*theta))/4 - sigma_2*(sin(phi)*sin(rho)*sin(theta) - 2*sin(rho/2)**2*cos(phi) + cos(phi))*sin(rho)*cos(theta) + sigma_3*(-sin(phi)*sin(theta)*cos(rho) + sin(rho)*cos(phi))*cos(rho)*cos(theta))*cos(xi) + (sigma_1*sin(theta)**2 + sigma_2*sin(rho)**2*cos(theta)**2 + sigma_3*cos(rho)**2*cos(theta)**2)*sin(delta)*sin(xi))*cos(delta))*((-(-sigma_1*(-sin(phi - 2*theta) + sin(phi + 2*theta))/4 - sigma_2*(-2*sin(phi)*sin(rho/2)**2 + sin(phi) - sin(rho)*sin(theta)*cos(phi))*sin(rho)*cos(theta) + sigma_3*(sin(phi)*sin(rho) + sin(theta)*cos(phi)*cos(rho))*cos(rho)*cos(theta))*sin(delta)*cos(xi) - (sigma_1*sin(theta)**2 + sigma_2*sin(rho)**2*cos(theta)**2 + sigma_3*cos(rho)**2*cos(theta)**2)*cos(delta)*cos(xi))*cos(delta) + (-(-sigma_1*(-sin(phi - 2*theta) + sin(phi + 2*theta))/4 - sigma_2*(-2*sin(phi)*sin(rho/2)**2 + sin(phi) - sin(rho)*sin(theta)*cos(phi))*sin(rho)*cos(theta) + sigma_3*(sin(phi)*sin(rho) + sin(theta)*cos(phi)*cos(rho))*cos(rho)*cos(theta))*cos(delta)*cos(xi) - (sigma_1*cos(phi)**2*cos(theta)**2 + sigma_2*(-2*sin(phi)*cos(rho/2)**2 + sin(phi) + sin(rho)*sin(theta)*cos(phi))**2 + sigma_3*(sin(phi)*sin(rho) + sin(theta)*cos(phi)*cos(rho))**2)*sin(delta)*cos(xi))*sin(delta) + (-(-sigma_1*(-sin(phi - 2*theta) + sin(phi + 2*theta))/4 - sigma_2*(-2*sin(phi)*sin(rho/2)**2 + sin(phi) - sin(rho)*sin(theta)*cos(phi))*sin(rho)*cos(theta) + sigma_3*(sin(phi)*sin(rho) + sin(theta)*cos(phi)*cos(rho))*cos(rho)*cos(theta))*sin(delta)*cos(xi) + (sigma_1*cos(phi)**2*cos(theta)**2 + sigma_2*(-2*sin(phi)*cos(rho/2)**2 + sin(phi) + sin(rho)*sin(theta)*cos(phi))**2 + sigma_3*(sin(phi)*sin(rho) + sin(theta)*cos(phi)*cos(rho))**2)*cos(delta)*cos(xi) + (-sigma_1*sin(phi)*cos(phi)*cos(theta)**2 + sigma_2*(-2*sin(phi)*sin(rho/2)**2 + sin(phi) - sin(rho)*sin(theta)*cos(phi))*(sin(phi)*sin(rho)*sin(theta) - 2*sin(rho/2)**2*cos(phi) + cos(phi)) + sigma_3*(sin(phi)*sin(rho) + sin(theta)*cos(phi)*cos(rho))*(-sin(phi)*sin(theta)*cos(rho) + sin(rho)*cos(phi)))*sin(xi))*cos(delta) - ((-sigma_1*(-sin(phi - 2*theta) + sin(phi + 2*theta))/4 - sigma_2*(-2*sin(phi)*sin(rho/2)**2 + sin(phi) - sin(rho)*sin(theta)*cos(phi))*sin(rho)*cos(theta) + sigma_3*(sin(phi)*sin(rho) + sin(theta)*cos(phi)*cos(rho))*cos(rho)*cos(theta))*cos(delta)*cos(xi) + (sigma_1*(cos(phi - 2*theta) - cos(phi + 2*theta))/4 - sigma_2*(sin(phi)*sin(rho)*sin(theta) - 2*sin(rho/2)**2*cos(phi) + cos(phi))*sin(rho)*cos(theta) + sigma_3*(-sin(phi)*sin(theta)*cos(rho) + sin(rho)*cos(phi))*cos(rho)*cos(theta))*sin(xi) - (sigma_1*sin(theta)**2 + sigma_2*sin(rho)**2*cos(theta)**2 + sigma_3*cos(rho)**2*cos(theta)**2)*sin(delta)*cos(xi))*sin(delta))/((-((-sigma_1*(-sin(phi - 2*theta) + sin(phi + 2*theta))/4 - sigma_2*(-2*sin(phi)*sin(rho/2)**2 + sin(phi) - sin(rho)*sin(theta)*cos(phi))*sin(rho)*cos(theta) + sigma_3*(sin(phi)*sin(rho) + sin(theta)*cos(phi)*cos(rho))*cos(rho)*cos(theta))*sin(delta)*sin(xi) - (sigma_1*cos(phi)**2*cos(theta)**2 + sigma_2*(-2*sin(phi)*cos(rho/2)**2 + sin(phi) + sin(rho)*sin(theta)*cos(phi))**2 + sigma_3*(sin(phi)*sin(rho) + sin(theta)*cos(phi)*cos(rho))**2)*sin(xi)*cos(delta) + (-sigma_1*sin(phi)*cos(phi)*cos(theta)**2 + sigma_2*(-2*sin(phi)*sin(rho/2)**2 + sin(phi) - sin(rho)*sin(theta)*cos(phi))*(sin(phi)*sin(rho)*sin(theta) - 2*sin(rho/2)**2*cos(phi) + cos(phi)) + sigma_3*(sin(phi)*sin(rho) + sin(theta)*cos(phi)*cos(rho))*(-sin(phi)*sin(theta)*cos(rho) + sin(rho)*cos(phi)))*cos(xi))*sin(delta) - (-(-sigma_1*(-sin(phi - 2*theta) + sin(phi + 2*theta))/4 - sigma_2*(-2*sin(phi)*sin(rho/2)**2 + sin(phi) - sin(rho)*sin(theta)*cos(phi))*sin(rho)*cos(theta) + sigma_3*(sin(phi)*sin(rho) + sin(theta)*cos(phi)*cos(rho))*cos(rho)*cos(theta))*sin(xi)*cos(delta) + (sigma_1*(cos(phi - 2*theta) - cos(phi + 2*theta))/4 - sigma_2*(sin(phi)*sin(rho)*sin(theta) - 2*sin(rho/2)**2*cos(phi) + cos(phi))*sin(rho)*cos(theta) + sigma_3*(-sin(phi)*sin(theta)*cos(rho) + sin(rho)*cos(phi))*cos(rho)*cos(theta))*cos(xi) + (sigma_1*sin(theta)**2 + sigma_2*sin(rho)**2*cos(theta)**2 + sigma_3*cos(rho)**2*cos(theta)**2)*sin(delta)*sin(xi))*cos(delta))**2 + ((-(-sigma_1*(-sin(phi - 2*theta) + sin(phi + 2*theta))/4 - sigma_2*(-2*sin(phi)*sin(rho/2)**2 + sin(phi) - sin(rho)*sin(theta)*cos(phi))*sin(rho)*cos(theta) + sigma_3*(sin(phi)*sin(rho) + sin(theta)*cos(phi)*cos(rho))*cos(rho)*cos(theta))*sin(delta)*cos(xi) + (sigma_1*cos(phi)**2*cos(theta)**2 + sigma_2*(-2*sin(phi)*cos(rho/2)**2 + sin(phi) + sin(rho)*sin(theta)*cos(phi))**2 + sigma_3*(sin(phi)*sin(rho) + sin(theta)*cos(phi)*cos(rho))**2)*cos(delta)*cos(xi) + (-sigma_1*sin(phi)*cos(phi)*cos(theta)**2 + sigma_2*(-2*sin(phi)*sin(rho/2)**2 + sin(phi) - sin(rho)*sin(theta)*cos(phi))*(sin(phi)*sin(rho)*sin(theta) - 2*sin(rho/2)**2*cos(phi) + cos(phi)) + sigma_3*(sin(phi)*sin(rho) + sin(theta)*cos(phi)*cos(rho))*(-sin(phi)*sin(theta)*cos(rho) + sin(rho)*cos(phi)))*sin(xi))*sin(delta) + ((-sigma_1*(-sin(phi - 2*theta) + sin(phi + 2*theta))/4 - sigma_2*(-2*sin(phi)*sin(rho/2)**2 + sin(phi) - sin(rho)*sin(theta)*cos(phi))*sin(rho)*cos(theta) + sigma_3*(sin(phi)*sin(rho) + sin(theta)*cos(phi)*cos(rho))*cos(rho)*cos(theta))*cos(delta)*cos(xi) + (sigma_1*(cos(phi - 2*theta) - cos(phi + 2*theta))/4 - sigma_2*(sin(phi)*sin(rho)*sin(theta) - 2*sin(rho/2)**2*cos(phi) + cos(phi))*sin(rho)*cos(theta) + sigma_3*(-sin(phi)*sin(theta)*cos(rho) + sin(rho)*cos(phi))*cos(rho)*cos(theta))*sin(xi) - (sigma_1*sin(theta)**2 + sigma_2*sin(rho)**2*cos(theta)**2 + sigma_3*cos(rho)**2*cos(theta)**2)*sin(delta)*cos(xi))*cos(delta))**2) + (-(-(-sigma_1*(-sin(phi - 2*theta) + sin(phi + 2*theta))/4 - sigma_2*(-2*sin(phi)*sin(rho/2)**2 + sin(phi) - sin(rho)*sin(theta)*cos(phi))*sin(rho)*cos(theta) + sigma_3*(sin(phi)*sin(rho) + sin(theta)*cos(phi)*cos(rho))*cos(rho)*cos(theta))*sin(delta)*cos(xi) + (sigma_1*cos(phi)**2*cos(theta)**2 + sigma_2*(-2*sin(phi)*cos(rho/2)**2 + sin(phi) + sin(rho)*sin(theta)*cos(phi))**2 + sigma_3*(sin(phi)*sin(rho) + sin(theta)*cos(phi)*cos(rho))**2)*cos(delta)*cos(xi) + (-sigma_1*sin(phi)*cos(phi)*cos(theta)**2 + sigma_2*(-2*sin(phi)*sin(rho/2)**2 + sin(phi) - sin(rho)*sin(theta)*cos(phi))*(sin(phi)*sin(rho)*sin(theta) - 2*sin(rho/2)**2*cos(phi) + cos(phi)) + sigma_3*(sin(phi)*sin(rho) + sin(theta)*cos(phi)*cos(rho))*(-sin(phi)*sin(theta)*cos(rho) + sin(rho)*cos(phi)))*sin(xi))*sin(delta) - ((-sigma_1*(-sin(phi - 2*theta) + sin(phi + 2*theta))/4 - sigma_2*(-2*sin(phi)*sin(rho/2)**2 + sin(phi) - sin(rho)*sin(theta)*cos(phi))*sin(rho)*cos(theta) + sigma_3*(sin(phi)*sin(rho) + sin(theta)*cos(phi)*cos(rho))*cos(rho)*cos(theta))*cos(delta)*cos(xi) + (sigma_1*(cos(phi - 2*theta) - cos(phi + 2*theta))/4 - sigma_2*(sin(phi)*sin(rho)*sin(theta) - 2*sin(rho/2)**2*cos(phi) + cos(phi))*sin(rho)*cos(theta) + sigma_3*(-sin(phi)*sin(theta)*cos(rho) + sin(rho)*cos(phi))*cos(rho)*cos(theta))*sin(xi) - (sigma_1*sin(theta)**2 + sigma_2*sin(rho)**2*cos(theta)**2 + sigma_3*cos(rho)**2*cos(theta)**2)*sin(delta)*cos(xi))*cos(delta))*(-((-sigma_1*(-sin(phi - 2*theta) + sin(phi + 2*theta))/4 - sigma_2*(-2*sin(phi)*sin(rho/2)**2 + sin(phi) - sin(rho)*sin(theta)*cos(phi))*sin(rho)*cos(theta) + sigma_3*(sin(phi)*sin(rho) + sin(theta)*cos(phi)*cos(rho))*cos(rho)*cos(theta))*sin(delta)*sin(xi) + (sigma_1*sin(theta)**2 + sigma_2*sin(rho)**2*cos(theta)**2 + sigma_3*cos(rho)**2*cos(theta)**2)*sin(xi)*cos(delta))*cos(delta) - ((-sigma_1*(-sin(phi - 2*theta) + sin(phi + 2*theta))/4 - sigma_2*(-2*sin(phi)*sin(rho/2)**2 + sin(phi) - sin(rho)*sin(theta)*cos(phi))*sin(rho)*cos(theta) + sigma_3*(sin(phi)*sin(rho) + sin(theta)*cos(phi)*cos(rho))*cos(rho)*cos(theta))*sin(xi)*cos(delta) + (sigma_1*cos(phi)**2*cos(theta)**2 + sigma_2*(-2*sin(phi)*cos(rho/2)**2 + sin(phi) + sin(rho)*sin(theta)*cos(phi))**2 + sigma_3*(sin(phi)*sin(rho) + sin(theta)*cos(phi)*cos(rho))**2)*sin(delta)*sin(xi))*sin(delta) - ((-sigma_1*(-sin(phi - 2*theta) + sin(phi + 2*theta))/4 - sigma_2*(-2*sin(phi)*sin(rho/2)**2 + sin(phi) - sin(rho)*sin(theta)*cos(phi))*sin(rho)*cos(theta) + sigma_3*(sin(phi)*sin(rho) + sin(theta)*cos(phi)*cos(rho))*cos(rho)*cos(theta))*sin(delta)*sin(xi) - (sigma_1*cos(phi)**2*cos(theta)**2 + sigma_2*(-2*sin(phi)*cos(rho/2)**2 + sin(phi) + sin(rho)*sin(theta)*cos(phi))**2 + sigma_3*(sin(phi)*sin(rho) + sin(theta)*cos(phi)*cos(rho))**2)*sin(xi)*cos(delta) + (-sigma_1*sin(phi)*cos(phi)*cos(theta)**2 + sigma_2*(-2*sin(phi)*sin(rho/2)**2 + sin(phi) - sin(rho)*sin(theta)*cos(phi))*(sin(phi)*sin(rho)*sin(theta) - 2*sin(rho/2)**2*cos(phi) + cos(phi)) + sigma_3*(sin(phi)*sin(rho) + sin(theta)*cos(phi)*cos(rho))*(-sin(phi)*sin(theta)*cos(rho) + sin(rho)*cos(phi)))*cos(xi))*cos(delta) + (-(-sigma_1*(-sin(phi - 2*theta) + sin(phi + 2*theta))/4 - sigma_2*(-2*sin(phi)*sin(rho/2)**2 + sin(phi) - sin(rho)*sin(theta)*cos(phi))*sin(rho)*cos(theta) + sigma_3*(sin(phi)*sin(rho) + sin(theta)*cos(phi)*cos(rho))*cos(rho)*cos(theta))*sin(xi)*cos(delta) + (sigma_1*(cos(phi - 2*theta) - cos(phi + 2*theta))/4 - sigma_2*(sin(phi)*sin(rho)*sin(theta) - 2*sin(rho/2)**2*cos(phi) + cos(phi))*sin(rho)*cos(theta) + sigma_3*(-sin(phi)*sin(theta)*cos(rho) + sin(rho)*cos(phi))*cos(rho)*cos(theta))*cos(xi) + (sigma_1*sin(theta)**2 + sigma_2*sin(rho)**2*cos(theta)**2 + sigma_3*cos(rho)**2*cos(theta)**2)*sin(delta)*sin(xi))*sin(delta))/((-((-sigma_1*(-sin(phi - 2*theta) + sin(phi + 2*theta))/4 - sigma_2*(-2*sin(phi)*sin(rho/2)**2 + sin(phi) - sin(rho)*sin(theta)*cos(phi))*sin(rho)*cos(theta) + sigma_3*(sin(phi)*sin(rho) + sin(theta)*cos(phi)*cos(rho))*cos(rho)*cos(theta))*sin(delta)*sin(xi) - (sigma_1*cos(phi)**2*cos(theta)**2 + sigma_2*(-2*sin(phi)*cos(rho/2)**2 + sin(phi) + sin(rho)*sin(theta)*cos(phi))**2 + sigma_3*(sin(phi)*sin(rho) + sin(theta)*cos(phi)*cos(rho))**2)*sin(xi)*cos(delta) + (-sigma_1*sin(phi)*cos(phi)*cos(theta)**2 + sigma_2*(-2*sin(phi)*sin(rho/2)**2 + sin(phi) - sin(rho)*sin(theta)*cos(phi))*(sin(phi)*sin(rho)*sin(theta) - 2*sin(rho/2)**2*cos(phi) + cos(phi)) + sigma_3*(sin(phi)*sin(rho) + sin(theta)*cos(phi)*cos(rho))*(-sin(phi)*sin(theta)*cos(rho) + sin(rho)*cos(phi)))*cos(xi))*sin(delta) - (-(-sigma_1*(-sin(phi - 2*theta) + sin(phi + 2*theta))/4 - sigma_2*(-2*sin(phi)*sin(rho/2)**2 + sin(phi) - sin(rho)*sin(theta)*cos(phi))*sin(rho)*cos(theta) + sigma_3*(sin(phi)*sin(rho) + sin(theta)*cos(phi)*cos(rho))*cos(rho)*cos(theta))*sin(xi)*cos(delta) + (sigma_1*(cos(phi - 2*theta) - cos(phi + 2*theta))/4 - sigma_2*(sin(phi)*sin(rho)*sin(theta) - 2*sin(rho/2)**2*cos(phi) + cos(phi))*sin(rho)*cos(theta) + sigma_3*(-sin(phi)*sin(theta)*cos(rho) + sin(rho)*cos(phi))*cos(rho)*cos(theta))*cos(xi) + (sigma_1*sin(theta)**2 + sigma_2*sin(rho)**2*cos(theta)**2 + sigma_3*cos(rho)**2*cos(theta)**2)*sin(delta)*sin(xi))*cos(delta))**2 + ((-(-sigma_1*(-sin(phi - 2*theta) + sin(phi + 2*theta))/4 - sigma_2*(-2*sin(phi)*sin(rho/2)**2 + sin(phi) - sin(rho)*sin(theta)*cos(phi))*sin(rho)*cos(theta) + sigma_3*(sin(phi)*sin(rho) + sin(theta)*cos(phi)*cos(rho))*cos(rho)*cos(theta))*sin(delta)*cos(xi) + (sigma_1*cos(phi)**2*cos(theta)**2 + sigma_2*(-2*sin(phi)*cos(rho/2)**2 + sin(phi) + sin(rho)*sin(theta)*cos(phi))**2 + sigma_3*(sin(phi)*sin(rho) + sin(theta)*cos(phi)*cos(rho))**2)*cos(delta)*cos(xi) + (-sigma_1*sin(phi)*cos(phi)*cos(theta)**2 + sigma_2*(-2*sin(phi)*sin(rho/2)**2 + sin(phi) - sin(rho)*sin(theta)*cos(phi))*(sin(phi)*sin(rho)*sin(theta) - 2*sin(rho/2)**2*cos(phi) + cos(phi)) + sigma_3*(sin(phi)*sin(rho) + sin(theta)*cos(phi)*cos(rho))*(-sin(phi)*sin(theta)*cos(rho) + sin(rho)*cos(phi)))*sin(xi))*sin(delta) + ((-sigma_1*(-sin(phi - 2*theta) + sin(phi + 2*theta))/4 - sigma_2*(-2*sin(phi)*sin(rho/2)**2 + sin(phi) - sin(rho)*sin(theta)*cos(phi))*sin(rho)*cos(theta) + sigma_3*(sin(phi)*sin(rho) + sin(theta)*cos(phi)*cos(rho))*cos(rho)*cos(theta))*cos(delta)*cos(xi) + (sigma_1*(cos(phi - 2*theta) - cos(phi + 2*theta))/4 - sigma_2*(sin(phi)*sin(rho)*sin(theta) - 2*sin(rho/2)**2*cos(phi) + cos(phi))*sin(rho)*cos(theta) + sigma_3*(-sin(phi)*sin(theta)*cos(rho) + sin(rho)*cos(phi))*cos(rho)*cos(theta))*sin(xi) - (sigma_1*sin(theta)**2 + sigma_2*sin(rho)**2*cos(theta)**2 + sigma_3*cos(rho)**2*cos(theta)**2)*sin(delta)*cos(xi))*cos(delta))**2)\n",
    "    \n",
    "    return dldd"
   ]
  },
  {
   "cell_type": "code",
   "execution_count": 73,
   "metadata": {},
   "outputs": [
    {
     "name": "stdout",
     "output_type": "stream",
     "text": [
      "5.0\n"
     ]
    }
   ],
   "source": [
    "deriv = drakedphi(sigma_1, sigma_2, sigma_3, phi, theta, rho, xi, delta)\n",
    "print(deriv)"
   ]
  },
  {
   "cell_type": "code",
   "execution_count": 81,
   "metadata": {},
   "outputs": [
    {
     "name": "stdout",
     "output_type": "stream",
     "text": [
      "50.0\n"
     ]
    }
   ],
   "source": [
    "prop_err = np.sqrt((deriv*(10*np.pi/180))**2)\n",
    "print(prop_err*180/np.pi)"
   ]
  },
  {
   "cell_type": "code",
   "execution_count": null,
   "metadata": {
    "collapsed": true
   },
   "outputs": [],
   "source": []
  }
 ],
 "metadata": {
  "kernelspec": {
   "display_name": "Python 3",
   "language": "python",
   "name": "python3"
  },
  "language_info": {
   "codemirror_mode": {
    "name": "ipython",
    "version": 3
   },
   "file_extension": ".py",
   "mimetype": "text/x-python",
   "name": "python",
   "nbconvert_exporter": "python",
   "pygments_lexer": "ipython3",
   "version": "3.6.1"
  }
 },
 "nbformat": 4,
 "nbformat_minor": 2
}
