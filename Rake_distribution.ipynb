{
 "cells": [
  {
   "cell_type": "code",
   "execution_count": 13,
   "metadata": {
    "collapsed": false
   },
   "outputs": [
    {
     "name": "stderr",
     "output_type": "stream",
     "text": [
      "WARNING: Method definition OrderedEigenSystem(Any) in module Main at /cmld/data2/rwcline/Desktop/new_julia_stress_inversion_09262017/StressInvUtils_RWC_09142017.jl:60 overwritten at /cmld/data2/rwcline/Desktop/new_julia_stress_inversion_09262017/FMfcns_RWC072117_fixedauxplane.jl:11.\n",
      "WARNING: Method definition rotation_matrix(Any, Any) in module Main at /cmld/data2/rwcline/Desktop/new_julia_stress_inversion_09262017/FMfcns_RWC072117_fixedauxplane.jl:39 overwritten at /cmld/data2/rwcline/Desktop/new_julia_stress_inversion_09262017/FMfcns_RWC072117_fixedauxplane.jl:39.\n",
      "WARNING: Method definition moment_tensor(Any, Any, Any) in module Main at /cmld/data2/rwcline/Desktop/new_julia_stress_inversion_09262017/FMfcns_RWC072117_fixedauxplane.jl:55 overwritten at /cmld/data2/rwcline/Desktop/new_julia_stress_inversion_09262017/FMfcns_RWC072117_fixedauxplane.jl:55.\n",
      "WARNING: Method definition moment_tensor_2_PTN(Any) in module Main at /cmld/data2/rwcline/Desktop/new_julia_stress_inversion_09262017/FMfcns_RWC072117_fixedauxplane.jl:71 overwritten at /cmld/data2/rwcline/Desktop/new_julia_stress_inversion_09262017/FMfcns_RWC072117_fixedauxplane.jl:71.\n",
      "WARNING: Method definition PTN_2_fault_geometry(Any, Any, Any) in module Main at /cmld/data2/rwcline/Desktop/new_julia_stress_inversion_09262017/FMfcns_RWC072117_fixedauxplane.jl:85 overwritten at /cmld/data2/rwcline/Desktop/new_julia_stress_inversion_09262017/FMfcns_RWC072117_fixedauxplane.jl:85.\n",
      "WARNING: Method definition fault_rotation(Any, Any) in module Main at /cmld/data2/rwcline/Desktop/new_julia_stress_inversion_09262017/FMfcns_RWC072117_fixedauxplane.jl:96 overwritten at /cmld/data2/rwcline/Desktop/new_julia_stress_inversion_09262017/FMfcns_RWC072117_fixedauxplane.jl:96.\n",
      "WARNING: Method definition strike_dip(Any) in module Main at /cmld/data2/rwcline/Desktop/new_julia_stress_inversion_09262017/FMfcns_RWC072117_fixedauxplane.jl:118 overwritten at /cmld/data2/rwcline/Desktop/new_julia_stress_inversion_09262017/FMfcns_RWC072117_fixedauxplane.jl:118.\n",
      "WARNING: Method definition calc_rake(Any, Any) in module Main at /cmld/data2/rwcline/Desktop/new_julia_stress_inversion_09262017/FMfcns_RWC072117_fixedauxplane.jl:143 overwritten at /cmld/data2/rwcline/Desktop/new_julia_stress_inversion_09262017/FMfcns_RWC072117_fixedauxplane.jl:143.\n",
      "WARNING: Method definition fault_parameters_2_nodal_planes(Any, Any, Any) in module Main at /cmld/data2/rwcline/Desktop/new_julia_stress_inversion_09262017/FMfcns_RWC072117_fixedauxplane.jl:169 overwritten at /cmld/data2/rwcline/Desktop/new_julia_stress_inversion_09262017/FMfcns_RWC072117_fixedauxplane.jl:169.\n",
      "WARNING: Method definition flatten_and_stack(Any, Any) in module Main at /cmld/data2/rwcline/Desktop/new_julia_stress_inversion_09262017/StressInvUtils_RWC_09142017.jl:33 overwritten at /cmld/data2/rwcline/Desktop/new_julia_stress_inversion_09262017/StressInvUtils_RWC_09142017.jl:33.\n",
      "WARNING: Method definition OrderedEigenSystem(Any) in module Main at /cmld/data2/rwcline/Desktop/new_julia_stress_inversion_09262017/FMfcns_RWC072117_fixedauxplane.jl:11 overwritten at /cmld/data2/rwcline/Desktop/new_julia_stress_inversion_09262017/StressInvUtils_RWC_09142017.jl:60.\n",
      "WARNING: Method definition GetParam(Any, Any, Any, Any) in module Main at /cmld/data2/rwcline/Desktop/new_julia_stress_inversion_09262017/StressInvUtils_RWC_09142017.jl:92 overwritten at /cmld/data2/rwcline/Desktop/new_julia_stress_inversion_09262017/StressInvUtils_RWC_09142017.jl:92.\n",
      "WARNING: Method definition writebin(Any, Any) in module Main at /cmld/data2/rwcline/Desktop/new_julia_stress_inversion_09262017/StressInvUtils_RWC_09142017.jl:108 overwritten at /cmld/data2/rwcline/Desktop/new_julia_stress_inversion_09262017/StressInvUtils_RWC_09142017.jl:108.\n",
      "WARNING: Method definition EstimateKappa(Any) in module Main at /cmld/data2/rwcline/Desktop/new_julia_stress_inversion_09262017/StressInvUtils_RWC_09142017.jl:131 overwritten at /cmld/data2/rwcline/Desktop/new_julia_stress_inversion_09262017/StressInvUtils_RWC_09142017.jl:131.\n",
      "WARNING: Method definition rotation_matrix_stress_utils(Any, Any) in module Main at /cmld/data2/rwcline/Desktop/new_julia_stress_inversion_09262017/StressInvUtils_RWC_09142017.jl:155 overwritten at /cmld/data2/rwcline/Desktop/new_julia_stress_inversion_09262017/StressInvUtils_RWC_09142017.jl:155.\n",
      "WARNING: Method definition FaultOrientation_Matrix(Any, Any) in module Main at /cmld/data2/rwcline/Desktop/new_julia_stress_inversion_09262017/StressInvUtils_RWC_09142017.jl:339 overwritten at /cmld/data2/rwcline/Desktop/new_julia_stress_inversion_09262017/StressInvUtils_RWC_09142017.jl:339.\n",
      "WARNING: Method definition StressOrientation_Matrix(Any, Any, Any) in module Main at /cmld/data2/rwcline/Desktop/new_julia_stress_inversion_09262017/StressInvUtils_RWC_09142017.jl:352 overwritten at /cmld/data2/rwcline/Desktop/new_julia_stress_inversion_09262017/StressInvUtils_RWC_09142017.jl:352.\n",
      "WARNING: Method definition Resolve_ShearStressDir(Any, Any, Any) in module Main at /cmld/data2/rwcline/Desktop/new_julia_stress_inversion_09262017/StressInvUtils_RWC_09142017.jl:381 overwritten at /cmld/data2/rwcline/Desktop/new_julia_stress_inversion_09262017/StressInvUtils_RWC_09142017.jl:381.\n",
      "WARNING: Method definition Resolve_StressTensorOnFault(Any, Any, Any) in module Main at /cmld/data2/rwcline/Desktop/new_julia_stress_inversion_09262017/StressInvUtils_RWC_09142017.jl:421 overwritten at /cmld/data2/rwcline/Desktop/new_julia_stress_inversion_09262017/StressInvUtils_RWC_09142017.jl:421.\n",
      "WARNING: Method definition SphereStep(Any, Any, Any) in module Main at /cmld/data2/rwcline/Desktop/new_julia_stress_inversion_09262017/StressInvUtils_RWC_09142017.jl:518 overwritten at /cmld/data2/rwcline/Desktop/new_julia_stress_inversion_09262017/StressInvUtils_RWC_09142017.jl:518.\n",
      "WARNING: Method definition StressStep(Any, Any, Any, Any) in module Main at /cmld/data2/rwcline/Desktop/new_julia_stress_inversion_09262017/StressInvUtils_RWC_09142017.jl:554 overwritten at /cmld/data2/rwcline/Desktop/new_julia_stress_inversion_09262017/StressInvUtils_RWC_09142017.jl:554.\n",
      "WARNING: Method definition SphericalCoords(Any) in module Main at /cmld/data2/rwcline/Desktop/new_julia_stress_inversion_09262017/StressInvUtils_RWC_09142017.jl:618 overwritten at /cmld/data2/rwcline/Desktop/new_julia_stress_inversion_09262017/StressInvUtils_RWC_09142017.jl:618.\n",
      "WARNING: Method definition Compute_StressPtsAngles(Any) in module Main at /cmld/data2/rwcline/Desktop/new_julia_stress_inversion_09262017/StressInvUtils_RWC_09142017.jl:640 overwritten at /cmld/data2/rwcline/Desktop/new_julia_stress_inversion_09262017/StressInvUtils_RWC_09142017.jl:640.\n",
      "WARNING: Method definition Compute_StressPtsAng_PStress(Any, Any, Any) in module Main at /cmld/data2/rwcline/Desktop/new_julia_stress_inversion_09262017/StressInvUtils_RWC_09142017.jl:708 overwritten at /cmld/data2/rwcline/Desktop/new_julia_stress_inversion_09262017/StressInvUtils_RWC_09142017.jl:708.\n",
      "WARNING: Method definition LambertProjectS2(Any) in module Main at /cmld/data2/rwcline/Desktop/new_julia_stress_inversion_09262017/StressInvUtils_RWC_09142017.jl:807 overwritten at /cmld/data2/rwcline/Desktop/new_julia_stress_inversion_09262017/StressInvUtils_RWC_09142017.jl:807.\n",
      "WARNING: Method definition rotation_to_euler(Any) in module Main at /cmld/data2/rwcline/Desktop/new_julia_stress_inversion_09262017/StressInvUtils_RWC_09142017.jl:880 overwritten at /cmld/data2/rwcline/Desktop/new_julia_stress_inversion_09262017/StressInvUtils_RWC_09142017.jl:820.\n",
      "WARNING: Method definition standard_rotation_matrix(Any, Any, Any) in module Main at /cmld/data2/rwcline/Desktop/new_julia_stress_inversion_09262017/StressInvUtils_RWC_09142017.jl:923 overwritten at /cmld/data2/rwcline/Desktop/new_julia_stress_inversion_09262017/StressInvUtils_RWC_09142017.jl:863.\n",
      "WARNING: Method definition rotation_to_euler(Any) in module Main at /cmld/data2/rwcline/Desktop/new_julia_stress_inversion_09262017/StressInvUtils_RWC_09142017.jl:820 overwritten at /cmld/data2/rwcline/Desktop/new_julia_stress_inversion_09262017/StressInvUtils_RWC_09142017.jl:880.\n",
      "WARNING: Method definition standard_rotation_matrix(Any, Any, Any) in module Main at /cmld/data2/rwcline/Desktop/new_julia_stress_inversion_09262017/StressInvUtils_RWC_09142017.jl:863 overwritten at /cmld/data2/rwcline/Desktop/new_julia_stress_inversion_09262017/StressInvUtils_RWC_09142017.jl:923.\n",
      "WARNING: Method definition starting_direction(Any) in module Main at /cmld/data2/rwcline/Desktop/new_julia_stress_inversion_09262017/StressInvUtils_RWC_09142017.jl:936 overwritten at /cmld/data2/rwcline/Desktop/new_julia_stress_inversion_09262017/StressInvUtils_RWC_09142017.jl:936.\n"
     ]
    }
   ],
   "source": [
    "include(\"FMfcns_RWC072117_fixedauxplane.jl\");\n",
    "include(\"StressInvUtils_RWC_09142017.jl\");\n",
    "using Distributions;\n",
    "using DataFrames;\n",
    "using PyPlot;"
   ]
  },
  {
   "cell_type": "code",
   "execution_count": 178,
   "metadata": {
    "collapsed": false
   },
   "outputs": [
    {
     "name": "stdout",
     "output_type": "stream",
     "text": [
      "[0.0,-90.0,-135.0]\n",
      "[0.0 -135.0 -90.0]\n"
     ]
    }
   ],
   "source": [
    "strike, dip, rake = 45, 45, -90\n",
    "fp = [strike dip rake].*pi/180\n",
    "\n",
    "M = moment_tensor(fp[1], fp[2], fp[3])\n",
    "P, N, T = moment_tensor_2_PTN(M)\n",
    "rotm = [P N T]\n",
    "angles = rotation_to_euler(rotm)\n",
    "sangles = reverse(angles[:, 1])\n",
    "println(sangles*180/pi)\n",
    "sangles1 = [sangles[1] sangles[3] sangles[2]]\n",
    "println(sangles1*180/pi)\n",
    "\n",
    "sigma_dip = deg2rad(20);\n",
    "sigma_rake = deg2rad(10);\n",
    "\n",
    "kappa_dip = EstimateKappa(sigma_dip);\n",
    "kappa_rake = EstimateKappa(sigma_rake);\n"
   ]
  },
  {
   "cell_type": "code",
   "execution_count": 179,
   "metadata": {
    "collapsed": false
   },
   "outputs": [],
   "source": [
    "ndips = 10^6;\n",
    "v_dist = VonMises(fp[2], kappa_dip);\n",
    "sampled_dips = rand(v_dist, ndips);\n",
    "\n",
    "v_dist1 = VonMises(fp[3], kappa_rake);\n",
    "sampled_rakes = rand(v_dist1, ndips);\n",
    "\n",
    "pred_rakes = zeros(1, ndips)\n",
    "\n",
    "for i = 1:ndips\n",
    "    \n",
    "    pred_rakes[1, i] = Resolve_ShearStressDir(vec([-1 -1/2 -1/4]), sangles, vec([fp[1] sampled_dips[i]]))\n",
    "    \n",
    "end\n",
    "\n"
   ]
  },
  {
   "cell_type": "code",
   "execution_count": 180,
   "metadata": {
    "collapsed": false
   },
   "outputs": [],
   "source": [
    "output = hcat(pred_rakes[1, :], sampled_rakes, sampled_dips);\n",
    "writedlm(\"/home/rwcline/Desktop/new_julia_stress_inversion_09262017/VM_analysis.txt\", output, \",\")\n"
   ]
  },
  {
   "cell_type": "code",
   "execution_count": 181,
   "metadata": {
    "collapsed": false
   },
   "outputs": [
    {
     "data": {
      "text/plain": [
       "-85.28705999999977"
      ]
     },
     "execution_count": 181,
     "metadata": {},
     "output_type": "execute_result"
    }
   ],
   "source": [
    "mean(pred_rakes[1, :])*180/pi"
   ]
  },
  {
   "cell_type": "code",
   "execution_count": 182,
   "metadata": {
    "collapsed": false
   },
   "outputs": [
    {
     "data": {
      "text/plain": [
       "(1,1000000)"
      ]
     },
     "execution_count": 182,
     "metadata": {},
     "output_type": "execute_result"
    }
   ],
   "source": [
    "size(pred_rakes)"
   ]
  },
  {
   "cell_type": "code",
   "execution_count": 185,
   "metadata": {
    "collapsed": false
   },
   "outputs": [
    {
     "data": {
      "text/plain": [
       "-90.00000000000001"
      ]
     },
     "execution_count": 185,
     "metadata": {},
     "output_type": "execute_result"
    }
   ],
   "source": [
    "synthetic = Resolve_ShearStressDir(vec([-1 -1/2 -1/4]), vec([0 -pi/2 (-135*pi/180)]), vec([pi/4 pi/4]))*180/pi"
   ]
  },
  {
   "cell_type": "code",
   "execution_count": null,
   "metadata": {
    "collapsed": true
   },
   "outputs": [],
   "source": []
  }
 ],
 "metadata": {
  "kernelspec": {
   "display_name": "Julia 0.5.0",
   "language": "julia",
   "name": "julia-0.5"
  },
  "language_info": {
   "file_extension": ".jl",
   "mimetype": "application/julia",
   "name": "julia",
   "version": "0.5.2"
  }
 },
 "nbformat": 4,
 "nbformat_minor": 1
}
