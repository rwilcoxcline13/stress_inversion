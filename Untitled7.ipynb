{
 "cells": [
  {
   "cell_type": "code",
   "execution_count": 51,
   "metadata": {
    "collapsed": false
   },
   "outputs": [
    {
     "name": "stderr",
     "output_type": "stream",
     "text": [
      "WARNING: Method definition OrderedEigenSystem(Any) in module Main at /cmld/data2/rwcline/Desktop/StressInvUtils_RWC_09142017.jl:60 overwritten at /cmld/data2/rwcline/Desktop/FMfcns_RWC072117_fixedauxplane.jl:11.\n",
      "WARNING: Method definition rotation_matrix(Any, Any) in module Main at /cmld/data2/rwcline/Desktop/FMfcns_RWC072117_fixedauxplane.jl:39 overwritten at /cmld/data2/rwcline/Desktop/FMfcns_RWC072117_fixedauxplane.jl:39.\n",
      "WARNING: Method definition moment_tensor(Any, Any, Any) in module Main at /cmld/data2/rwcline/Desktop/FMfcns_RWC072117_fixedauxplane.jl:55 overwritten at /cmld/data2/rwcline/Desktop/FMfcns_RWC072117_fixedauxplane.jl:55.\n",
      "WARNING: Method definition moment_tensor_2_PTN(Any) in module Main at /cmld/data2/rwcline/Desktop/FMfcns_RWC072117_fixedauxplane.jl:71 overwritten at /cmld/data2/rwcline/Desktop/FMfcns_RWC072117_fixedauxplane.jl:71.\n",
      "WARNING: Method definition PTN_2_fault_geometry(Any, Any, Any) in module Main at /cmld/data2/rwcline/Desktop/FMfcns_RWC072117_fixedauxplane.jl:85 overwritten at /cmld/data2/rwcline/Desktop/FMfcns_RWC072117_fixedauxplane.jl:85.\n",
      "WARNING: Method definition fault_rotation(Any, Any) in module Main at /cmld/data2/rwcline/Desktop/FMfcns_RWC072117_fixedauxplane.jl:96 overwritten at /cmld/data2/rwcline/Desktop/FMfcns_RWC072117_fixedauxplane.jl:96.\n",
      "WARNING: Method definition strike_dip(Any) in module Main at /cmld/data2/rwcline/Desktop/FMfcns_RWC072117_fixedauxplane.jl:118 overwritten at /cmld/data2/rwcline/Desktop/FMfcns_RWC072117_fixedauxplane.jl:118.\n",
      "WARNING: Method definition calc_rake(Any, Any) in module Main at /cmld/data2/rwcline/Desktop/FMfcns_RWC072117_fixedauxplane.jl:143 overwritten at /cmld/data2/rwcline/Desktop/FMfcns_RWC072117_fixedauxplane.jl:143.\n",
      "WARNING: Method definition fault_parameters_2_nodal_planes(Any, Any, Any) in module Main at /cmld/data2/rwcline/Desktop/FMfcns_RWC072117_fixedauxplane.jl:169 overwritten at /cmld/data2/rwcline/Desktop/FMfcns_RWC072117_fixedauxplane.jl:169.\n",
      "WARNING: Method definition flatten_and_stack(Any, Any) in module Main at /cmld/data2/rwcline/Desktop/StressInvUtils_RWC_09142017.jl:33 overwritten at /cmld/data2/rwcline/Desktop/StressInvUtils_RWC_09142017.jl:33.\n",
      "WARNING: Method definition OrderedEigenSystem(Any) in module Main at /cmld/data2/rwcline/Desktop/FMfcns_RWC072117_fixedauxplane.jl:11 overwritten at /cmld/data2/rwcline/Desktop/StressInvUtils_RWC_09142017.jl:60.\n",
      "WARNING: Method definition GetParam(Any, Any, Any, Any) in module Main at /cmld/data2/rwcline/Desktop/StressInvUtils_RWC_09142017.jl:92 overwritten at /cmld/data2/rwcline/Desktop/StressInvUtils_RWC_09142017.jl:92.\n",
      "WARNING: Method definition writebin(Any, Any) in module Main at /cmld/data2/rwcline/Desktop/StressInvUtils_RWC_09142017.jl:108 overwritten at /cmld/data2/rwcline/Desktop/StressInvUtils_RWC_09142017.jl:108.\n",
      "WARNING: Method definition EstimateKappa(Any) in module Main at /cmld/data2/rwcline/Desktop/StressInvUtils_RWC_09142017.jl:131 overwritten at /cmld/data2/rwcline/Desktop/StressInvUtils_RWC_09142017.jl:131.\n",
      "WARNING: Method definition rotation_matrix_stress_utils(Any, Any) in module Main at /cmld/data2/rwcline/Desktop/StressInvUtils_RWC_09142017.jl:155 overwritten at /cmld/data2/rwcline/Desktop/StressInvUtils_RWC_09142017.jl:155.\n",
      "WARNING: Method definition FaultOrientation_Matrix(Any, Any) in module Main at /cmld/data2/rwcline/Desktop/StressInvUtils_RWC_09142017.jl:339 overwritten at /cmld/data2/rwcline/Desktop/StressInvUtils_RWC_09142017.jl:339.\n",
      "WARNING: Method definition StressOrientation_Matrix(Any, Any, Any) in module Main at /cmld/data2/rwcline/Desktop/StressInvUtils_RWC_09142017.jl:352 overwritten at /cmld/data2/rwcline/Desktop/StressInvUtils_RWC_09142017.jl:352.\n",
      "WARNING: Method definition Resolve_ShearStressDir(Any, Any, Any) in module Main at /cmld/data2/rwcline/Desktop/StressInvUtils_RWC_09142017.jl:381 overwritten at /cmld/data2/rwcline/Desktop/StressInvUtils_RWC_09142017.jl:381.\n",
      "WARNING: Method definition Resolve_StressTensorOnFault(Any, Any, Any) in module Main at /cmld/data2/rwcline/Desktop/StressInvUtils_RWC_09142017.jl:420 overwritten at /cmld/data2/rwcline/Desktop/StressInvUtils_RWC_09142017.jl:420.\n",
      "WARNING: Method definition SphereStep(Any, Any, Any) in module Main at /cmld/data2/rwcline/Desktop/StressInvUtils_RWC_09142017.jl:517 overwritten at /cmld/data2/rwcline/Desktop/StressInvUtils_RWC_09142017.jl:517.\n",
      "WARNING: Method definition StressStep(Any, Any, Any, Any) in module Main at /cmld/data2/rwcline/Desktop/StressInvUtils_RWC_09142017.jl:553 overwritten at /cmld/data2/rwcline/Desktop/StressInvUtils_RWC_09142017.jl:553.\n",
      "WARNING: Method definition SphericalCoords(Any) in module Main at /cmld/data2/rwcline/Desktop/StressInvUtils_RWC_09142017.jl:617 overwritten at /cmld/data2/rwcline/Desktop/StressInvUtils_RWC_09142017.jl:617.\n",
      "WARNING: Method definition Compute_StressPtsAngles(Any) in module Main at /cmld/data2/rwcline/Desktop/StressInvUtils_RWC_09142017.jl:639 overwritten at /cmld/data2/rwcline/Desktop/StressInvUtils_RWC_09142017.jl:639.\n",
      "WARNING: Method definition Compute_StressPtsAng_PStress(Any, Any, Any) in module Main at /cmld/data2/rwcline/Desktop/StressInvUtils_RWC_09142017.jl:707 overwritten at /cmld/data2/rwcline/Desktop/StressInvUtils_RWC_09142017.jl:707.\n",
      "WARNING: Method definition LambertProjectS2(Any) in module Main at /cmld/data2/rwcline/Desktop/StressInvUtils_RWC_09142017.jl:806 overwritten at /cmld/data2/rwcline/Desktop/StressInvUtils_RWC_09142017.jl:806.\n",
      "WARNING: Method definition rotation_to_euler(Any) in module Main at /cmld/data2/rwcline/Desktop/StressInvUtils_RWC_09142017.jl:879 overwritten at /cmld/data2/rwcline/Desktop/StressInvUtils_RWC_09142017.jl:819.\n",
      "WARNING: Method definition standard_rotation_matrix(Any, Any, Any) in module Main at /cmld/data2/rwcline/Desktop/StressInvUtils_RWC_09142017.jl:922 overwritten at /cmld/data2/rwcline/Desktop/StressInvUtils_RWC_09142017.jl:862.\n",
      "WARNING: Method definition rotation_to_euler(Any) in module Main at /cmld/data2/rwcline/Desktop/StressInvUtils_RWC_09142017.jl:819 overwritten at /cmld/data2/rwcline/Desktop/StressInvUtils_RWC_09142017.jl:879.\n",
      "WARNING: Method definition standard_rotation_matrix(Any, Any, Any) in module Main at /cmld/data2/rwcline/Desktop/StressInvUtils_RWC_09142017.jl:862 overwritten at /cmld/data2/rwcline/Desktop/StressInvUtils_RWC_09142017.jl:922.\n",
      "WARNING: Method definition starting_direction(Any) in module Main at /cmld/data2/rwcline/Desktop/StressInvUtils_RWC_09142017.jl:935 overwritten at /cmld/data2/rwcline/Desktop/StressInvUtils_RWC_09142017.jl:935.\n"
     ]
    }
   ],
   "source": [
    "include(\"FMfcns_RWC072117_fixedauxplane.jl\");\n",
    "include(\"StressInvUtils_RWC_09142017.jl\");\n",
    "using Distributions;\n",
    "using DataFrames;\n",
    "using PyPlot;"
   ]
  },
  {
   "cell_type": "code",
   "execution_count": 52,
   "metadata": {
    "collapsed": false
   },
   "outputs": [
    {
     "name": "stderr",
     "output_type": "stream",
     "text": [
      "WARNING: Method definition dip_perturbation(Any, Any, Any, Any, Any) in module Main at In[47]:3 overwritten at In[52]:3.\n",
      "WARNING: Method definition strike_perturbation(Any, Any, Any, Any, Any) in module Main at In[47]:31 overwritten at In[52]:31.\n",
      "WARNING: Method definition rake_dist(Any, Any, Any) in module Main at In[47]:60 overwritten at In[52]:60.\n"
     ]
    },
    {
     "data": {
      "text/plain": [
       "rake_dist (generic function with 1 method)"
      ]
     },
     "execution_count": 52,
     "metadata": {},
     "output_type": "execute_result"
    }
   ],
   "source": [
    "function dip_perturbation(strike, dip, rake, dip_uncertainty, ndips)\n",
    "    \n",
    "    fp = [strike dip rake].*pi/180;\n",
    "    M = moment_tensor(fp[1], fp[2], fp[3]);\n",
    "    P, N, T = moment_tensor_2_PTN(M);\n",
    "    rotm = [P N T];\n",
    "    angles = rotation_to_euler(rotm);\n",
    "    sangles = reverse(angles[:, 1]);\n",
    "    sigma_dip = deg2rad(dip_uncertainty);\n",
    "    kappa_dip = EstimateKappa(sigma_dip);\n",
    "    \n",
    "\n",
    "    v_dist = VonMises(fp[2], kappa_dip);\n",
    "    sampled_dips = rand(v_dist, ndips);\n",
    "\n",
    "    pred_rakes_du = zeros(1, ndips)\n",
    "\n",
    "    for i = 1:ndips\n",
    "\n",
    "        pred_rakes_du[1, i] = Resolve_ShearStressDir(vec([-1 -1/2 -1/4]), sangles, vec([fp[1] sampled_dips[i] ]))\n",
    "\n",
    "    end\n",
    "    \n",
    "    return pred_rakes_du\n",
    "    \n",
    "end\n",
    "\n",
    "\n",
    "function strike_perturbation(strike, dip, rake, strike_uncertainty, nstrike)\n",
    "    \n",
    "    fp = [strike dip rake].*pi/180;\n",
    "    M = moment_tensor(fp[1], fp[2], fp[3]);\n",
    "    P, N, T = moment_tensor_2_PTN(M);\n",
    "    rotm = [P N T];\n",
    "    angles = rotation_to_euler(rotm);\n",
    "    sangles = reverse(angles[:, 1]);\n",
    "    sigma_strike = deg2rad(strike_uncertainty);\n",
    "    kappa_strike = EstimateKappa(sigma_strike);\n",
    "    \n",
    "\n",
    "    v_dist = VonMises(fp[2], kappa_strike);\n",
    "    sampled_strike = rand(v_dist, nstrike);\n",
    "\n",
    "\n",
    "    pred_rakes_su = zeros(1, nstrike)\n",
    "\n",
    "    for i = 1:nstrike\n",
    "\n",
    "        pred_rakes_su[1, i] = Resolve_ShearStressDir(vec([-1 -1/2 -1/4]), sangles, vec([sampled_strike[i] fp[2]]))\n",
    "\n",
    "    end\n",
    "    \n",
    "    return pred_rakes_su\n",
    "    \n",
    "end\n",
    "\n",
    "\n",
    "function rake_dist(rake, rake_uncertainty, nrake)\n",
    "    \n",
    "    rake_pert = zeros(1, nrake)\n",
    "    \n",
    "    sigma_rake = deg2rad(rake_uncertainty);\n",
    "    kappa_rake = EstimateKappa(sigma_rake);\n",
    "    \n",
    "    v_dist = VonMises(rake, kappa_rake);\n",
    "    sampled_rake = rand(v_dist, nrake);\n",
    "    rake_pert[1, :] = sampled_rake\n",
    "    \n",
    "    return rake_pert\n",
    "    \n",
    "end\n",
    "    \n",
    "    \n",
    "\n",
    "\n",
    "\n",
    "    \n",
    "    "
   ]
  },
  {
   "cell_type": "code",
   "execution_count": 57,
   "metadata": {
    "collapsed": false
   },
   "outputs": [],
   "source": [
    "pred_rakes_perturbed_dip = dip_perturbation(0, 90, 0, 20, 10^6);\n",
    "pred_rakes_perturbed_strike = strike_perturbation(0, 90, 0 , 20, 10^6);\n",
    "rake_distribution = rake_dist(0, 10, 10^6);\n"
   ]
  },
  {
   "cell_type": "code",
   "execution_count": 58,
   "metadata": {
    "collapsed": false
   },
   "outputs": [],
   "source": [
    "output = hcat(pred_rakes_perturbed_dip[1, :], pred_rakes_perturbed_strike[1, :], rake_distribution[1, :])\n",
    "writedlm(\"/home/rwcline/Desktop/perturbed_fault_plane.txt\", output, \",\")"
   ]
  },
  {
   "cell_type": "code",
   "execution_count": 59,
   "metadata": {
    "collapsed": false
   },
   "outputs": [
    {
     "data": {
      "text/plain": [
       "(1,1000000)"
      ]
     },
     "execution_count": 59,
     "metadata": {},
     "output_type": "execute_result"
    }
   ],
   "source": [
    "size(rake_distribution)\n",
    "size(pred_rakes_perturbed_dip)"
   ]
  },
  {
   "cell_type": "code",
   "execution_count": null,
   "metadata": {
    "collapsed": true
   },
   "outputs": [],
   "source": []
  }
 ],
 "metadata": {
  "kernelspec": {
   "display_name": "Julia 0.5.0",
   "language": "julia",
   "name": "julia-0.5"
  },
  "language_info": {
   "file_extension": ".jl",
   "mimetype": "application/julia",
   "name": "julia",
   "version": "0.5.2"
  }
 },
 "nbformat": 4,
 "nbformat_minor": 1
}
